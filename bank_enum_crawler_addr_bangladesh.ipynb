{
 "cells": [
  {
   "cell_type": "markdown",
   "metadata": {},
   "source": [
    "# ENUM_BANK의 주소를 transferwise 에서 가져오는 Crawler\n",
    "## 수정해야 하는 곳\n",
    "### 3번셀에서 csv파일명 수정\n",
    "### 5번셀에서 크롬드라이버의 경로"
   ]
  },
  {
   "cell_type": "markdown",
   "metadata": {},
   "source": [
    "## 필요한 라이브러리들 인젝션"
   ]
  },
  {
   "cell_type": "code",
   "execution_count": 1,
   "metadata": {},
   "outputs": [],
   "source": [
    "from selenium import webdriver\n",
    "from bs4 import BeautifulSoup\n",
    "import json\n",
    "import pandas as pd\n",
    "import re\n",
    "import time"
   ]
  },
  {
   "cell_type": "markdown",
   "metadata": {},
   "source": [
    "## 셀레늄에 헤더정보 설정 및 헤더리스 설정"
   ]
  },
  {
   "cell_type": "code",
   "execution_count": 2,
   "metadata": {},
   "outputs": [],
   "source": [
    "chrome_options = webdriver.ChromeOptions()\n",
    "chrome_options.add_argument('headless')\n",
    "chrome_options.add_argument('window-size=1920x1080')\n",
    "chrome_options.add_argument(\"disable-gpu\")\n",
    "chrome_options.add_argument(\"user-agent=Mozilla/5.0 (Macintosh; Intel Mac OS X 10_13_6) AppleWebKit/537.36 (KHTML, like Gecko) Chrome/74.0.3729.108 Safari/537.36\")\n",
    "chrome_options.add_argument(\"lang=ko_KR\") # 한국어!"
   ]
  },
  {
   "cell_type": "markdown",
   "metadata": {},
   "source": [
    "## GIVEN\n",
    "### transferwise 에서 csv에 있는 은행명으로 검색할 수 있도록 준비"
   ]
  },
  {
   "cell_type": "code",
   "execution_count": 3,
   "metadata": {},
   "outputs": [],
   "source": [
    "# 크롤링할 csv 파일 만들어서 이곳에서 교체\n",
    "target_country = 'Bangladesh'\n",
    "df_bank = pd.read_csv(target_country + '-Bank.csv')\n",
    "target_list = df_bank.descr"
   ]
  },
  {
   "cell_type": "code",
   "execution_count": 4,
   "metadata": {
    "scrolled": true
   },
   "outputs": [
    {
     "data": {
      "text/plain": [
       "0                    Mutual Trust Bank\n",
       "1                          Agrani Bank\n",
       "2                Al-Arafah Islami Bank\n",
       "3                              AB Bank\n",
       "4                      Bangladesh Bank\n",
       "5             Bangladesh Commerce Bank\n",
       "6               Bangladesh Krishi Bank\n",
       "7             Bangladesh Samabaya Bank\n",
       "8          Bangladesh Development Bank\n",
       "9                           Basic Bank\n",
       "10                           BRAC Bank\n",
       "11                       Bank Al-Falah\n",
       "12                           Bank Asia\n",
       "13                           CITI Bank\n",
       "14           Commercial Bank of Cyclon\n",
       "15                          Dhaka Bank\n",
       "16                   Dutch-Bangla Bank\n",
       "17                        Eastern Bank\n",
       "18                           EXIM Bank\n",
       "19          First Security Islami Bank\n",
       "20                          Habib Bank\n",
       "21    HongKong & Shanghai Banking Corp\n",
       "22                           IFIC Bank\n",
       "23              Islami Bank Bangladesh\n",
       "24                         Jamuna Bank\n",
       "25                         Janata Bank\n",
       "26                     Mercantile Bank\n",
       "27                       National Bank\n",
       "28           National Bank of Pakistan\n",
       "29     National Credit & Commerce Bank\n",
       "30                            One Bank\n",
       "31                          Prime Bank\n",
       "32                         Pubali Bank\n",
       "33        Rajshahi Krishi Unnayan bank\n",
       "34                         Rupali Bank\n",
       "35               Shahjalal Islami Bank\n",
       "36                  Social Islami Bank\n",
       "37                         Sonali Bank\n",
       "38                      SouthEast bank\n",
       "39                       Standard Bank\n",
       "40             Standard Chartered Bank\n",
       "41                 State Bank of India\n",
       "42                       The City Bank\n",
       "43                    ICB Islamic Bank\n",
       "44                    The Premier Bank\n",
       "45                          Trust Bank\n",
       "46              United Commercial Bank\n",
       "47                         Uttara Bank\n",
       "48                          Woori Bank\n",
       "49                 NRB Commercial Bank\n",
       "50                          Union Bank\n",
       "51                           SBAC Bank\n",
       "52                         Meghna Bank\n",
       "53                    The Farmers Bank\n",
       "54                        Midland Bank\n",
       "55                            NRB Bank\n",
       "56                      Modhumoti Bank\n",
       "57                     NRB Global Bank\n",
       "58                       Shimanto Bank\n",
       "Name: descr, dtype: object"
      ]
     },
     "execution_count": 4,
     "metadata": {},
     "output_type": "execute_result"
    }
   ],
   "source": [
    "target_list"
   ]
  },
  {
   "cell_type": "markdown",
   "metadata": {},
   "source": [
    "## 사전 테스트"
   ]
  },
  {
   "cell_type": "code",
   "execution_count": 5,
   "metadata": {},
   "outputs": [],
   "source": [
    "driver = webdriver.Chrome('/Users/arthur/pywork/chromedriver', options=chrome_options)\n",
    "driver.get('https://transferwise.com/gb/swift-codes/banks?country=0&city=0&name=THE+TOHOKU+BANK')\n",
    "soup = BeautifulSoup(driver.page_source,'html.parser')"
   ]
  },
  {
   "cell_type": "code",
   "execution_count": 6,
   "metadata": {},
   "outputs": [
    {
     "name": "stdout",
     "output_type": "stream",
     "text": [
      "The Tohoku Bank, Ltd  :  3-1 Uchimaru Morioka 020 0023, \n"
     ]
    }
   ],
   "source": [
    "tmp_bank = soup.select('div div div div div div ul li div a')\n",
    "tmp_addr = soup.select('div div div div div div ul li small span')\n",
    "\n",
    "print(tmp_bank[0].text, ' : ', tmp_addr[1].text)"
   ]
  },
  {
   "cell_type": "markdown",
   "metadata": {},
   "source": [
    "## WHEN"
   ]
  },
  {
   "cell_type": "code",
   "execution_count": 7,
   "metadata": {},
   "outputs": [
    {
     "name": "stdout",
     "output_type": "stream",
     "text": [
      "0\n",
      "1\n",
      "2\n",
      "3\n",
      "4\n",
      "5\n",
      "6\n",
      "7\n",
      "8\n",
      "9\n",
      "10\n",
      "11\n",
      "12\n",
      "13\n",
      "14\n",
      "15\n",
      "16\n",
      "17\n",
      "18\n",
      "19\n",
      "20\n",
      "21\n",
      "22\n",
      "23\n",
      "24\n",
      "25\n",
      "26\n",
      "27\n",
      "28\n",
      "29\n",
      "30\n",
      "31\n",
      "32\n",
      "33\n",
      "34\n",
      "35\n",
      "36\n",
      "37\n",
      "38\n",
      "39\n",
      "40\n",
      "41\n",
      "42\n",
      "43\n",
      "44\n",
      "45\n",
      "46\n",
      "47\n",
      "48\n",
      "49\n",
      "50\n",
      "51\n",
      "52\n",
      "53\n",
      "54\n",
      "55\n",
      "56\n",
      "57\n",
      "58\n"
     ]
    }
   ],
   "source": [
    "addr = []\n",
    "bank = []\n",
    "url = 'https://transferwise.com/gb/swift-codes/banks?country=313&city=0&name='\n",
    "for idx, bank_name in enumerate(target_list) :\n",
    "    print(idx)\n",
    "    tmp_str = url + bank_name\n",
    "    driver.get(tmp_str)\n",
    "    soup = BeautifulSoup(driver.page_source,'html.parser')\n",
    "    bank.append(soup.select('div div div div div div ul li div a')[0].text)\n",
    "    addr.append(soup.select('div div div div div div ul li small span')[1].text)"
   ]
  },
  {
   "cell_type": "code",
   "execution_count": 9,
   "metadata": {},
   "outputs": [
    {
     "data": {
      "text/html": [
       "<div>\n",
       "<style scoped>\n",
       "    .dataframe tbody tr th:only-of-type {\n",
       "        vertical-align: middle;\n",
       "    }\n",
       "\n",
       "    .dataframe tbody tr th {\n",
       "        vertical-align: top;\n",
       "    }\n",
       "\n",
       "    .dataframe thead th {\n",
       "        text-align: right;\n",
       "    }\n",
       "</style>\n",
       "<table border=\"1\" class=\"dataframe\">\n",
       "  <thead>\n",
       "    <tr style=\"text-align: right;\">\n",
       "      <th></th>\n",
       "      <th>bank</th>\n",
       "      <th>descr</th>\n",
       "      <th>addr</th>\n",
       "    </tr>\n",
       "  </thead>\n",
       "  <tbody>\n",
       "    <tr>\n",
       "      <th>0</th>\n",
       "      <td>Mutual Trust Bank Limited</td>\n",
       "      <td>Mutual Trust Bank</td>\n",
       "      <td>37 Agrabad C/a Chittagong,</td>\n",
       "    </tr>\n",
       "    <tr>\n",
       "      <th>1</th>\n",
       "      <td>Agrani Bank Limited</td>\n",
       "      <td>Agrani Bank</td>\n",
       "      <td>Agrani Bank Bhavan 1000 Dhaka,</td>\n",
       "    </tr>\n",
       "    <tr>\n",
       "      <th>2</th>\n",
       "      <td>Al-arafah Islami Bank Ltd.</td>\n",
       "      <td>Al-Arafah Islami Bank</td>\n",
       "      <td>Rahman Mension 1000 Dhaka,</td>\n",
       "    </tr>\n",
       "    <tr>\n",
       "      <th>3</th>\n",
       "      <td>Agrani Bank Limited</td>\n",
       "      <td>AB Bank</td>\n",
       "      <td>Agrani Bank Bhavan 1000 Dhaka,</td>\n",
       "    </tr>\n",
       "    <tr>\n",
       "      <th>4</th>\n",
       "      <td>Bangladesh Krishi Bank</td>\n",
       "      <td>Bangladesh Bank</td>\n",
       "      <td>Krishi Bank Bhaban 1000 Dhaka,</td>\n",
       "    </tr>\n",
       "  </tbody>\n",
       "</table>\n",
       "</div>"
      ],
      "text/plain": [
       "                         bank                  descr  \\\n",
       "0   Mutual Trust Bank Limited      Mutual Trust Bank   \n",
       "1         Agrani Bank Limited            Agrani Bank   \n",
       "2  Al-arafah Islami Bank Ltd.  Al-Arafah Islami Bank   \n",
       "3         Agrani Bank Limited                AB Bank   \n",
       "4      Bangladesh Krishi Bank        Bangladesh Bank   \n",
       "\n",
       "                              addr  \n",
       "0      37 Agrabad C/a Chittagong,   \n",
       "1  Agrani Bank Bhavan 1000 Dhaka,   \n",
       "2      Rahman Mension 1000 Dhaka,   \n",
       "3  Agrani Bank Bhavan 1000 Dhaka,   \n",
       "4  Krishi Bank Bhaban 1000 Dhaka,   "
      ]
     },
     "execution_count": 9,
     "metadata": {},
     "output_type": "execute_result"
    }
   ],
   "source": [
    "result = {'bank':bank, 'descr':target_list, 'addr':addr}\n",
    "df_result = pd.DataFrame(result)\n",
    "df_result.head()"
   ]
  },
  {
   "cell_type": "code",
   "execution_count": 10,
   "metadata": {},
   "outputs": [],
   "source": [
    "df_result.to_csv(target_country + '.csv', header=False, index=False)"
   ]
  }
 ],
 "metadata": {
  "kernelspec": {
   "display_name": "Python 3",
   "language": "python",
   "name": "python3"
  },
  "language_info": {
   "codemirror_mode": {
    "name": "ipython",
    "version": 3
   },
   "file_extension": ".py",
   "mimetype": "text/x-python",
   "name": "python",
   "nbconvert_exporter": "python",
   "pygments_lexer": "ipython3",
   "version": "3.7.1"
  }
 },
 "nbformat": 4,
 "nbformat_minor": 2
}
