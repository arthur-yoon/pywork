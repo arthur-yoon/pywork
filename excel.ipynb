{
 "cells": [
  {
   "cell_type": "markdown",
   "metadata": {
    "colab_type": "text",
    "id": "nVLYuTWb0lEL"
   },
   "source": [
    "# openpyxl 이용 excel 자동화\n",
    "## 사전 준비\n",
    "### pip install openpyxl"
   ]
  },
  {
   "cell_type": "code",
   "execution_count": 0,
   "metadata": {
    "colab": {},
    "colab_type": "code",
    "id": "L42zxDtB0lEN"
   },
   "outputs": [],
   "source": [
    "import openpyxl"
   ]
  },
  {
   "cell_type": "markdown",
   "metadata": {
    "colab_type": "text",
    "id": "1jpw7gaW0lEQ"
   },
   "source": [
    "## 문서열기"
   ]
  },
  {
   "cell_type": "code",
   "execution_count": 0,
   "metadata": {
    "colab": {},
    "colab_type": "code",
    "id": "s_dELFD00lER"
   },
   "outputs": [],
   "source": [
    "# 기존문서 열기\n",
    "#excel_document = openpyxl.load_workbook('filename.xlsx')\n",
    "# 새문서 만들기\n",
    "wb = openpyxl.Workbook()"
   ]
  },
  {
   "cell_type": "markdown",
   "metadata": {
    "colab_type": "text",
    "id": "JcX1rv4w0lET"
   },
   "source": [
    "### 시트 추가하기\n",
    "#### 같은 이름으로 시트를 추가하면 이름 + 1,2,3..."
   ]
  },
  {
   "cell_type": "code",
   "execution_count": 0,
   "metadata": {
    "colab": {
     "base_uri": "https://localhost:8080/",
     "height": 34
    },
    "colab_type": "code",
    "id": "FCqofEj10lEU",
    "outputId": "76c79846-47dc-4d1f-f36f-bd6f91a5e8c8"
   },
   "outputs": [
    {
     "data": {
      "text/plain": [
       "['Sheet', 'newsheet3', 'sheetname1']"
      ]
     },
     "execution_count": 3,
     "metadata": {
      "tags": []
     },
     "output_type": "execute_result"
    }
   ],
   "source": [
    "#활성시트 찾기\n",
    "sheet = wb.active\n",
    "# 맨 끝에 시트 추가\n",
    "sheet2 = wb.create_sheet('sheetname1')\n",
    "# 1번 위치에 시트추가\n",
    "sheet3 = wb.create_sheet('sheetname2', 1) # 0부터 시작\n",
    "# 시트이름 변경\n",
    "sheet3.title = 'newsheet3'\n",
    "# 시트이름으로 시트찾기\n",
    "sheet3_load = wb['newsheet3']\n",
    "wb.sheetnames"
   ]
  },
  {
   "cell_type": "markdown",
   "metadata": {
    "colab_type": "text",
    "id": "03hWU_CK0lEY"
   },
   "source": [
    "### 셀값 입력하기"
   ]
  },
  {
   "cell_type": "code",
   "execution_count": 0,
   "metadata": {
    "colab": {},
    "colab_type": "code",
    "id": "uWtzPe7e0lEZ",
    "scrolled": true
   },
   "outputs": [],
   "source": [
    "sheet['A1'] = 'a1' # A1 에 a1\n",
    "sheet.cell(row=2, column=1).value = 'a, 2' #A2에 a, 2\n",
    "sheet.cell(row=4, column=2, value=10)\n",
    "\n",
    "sheet['B5'] = 'b5' # B5 에 b1\n",
    "sheet.append([1, 2, 3, 4, 5]) #마지막 row에 추가 A6, B6, C6, D6, E6에 각각 1,2,3,4,5\n",
    "sheet.append(range(5)) #마지막 row에 추가 A6, B6, C6, D6, E6에 각각 1,2,3,4,5\n",
    "\n",
    "wb.save('test2.xlsx')"
   ]
  },
  {
   "cell_type": "code",
   "execution_count": 0,
   "metadata": {
    "colab": {},
    "colab_type": "code",
    "id": "C67yZYv30lEb"
   },
   "outputs": [],
   "source": [
    "for a in range(5):\n",
    "    sheet.cell(row=1, column=a+1).value = 'hello world!' + str(a + 1)"
   ]
  },
  {
   "cell_type": "code",
   "execution_count": 0,
   "metadata": {
    "colab": {
     "base_uri": "https://localhost:8080/",
     "height": 119
    },
    "colab_type": "code",
    "id": "0eRf0GnZ0lEd",
    "outputId": "9e42cb26-4931-4a94-ca8f-1c19ecc22b9e"
   },
   "outputs": [
    {
     "name": "stdout",
     "output_type": "stream",
     "text": [
      "<Cell 'Sheet'.A1>\n",
      "<Cell 'Sheet'.B1>\n",
      "<Cell 'Sheet'.C1>\n",
      "<Cell 'Sheet'.A2>\n",
      "<Cell 'Sheet'.B2>\n",
      "<Cell 'Sheet'.C2>\n"
     ]
    }
   ],
   "source": [
    "#for row in sheet.iter_rows(min_row=1, max_col=3, max_row=2, values_only=True):\n",
    "for row in sheet.iter_rows(min_row=1, max_col=3, max_row=2):\n",
    "    for cell in row:\n",
    "        print(cell)"
   ]
  },
  {
   "cell_type": "code",
   "execution_count": 0,
   "metadata": {
    "colab": {
     "base_uri": "https://localhost:8080/",
     "height": 119
    },
    "colab_type": "code",
    "id": "6MaW16AU0lEg",
    "outputId": "2e4bede6-7256-430c-a6a7-80a7b918c8a5"
   },
   "outputs": [
    {
     "name": "stdout",
     "output_type": "stream",
     "text": [
      "<Cell 'Sheet'.A1>\n",
      "<Cell 'Sheet'.A2>\n",
      "<Cell 'Sheet'.B1>\n",
      "<Cell 'Sheet'.B2>\n",
      "<Cell 'Sheet'.C1>\n",
      "<Cell 'Sheet'.C2>\n"
     ]
    }
   ],
   "source": [
    "for col in sheet.iter_cols(min_row=1, max_col=3, max_row=2):\n",
    "     for cell in col:\n",
    "         print(cell)"
   ]
  },
  {
   "cell_type": "code",
   "execution_count": 0,
   "metadata": {
    "colab": {
     "base_uri": "https://localhost:8080/",
     "height": 34
    },
    "colab_type": "code",
    "id": "4b_Fkjdt0lEj",
    "outputId": "26344f45-fa61-4d36-b637-ce7e330e132e"
   },
   "outputs": [
    {
     "data": {
      "text/plain": [
       "'hello world!1'"
      ]
     },
     "execution_count": 8,
     "metadata": {
      "tags": []
     },
     "output_type": "execute_result"
    }
   ],
   "source": [
    "a = tuple(sheet.rows)\n",
    "a[0][0].value # 0번 row의 0번 컬럼값"
   ]
  },
  {
   "cell_type": "code",
   "execution_count": 0,
   "metadata": {
    "colab": {
     "base_uri": "https://localhost:8080/",
     "height": 34
    },
    "colab_type": "code",
    "id": "Cjwe8Gzp0lEl",
    "outputId": "6eeecf71-8381-4ec2-95ae-b0996fe4853d"
   },
   "outputs": [
    {
     "data": {
      "text/plain": [
       "'hello world!1'"
      ]
     },
     "execution_count": 9,
     "metadata": {
      "tags": []
     },
     "output_type": "execute_result"
    }
   ],
   "source": [
    "b = tuple(sheet.columns)\n",
    "b[0][0].value # 0번 컬럼의 0번 row"
   ]
  },
  {
   "cell_type": "code",
   "execution_count": 0,
   "metadata": {
    "colab": {},
    "colab_type": "code",
    "id": "4O-n77hW0lEn"
   },
   "outputs": [],
   "source": [
    "import datetime\n",
    "sheet['C1'] = datetime.datetime(2019, 5, 15)"
   ]
  },
  {
   "cell_type": "markdown",
   "metadata": {
    "colab_type": "text",
    "id": "vMiSDcjJ0lEp"
   },
   "source": [
    "### 저장"
   ]
  },
  {
   "cell_type": "code",
   "execution_count": 0,
   "metadata": {
    "colab": {},
    "colab_type": "code",
    "id": "1s_Er18K0lEq"
   },
   "outputs": [],
   "source": [
    "wb.save('test2.xlsx')"
   ]
  },
  {
   "cell_type": "code",
   "execution_count": 0,
   "metadata": {
    "colab": {
     "base_uri": "https://localhost:8080/",
     "height": 6001
    },
    "colab_type": "code",
    "id": "Gz5-ngWo0lEs",
    "outputId": "ef2d2f82-1461-409c-9146-9e886ba75c9c"
   },
   "outputs": [
    {
     "data": {
      "text/plain": [
       "frozenset({'ABS',\n",
       "           'ACCRINT',\n",
       "           'ACCRINTM',\n",
       "           'ACOS',\n",
       "           'ACOSH',\n",
       "           'AMORDEGRC',\n",
       "           'AMORLINC',\n",
       "           'AND',\n",
       "           'AREAS',\n",
       "           'ASC',\n",
       "           'ASIN',\n",
       "           'ASINH',\n",
       "           'ATAN',\n",
       "           'ATAN2',\n",
       "           'ATANH',\n",
       "           'AVEDEV',\n",
       "           'AVERAGE',\n",
       "           'AVERAGEA',\n",
       "           'AVERAGEIF',\n",
       "           'AVERAGEIFS',\n",
       "           'BAHTTEXT',\n",
       "           'BESSELI',\n",
       "           'BESSELJ',\n",
       "           'BESSELK',\n",
       "           'BESSELY',\n",
       "           'BETADIST',\n",
       "           'BETAINV',\n",
       "           'BIN2DEC',\n",
       "           'BIN2HEX',\n",
       "           'BIN2OCT',\n",
       "           'BINOMDIST',\n",
       "           'CEILING',\n",
       "           'CELL',\n",
       "           'CHAR',\n",
       "           'CHIDIST',\n",
       "           'CHIINV',\n",
       "           'CHITEST',\n",
       "           'CHOOSE',\n",
       "           'CLEAN',\n",
       "           'CODE',\n",
       "           'COLUMN',\n",
       "           'COLUMNS',\n",
       "           'COMBIN',\n",
       "           'COMPLEX',\n",
       "           'CONCATENATE',\n",
       "           'CONFIDENCE',\n",
       "           'CONVERT',\n",
       "           'CORREL',\n",
       "           'COS',\n",
       "           'COSH',\n",
       "           'COUNT',\n",
       "           'COUNTA',\n",
       "           'COUNTBLANK',\n",
       "           'COUNTIF',\n",
       "           'COUNTIFS',\n",
       "           'COUPDAYBS',\n",
       "           'COUPDAYS',\n",
       "           'COUPDAYSNC',\n",
       "           'COUPNCD',\n",
       "           'COUPNUM',\n",
       "           'COUPPCD',\n",
       "           'COVAR',\n",
       "           'CRITBINOM',\n",
       "           'CUBEKPIMEMBER',\n",
       "           'CUBEMEMBER',\n",
       "           'CUBEMEMBERPROPERTY',\n",
       "           'CUBERANKEDMEMBER',\n",
       "           'CUBESET',\n",
       "           'CUBESETCOUNT',\n",
       "           'CUBEVALUE',\n",
       "           'CUMIPMT',\n",
       "           'CUMPRINC',\n",
       "           'DATE',\n",
       "           'DATEDIF',\n",
       "           'DATEVALUE',\n",
       "           'DAVERAGE',\n",
       "           'DAY',\n",
       "           'DAYS360',\n",
       "           'DB',\n",
       "           'DCOUNT',\n",
       "           'DCOUNTA',\n",
       "           'DDB',\n",
       "           'DEC2BIN',\n",
       "           'DEC2HEX',\n",
       "           'DEC2OCT',\n",
       "           'DEGREES',\n",
       "           'DELTA',\n",
       "           'DEVSQ',\n",
       "           'DGET',\n",
       "           'DISC',\n",
       "           'DMAX',\n",
       "           'DMIN',\n",
       "           'DOLLAR',\n",
       "           'DOLLARDE',\n",
       "           'DOLLARFR',\n",
       "           'DPRODUCT',\n",
       "           'DSTDEV',\n",
       "           'DSTDEVP',\n",
       "           'DSUM',\n",
       "           'DURATION',\n",
       "           'DVAR',\n",
       "           'DVARP',\n",
       "           'ECMA.CEILING',\n",
       "           'EDATE',\n",
       "           'EFFECT',\n",
       "           'EOMONTH',\n",
       "           'ERF',\n",
       "           'ERFC',\n",
       "           'ERROR.TYPE',\n",
       "           'EVEN',\n",
       "           'EXACT',\n",
       "           'EXP',\n",
       "           'EXPONDIST',\n",
       "           'FACT',\n",
       "           'FACTDOUBLE',\n",
       "           'FALSE',\n",
       "           'FDIST',\n",
       "           'FIND',\n",
       "           'FINDB',\n",
       "           'FINV',\n",
       "           'FISHER',\n",
       "           'FISHERINV',\n",
       "           'FIXED',\n",
       "           'FLOOR',\n",
       "           'FORECAST',\n",
       "           'FREQUENCY',\n",
       "           'FTEST',\n",
       "           'FV',\n",
       "           'FVSCHEDULE',\n",
       "           'GAMMADIST',\n",
       "           'GAMMAINV',\n",
       "           'GAMMALN',\n",
       "           'GCD',\n",
       "           'GEOMEAN',\n",
       "           'GESTEP',\n",
       "           'GETPIVOTDATA',\n",
       "           'GROWTH',\n",
       "           'HARMEAN',\n",
       "           'HEX2BIN',\n",
       "           'HEX2DEC',\n",
       "           'HEX2OCT',\n",
       "           'HLOOKUP',\n",
       "           'HOUR',\n",
       "           'HYPERLINK',\n",
       "           'HYPGEOMDIST',\n",
       "           'IF',\n",
       "           'IFERROR',\n",
       "           'IMABS',\n",
       "           'IMAGINARY',\n",
       "           'IMARGUMENT',\n",
       "           'IMCONJUGATE',\n",
       "           'IMCOS',\n",
       "           'IMDIV',\n",
       "           'IMEXP',\n",
       "           'IMLN',\n",
       "           'IMLOG10',\n",
       "           'IMLOG2',\n",
       "           'IMPOWER',\n",
       "           'IMPRODUCT',\n",
       "           'IMREAL',\n",
       "           'IMSIN',\n",
       "           'IMSQRT',\n",
       "           'IMSUB',\n",
       "           'IMSUM',\n",
       "           'INDEX',\n",
       "           'INDIRECT',\n",
       "           'INFO',\n",
       "           'INT',\n",
       "           'INTERCEPT',\n",
       "           'INTRATE',\n",
       "           'IPMT',\n",
       "           'IRR',\n",
       "           'ISBLANK',\n",
       "           'ISERR',\n",
       "           'ISERROR',\n",
       "           'ISEVEN',\n",
       "           'ISLOGICAL',\n",
       "           'ISNA',\n",
       "           'ISNONTEXT',\n",
       "           'ISNUMBER',\n",
       "           'ISO.CEILING',\n",
       "           'ISODD',\n",
       "           'ISPMT',\n",
       "           'ISREF',\n",
       "           'ISTEXT',\n",
       "           'JIS',\n",
       "           'KURT',\n",
       "           'LARGE',\n",
       "           'LCM',\n",
       "           'LEFT',\n",
       "           'LEFTB',\n",
       "           'LEN',\n",
       "           'LENB',\n",
       "           'LINEST',\n",
       "           'LN',\n",
       "           'LOG',\n",
       "           'LOG10',\n",
       "           'LOGEST',\n",
       "           'LOGINV',\n",
       "           'LOGNORMDIST',\n",
       "           'LOOKUP',\n",
       "           'LOWER',\n",
       "           'MATCH',\n",
       "           'MAX',\n",
       "           'MAXA',\n",
       "           'MDETERM',\n",
       "           'MDURATION',\n",
       "           'MEDIAN',\n",
       "           'MID',\n",
       "           'MIDB',\n",
       "           'MIN',\n",
       "           'MINA',\n",
       "           'MINUTE',\n",
       "           'MINVERSE',\n",
       "           'MIRR',\n",
       "           'MMULT',\n",
       "           'MOD',\n",
       "           'MODE',\n",
       "           'MONTH',\n",
       "           'MROUND',\n",
       "           'MULTINOMIAL',\n",
       "           'N',\n",
       "           'NA',\n",
       "           'NEGBINOMDIST',\n",
       "           'NETWORKDAYS',\n",
       "           'NETWORKDAYS.INTL',\n",
       "           'NOMINAL',\n",
       "           'NORMDIST',\n",
       "           'NORMINV',\n",
       "           'NORMSDIST',\n",
       "           'NORMSINV',\n",
       "           'NOT',\n",
       "           'NOW',\n",
       "           'NPER',\n",
       "           'NPV',\n",
       "           'OCT2BIN',\n",
       "           'OCT2DEC',\n",
       "           'OCT2HEX',\n",
       "           'ODD',\n",
       "           'ODDFPRICE',\n",
       "           'ODDFYIELD',\n",
       "           'ODDLPRICE',\n",
       "           'ODDLYIELD',\n",
       "           'OFFSET',\n",
       "           'OR',\n",
       "           'PEARSON',\n",
       "           'PERCENTILE',\n",
       "           'PERCENTRANK',\n",
       "           'PERMUT',\n",
       "           'PHONETIC',\n",
       "           'PI',\n",
       "           'PMT',\n",
       "           'POISSON',\n",
       "           'POWER',\n",
       "           'PPMT',\n",
       "           'PRICE',\n",
       "           'PRICEDISC',\n",
       "           'PRICEMAT',\n",
       "           'PROB',\n",
       "           'PRODUCT',\n",
       "           'PROPER',\n",
       "           'PV',\n",
       "           'QUARTILE',\n",
       "           'QUOTIENT',\n",
       "           'RADIANS',\n",
       "           'RAND',\n",
       "           'RANDBETWEEN',\n",
       "           'RANK',\n",
       "           'RATE',\n",
       "           'RECEIVED',\n",
       "           'REPLACE',\n",
       "           'REPLACEB',\n",
       "           'REPT',\n",
       "           'RIGHT',\n",
       "           'RIGHTB',\n",
       "           'ROMAN',\n",
       "           'ROUND',\n",
       "           'ROUNDDOWN',\n",
       "           'ROUNDUP',\n",
       "           'ROW',\n",
       "           'ROWS',\n",
       "           'RSQ',\n",
       "           'RTD',\n",
       "           'SEARCH',\n",
       "           'SEARCHB',\n",
       "           'SECOND',\n",
       "           'SERIESSUM',\n",
       "           'SIGN',\n",
       "           'SIN',\n",
       "           'SINH',\n",
       "           'SKEW',\n",
       "           'SLN',\n",
       "           'SLOPE',\n",
       "           'SMALL',\n",
       "           'SQRT',\n",
       "           'SQRTPI',\n",
       "           'STANDARDIZE',\n",
       "           'STDEV STDEVA',\n",
       "           'STDEVP',\n",
       "           'STDEVPA STEYX',\n",
       "           'SUBSTITUTE',\n",
       "           'SUBTOTAL',\n",
       "           'SUM',\n",
       "           'SUMIF',\n",
       "           'SUMIFS',\n",
       "           'SUMPRODUCT',\n",
       "           'SUMSQ',\n",
       "           'SUMX2MY2',\n",
       "           'SUMX2PY2',\n",
       "           'SUMXMY2',\n",
       "           'SYD',\n",
       "           'T',\n",
       "           'TAN',\n",
       "           'TANH',\n",
       "           'TBILLEQ',\n",
       "           'TBILLPRICE',\n",
       "           'TBILLYIELD',\n",
       "           'TDIST',\n",
       "           'TEXT',\n",
       "           'TIME',\n",
       "           'TIMEVALUE',\n",
       "           'TINV',\n",
       "           'TODAY',\n",
       "           'TRANSPOSE',\n",
       "           'TREND',\n",
       "           'TRIM',\n",
       "           'TRIMMEAN',\n",
       "           'TRUE ADDRESS',\n",
       "           'TRUNC',\n",
       "           'TTEST',\n",
       "           'TYPE',\n",
       "           'UPPER',\n",
       "           'VALUE',\n",
       "           'VAR',\n",
       "           'VARA',\n",
       "           'VARP',\n",
       "           'VARPA',\n",
       "           'VDB',\n",
       "           'VLOOKUP',\n",
       "           'WEEKDAY',\n",
       "           'WEEKNUM',\n",
       "           'WEIBULL',\n",
       "           'WORKDAY ',\n",
       "           'WORKDAY.INTL',\n",
       "           'XIRR',\n",
       "           'XNPV',\n",
       "           'YEAR',\n",
       "           'YEARFRAC',\n",
       "           'YIELD',\n",
       "           'YIELDDISC',\n",
       "           'YIELDMAT',\n",
       "           'ZTEST'})"
      ]
     },
     "metadata": {
      "tags": []
     },
     "output_type": "display_data"
    }
   ],
   "source": [
    "from openpyxl.utils import FORMULAE\n",
    "display(FORMULAE)"
   ]
  },
  {
   "cell_type": "code",
   "execution_count": 0,
   "metadata": {
    "colab": {},
    "colab_type": "code",
    "id": "vunK-XHv0lEv"
   },
   "outputs": [],
   "source": [
    "sheet[\"A1\"] = \"=SUM(1, 1)\""
   ]
  },
  {
   "cell_type": "code",
   "execution_count": 0,
   "metadata": {
    "colab": {},
    "colab_type": "code",
    "id": "pdhZ-ixR0lE1"
   },
   "outputs": [],
   "source": [
    ""
   ]
  }
 ],
 "metadata": {
  "colab": {
   "name": "excel.ipynb",
   "provenance": [],
   "version": "0.3.2"
  },
  "kernelspec": {
   "display_name": "Python 3",
   "language": "python",
   "name": "python3"
  },
  "language_info": {
   "codemirror_mode": {
    "name": "ipython",
    "version": 3
   },
   "file_extension": ".py",
   "mimetype": "text/x-python",
   "name": "python",
   "nbconvert_exporter": "python",
   "pygments_lexer": "ipython3",
   "version": "3.7.3"
  }
 },
 "nbformat": 4,
 "nbformat_minor": 0
}
