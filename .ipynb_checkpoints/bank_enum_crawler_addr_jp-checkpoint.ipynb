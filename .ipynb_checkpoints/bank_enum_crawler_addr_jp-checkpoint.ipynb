{
 "cells": [
  {
   "cell_type": "markdown",
   "metadata": {},
   "source": [
    "# ENUM_BANK의 주소를 bloomberg 에서 가져오는 Crawler\n",
    "## 수정해야 하는 곳\n",
    "### 3번셀에서 csv파일명 수정\n",
    "### 5번셀에서 크롬드라이버의 경로\n",
    "### "
   ]
  },
  {
   "cell_type": "markdown",
   "metadata": {},
   "source": [
    "## 필요한 라이브러리들 인젝션"
   ]
  },
  {
   "cell_type": "code",
   "execution_count": 1,
   "metadata": {},
   "outputs": [],
   "source": [
    "from selenium import webdriver\n",
    "from bs4 import BeautifulSoup\n",
    "import json\n",
    "import pandas as pd\n",
    "import re\n",
    "import time"
   ]
  },
  {
   "cell_type": "markdown",
   "metadata": {},
   "source": [
    "## 셀레늄에 헤더정보 설정 및 헤더리스 설정"
   ]
  },
  {
   "cell_type": "code",
   "execution_count": 2,
   "metadata": {},
   "outputs": [],
   "source": [
    "chrome_options = webdriver.ChromeOptions()\n",
    "chrome_options.add_argument('headless')\n",
    "chrome_options.add_argument('window-size=1920x1080')\n",
    "chrome_options.add_argument(\"disable-gpu\")\n",
    "chrome_options.add_argument(\"user-agent=Mozilla/5.0 (Macintosh; Intel Mac OS X 10_13_6) AppleWebKit/537.36 (KHTML, like Gecko) Chrome/74.0.3729.108 Safari/537.36\")\n",
    "chrome_options.add_argument(\"lang=ko_KR\") # 한국어!"
   ]
  },
  {
   "cell_type": "markdown",
   "metadata": {},
   "source": [
    "## GIVEN\n",
    "### bing에서 bloomberg company profile + 기업명 검색결과 주소중 첫번째 검색결과 링크를 블룸버그경로로 설정"
   ]
  },
  {
   "cell_type": "code",
   "execution_count": 3,
   "metadata": {},
   "outputs": [],
   "source": [
    "# 크롤링할 csv 파일 만들어서 이곳에서 교체\n",
    "df = pd.read_csv('enum_bank_japan - Sheet 1.csv')\n",
    "df_enum_bank_japan = df\n",
    "target_list = df_enum_bank_japan.descr"
   ]
  },
  {
   "cell_type": "code",
   "execution_count": 5,
   "metadata": {},
   "outputs": [],
   "source": [
    "driver = webdriver.Chrome('/Users/arthur/pywork/chromedriver', options=chrome_options)\n",
    "driver.get('https://transferwise.com/gb/swift-codes/banks?country=0&city=0&name=THE+TOHOKU+BANK')\n",
    "soup = BeautifulSoup(driver.page_source,'html.parser')"
   ]
  },
  {
   "cell_type": "code",
   "execution_count": 6,
   "metadata": {},
   "outputs": [
    {
     "name": "stdout",
     "output_type": "stream",
     "text": [
      "3-1 Uchimaru Morioka 020 0023, \n",
      "The Tohoku Bank, Ltd\n"
     ]
    }
   ],
   "source": [
    "tmp_addr = soup.select('div div div div div div ul li small span')\n",
    "print(tmp_addr[1].text)\n",
    "tmp_bank = soup.select('div div div div div div ul li div a')\n",
    "print(tmp_bank[0].text)"
   ]
  },
  {
   "cell_type": "markdown",
   "metadata": {},
   "source": [
    "## WHEN"
   ]
  },
  {
   "cell_type": "code",
   "execution_count": 7,
   "metadata": {},
   "outputs": [],
   "source": [
    "addr = []\n",
    "bank = []\n",
    "url = 'https://transferwise.com/gb/swift-codes/banks?country=0&city=0&name='\n",
    "descr_list = df_enum_bank_japan.descr\n",
    "for idx, df_data in enumerate(descr_list) :\n",
    "    tmp_str = url + df_data\n",
    "    driver.get(tmp_str)\n",
    "    soup = BeautifulSoup(driver.page_source,'html.parser')\n",
    "    tmp_bank = soup.select('div div div div div div ul li div a')\n",
    "    tmp_addr = soup.select('div div div div div div ul li small span')\n",
    "    bank.append(tmp_bank[0].text)\n",
    "    addr.append(tmp_addr[1].text)"
   ]
  },
  {
   "cell_type": "code",
   "execution_count": 9,
   "metadata": {},
   "outputs": [
    {
     "data": {
      "text/html": [
       "<div>\n",
       "<style scoped>\n",
       "    .dataframe tbody tr th:only-of-type {\n",
       "        vertical-align: middle;\n",
       "    }\n",
       "\n",
       "    .dataframe tbody tr th {\n",
       "        vertical-align: top;\n",
       "    }\n",
       "\n",
       "    .dataframe thead th {\n",
       "        text-align: right;\n",
       "    }\n",
       "</style>\n",
       "<table border=\"1\" class=\"dataframe\">\n",
       "  <thead>\n",
       "    <tr style=\"text-align: right;\">\n",
       "      <th></th>\n",
       "      <th>bank</th>\n",
       "      <th>descr</th>\n",
       "      <th>addr</th>\n",
       "    </tr>\n",
       "  </thead>\n",
       "  <tbody>\n",
       "    <tr>\n",
       "      <th>0</th>\n",
       "      <td>Sbi Sumishin Net Bank, Ltd.</td>\n",
       "      <td>SBI SUMISHIN NET BANK, LTD.</td>\n",
       "      <td>Izumi Garden Tower Tokyo 1066018,</td>\n",
       "    </tr>\n",
       "    <tr>\n",
       "      <th>1</th>\n",
       "      <td>Ping An Bank Co., Ltd. (formerly Shenzhen Deve...</td>\n",
       "      <td>AEON BANK, LTD.</td>\n",
       "      <td>Ping an Bank Co.,Ltd.,Zheng Zhou Br Zhengzhou,</td>\n",
       "    </tr>\n",
       "    <tr>\n",
       "      <th>2</th>\n",
       "      <td>Hokkaido Bank, Ltd., The</td>\n",
       "      <td>THE HOKKAIDO BANK , LTD.</td>\n",
       "      <td>1 Nishi 4-Chome Odori, Sapporo 060-8676,</td>\n",
       "    </tr>\n",
       "    <tr>\n",
       "      <th>3</th>\n",
       "      <td>Aomori Bank Ltd., The</td>\n",
       "      <td>THE AOMORI BANK , LTD.</td>\n",
       "      <td>9-30 Hashimoto 1-Chome Aomori 030-0823,</td>\n",
       "    </tr>\n",
       "    <tr>\n",
       "      <th>4</th>\n",
       "      <td>Michinoku Bank, Ltd., The</td>\n",
       "      <td>THE MICHINOKU BANK , LTD.</td>\n",
       "      <td>1-3-1 Katta Aomori 030-8622,</td>\n",
       "    </tr>\n",
       "  </tbody>\n",
       "</table>\n",
       "</div>"
      ],
      "text/plain": [
       "                                                bank  \\\n",
       "0                        Sbi Sumishin Net Bank, Ltd.   \n",
       "1  Ping An Bank Co., Ltd. (formerly Shenzhen Deve...   \n",
       "2                           Hokkaido Bank, Ltd., The   \n",
       "3                              Aomori Bank Ltd., The   \n",
       "4                          Michinoku Bank, Ltd., The   \n",
       "\n",
       "                         descr  \\\n",
       "0  SBI SUMISHIN NET BANK, LTD.   \n",
       "1              AEON BANK, LTD.   \n",
       "2     THE HOKKAIDO BANK , LTD.   \n",
       "3       THE AOMORI BANK , LTD.   \n",
       "4    THE MICHINOKU BANK , LTD.   \n",
       "\n",
       "                                              addr  \n",
       "0               Izumi Garden Tower Tokyo 1066018,   \n",
       "1  Ping an Bank Co.,Ltd.,Zheng Zhou Br Zhengzhou,   \n",
       "2        1 Nishi 4-Chome Odori, Sapporo 060-8676,   \n",
       "3         9-30 Hashimoto 1-Chome Aomori 030-0823,   \n",
       "4                    1-3-1 Katta Aomori 030-8622,   "
      ]
     },
     "execution_count": 9,
     "metadata": {},
     "output_type": "execute_result"
    }
   ],
   "source": [
    "result = {'bank':bank, 'descr':df_enum_bank_japan.descr, 'addr':addr}\n",
    "df_result = pd.DataFrame(result)\n",
    "df_result.head()"
   ]
  },
  {
   "cell_type": "code",
   "execution_count": 11,
   "metadata": {},
   "outputs": [],
   "source": [
    "df_result.to_csv('tmp.csv', header=False, index=False)"
   ]
  }
 ],
 "metadata": {
  "kernelspec": {
   "display_name": "Python 3",
   "language": "python",
   "name": "python3"
  },
  "language_info": {
   "codemirror_mode": {
    "name": "ipython",
    "version": 3
   },
   "file_extension": ".py",
   "mimetype": "text/x-python",
   "name": "python",
   "nbconvert_exporter": "python",
   "pygments_lexer": "ipython3",
   "version": "3.7.1"
  }
 },
 "nbformat": 4,
 "nbformat_minor": 2
}
