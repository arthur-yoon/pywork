{
 "cells": [
  {
   "cell_type": "markdown",
   "metadata": {
    "colab_type": "text",
    "id": "TnNIRRpDBeM7"
   },
   "source": [
    "# 할당된 장치 및 환경 살펴보기"
   ]
  },
  {
   "cell_type": "code",
   "execution_count": 1,
   "metadata": {
    "colab": {
     "base_uri": "https://localhost:8080/",
     "height": 34
    },
    "colab_type": "code",
    "id": "b2ohtYw5zMW0",
    "outputId": "5aeb5b2f-b829-48fa-a76f-f598cf11ce95"
   },
   "outputs": [
    {
     "name": "stdout",
     "output_type": "stream",
     "text": [
      "Linux 4aec57038455 4.14.79+ #1 SMP Wed Dec 19 21:19:13 PST 2018 x86_64 x86_64 x86_64 GNU/Linux\n"
     ]
    }
   ],
   "source": [
    "!uname -a"
   ]
  },
  {
   "cell_type": "code",
   "execution_count": 2,
   "metadata": {
    "colab": {
     "base_uri": "https://localhost:8080/",
     "height": 445
    },
    "colab_type": "code",
    "id": "aDjNWs7iDtwr",
    "outputId": "800aaca9-0398-4fe9-ac79-a97b687e842b"
   },
   "outputs": [
    {
     "name": "stdout",
     "output_type": "stream",
     "text": [
      "Architecture:        x86_64\n",
      "CPU op-mode(s):      32-bit, 64-bit\n",
      "Byte Order:          Little Endian\n",
      "CPU(s):              2\n",
      "On-line CPU(s) list: 0,1\n",
      "Thread(s) per core:  2\n",
      "Core(s) per socket:  1\n",
      "Socket(s):           1\n",
      "NUMA node(s):        1\n",
      "Vendor ID:           GenuineIntel\n",
      "CPU family:          6\n",
      "Model:               79\n",
      "Model name:          Intel(R) Xeon(R) CPU @ 2.20GHz\n",
      "Stepping:            0\n",
      "CPU MHz:             2200.000\n",
      "BogoMIPS:            4400.00\n",
      "Hypervisor vendor:   KVM\n",
      "Virtualization type: full\n",
      "L1d cache:           32K\n",
      "L1i cache:           32K\n",
      "L2 cache:            256K\n",
      "L3 cache:            56320K\n",
      "NUMA node0 CPU(s):   0,1\n",
      "Flags:               fpu vme de pse tsc msr pae mce cx8 apic sep mtrr pge mca cmov pat pse36 clflush mmx fxsr sse sse2 ss ht syscall nx pdpe1gb rdtscp lm constant_tsc rep_good nopl xtopology nonstop_tsc cpuid tsc_known_freq pni pclmulqdq ssse3 fma cx16 pcid sse4_1 sse4_2 x2apic movbe popcnt aes xsave avx f16c rdrand hypervisor lahf_lm abm 3dnowprefetch invpcid_single pti ssbd ibrs ibpb stibp fsgsbase tsc_adjust bmi1 hle avx2 smep bmi2 erms invpcid rtm rdseed adx smap xsaveopt arat arch_capabilities\n"
     ]
    }
   ],
   "source": [
    "!lscpu"
   ]
  },
  {
   "cell_type": "code",
   "execution_count": 3,
   "metadata": {
    "colab": {
     "base_uri": "https://localhost:8080/",
     "height": 68
    },
    "colab_type": "code",
    "id": "DzYcV18-rK0s",
    "outputId": "c0c44443-4f3c-4508-ed8b-cc24010c6332"
   },
   "outputs": [
    {
     "name": "stdout",
     "output_type": "stream",
     "text": [
      "              total        used        free      shared  buff/cache   available\n",
      "Mem:            12G        411M         10G        908K        1.7G         12G\n",
      "Swap:            0B          0B          0B\n"
     ]
    }
   ],
   "source": [
    "!free -h"
   ]
  },
  {
   "cell_type": "code",
   "execution_count": 0,
   "metadata": {
    "colab": {
     "base_uri": "https://localhost:8080/",
     "height": 306
    },
    "colab_type": "code",
    "id": "5Tj57aoKq9rR",
    "outputId": "338fcb87-b2b6-4435-a679-a1705e30fe67"
   },
   "outputs": [
    {
     "name": "stdout",
     "output_type": "stream",
     "text": [
      "Thu May  2 03:50:37 2019       \n",
      "+-----------------------------------------------------------------------------+\n",
      "| NVIDIA-SMI 418.56       Driver Version: 410.79       CUDA Version: 10.0     |\n",
      "|-------------------------------+----------------------+----------------------+\n",
      "| GPU  Name        Persistence-M| Bus-Id        Disp.A | Volatile Uncorr. ECC |\n",
      "| Fan  Temp  Perf  Pwr:Usage/Cap|         Memory-Usage | GPU-Util  Compute M. |\n",
      "|===============================+======================+======================|\n",
      "|   0  Tesla T4            Off  | 00000000:00:04.0 Off |                    0 |\n",
      "| N/A   61C    P8    17W /  70W |      0MiB / 15079MiB |      0%      Default |\n",
      "+-------------------------------+----------------------+----------------------+\n",
      "                                                                               \n",
      "+-----------------------------------------------------------------------------+\n",
      "| Processes:                                                       GPU Memory |\n",
      "|  GPU       PID   Type   Process name                             Usage      |\n",
      "|=============================================================================|\n",
      "|  No running processes found                                                 |\n",
      "+-----------------------------------------------------------------------------+\n"
     ]
    }
   ],
   "source": [
    "!nvidia-smi"
   ]
  },
  {
   "cell_type": "code",
   "execution_count": 4,
   "metadata": {
    "colab": {
     "base_uri": "https://localhost:8080/",
     "height": 153
    },
    "colab_type": "code",
    "id": "hhiHFxJz89zC",
    "outputId": "b8dc4e88-36dd-4cc0-b487-7084920712be"
   },
   "outputs": [
    {
     "name": "stdout",
     "output_type": "stream",
     "text": [
      "Filesystem      Size  Used Avail Use% Mounted on\n",
      "overlay         359G   24G  317G   7% /\n",
      "tmpfs           6.4G     0  6.4G   0% /dev\n",
      "tmpfs           6.4G     0  6.4G   0% /sys/fs/cgroup\n",
      "/dev/sda1       365G   28G  338G   8% /opt/bin\n",
      "tmpfs           6.4G   12K  6.4G   1% /var/colab\n",
      "shm             6.0G     0  6.0G   0% /dev/shm\n",
      "tmpfs           6.4G     0  6.4G   0% /sys/firmware\n"
     ]
    }
   ],
   "source": [
    "!df -h"
   ]
  },
  {
   "cell_type": "code",
   "execution_count": 5,
   "metadata": {
    "colab": {
     "base_uri": "https://localhost:8080/",
     "height": 34
    },
    "colab_type": "code",
    "id": "id4k47Dd4uGx",
    "outputId": "82a97c33-26f1-4b1a-b50e-a648acfa8c1e"
   },
   "outputs": [
    {
     "name": "stdout",
     "output_type": "stream",
     "text": [
      "/content\n"
     ]
    }
   ],
   "source": [
    "!pwd"
   ]
  },
  {
   "cell_type": "code",
   "execution_count": 6,
   "metadata": {
    "colab": {
     "base_uri": "https://localhost:8080/",
     "height": 6222
    },
    "colab_type": "code",
    "id": "LUr8eXSsy-Kk",
    "outputId": "ba1ee192-71a3-4c42-a75e-325a1bb8d3a9"
   },
   "outputs": [
    {
     "name": "stdout",
     "output_type": "stream",
     "text": [
      "Package                  Version              \n",
      "------------------------ ---------------------\n",
      "absl-py                  0.7.1                \n",
      "alabaster                0.7.12               \n",
      "albumentations           0.1.12               \n",
      "altair                   3.0.0                \n",
      "astor                    0.7.1                \n",
      "astropy                  3.0.5                \n",
      "atari-py                 0.1.7                \n",
      "atomicwrites             1.3.0                \n",
      "attrs                    19.1.0               \n",
      "audioread                2.1.6                \n",
      "autograd                 1.2                  \n",
      "Babel                    2.6.0                \n",
      "backcall                 0.1.0                \n",
      "backports.tempfile       1.0                  \n",
      "backports.weakref        1.0.post1            \n",
      "beautifulsoup4           4.6.3                \n",
      "bleach                   3.1.0                \n",
      "bokeh                    1.0.4                \n",
      "boto                     2.49.0               \n",
      "boto3                    1.9.137              \n",
      "botocore                 1.12.137             \n",
      "Bottleneck               1.2.1                \n",
      "branca                   0.3.1                \n",
      "bs4                      0.0.1                \n",
      "bz2file                  0.98                 \n",
      "cachetools               3.1.0                \n",
      "certifi                  2019.3.9             \n",
      "cffi                     1.12.3               \n",
      "chainer                  5.4.0                \n",
      "chardet                  3.0.4                \n",
      "Click                    7.0                  \n",
      "cloudpickle              0.6.1                \n",
      "cmake                    3.12.0               \n",
      "colorlover               0.3.0                \n",
      "community                1.0.0b1              \n",
      "contextlib2              0.5.5                \n",
      "convertdate              2.1.3                \n",
      "coverage                 3.7.1                \n",
      "coveralls                0.5                  \n",
      "crcmod                   1.7                  \n",
      "cufflinks                0.14.6               \n",
      "cupy-cuda100             5.4.0                \n",
      "cvxopt                   1.2.3                \n",
      "cvxpy                    1.0.15               \n",
      "cycler                   0.10.0               \n",
      "cymem                    2.0.2                \n",
      "Cython                   0.29.7               \n",
      "cytoolz                  0.9.0.1              \n",
      "daft                     0.0.4                \n",
      "dask                     1.1.5                \n",
      "dataclasses              0.6                  \n",
      "datascience              0.10.6               \n",
      "decorator                4.4.0                \n",
      "defusedxml               0.6.0                \n",
      "dill                     0.2.9                \n",
      "distributed              1.25.3               \n",
      "Django                   2.2                  \n",
      "dlib                     19.16.0              \n",
      "dm-sonnet                1.23                 \n",
      "docopt                   0.6.2                \n",
      "docutils                 0.14                 \n",
      "dopamine-rl              1.0.5                \n",
      "easydict                 1.9                  \n",
      "ecos                     2.0.7.post1          \n",
      "editdistance             0.5.3                \n",
      "en-core-web-sm           2.0.0                \n",
      "entrypoints              0.3                  \n",
      "enum34                   1.1.6                \n",
      "ephem                    3.7.6.0              \n",
      "et-xmlfile               1.0.1                \n",
      "fa2                      0.3.5                \n",
      "fancyimpute              0.4.3                \n",
      "fastai                   1.0.52               \n",
      "fastcache                1.0.2                \n",
      "fastdtw                  0.3.2                \n",
      "fastprogress             0.1.21               \n",
      "fastrlock                0.4                  \n",
      "fbprophet                0.4.post2            \n",
      "featuretools             0.4.1                \n",
      "filelock                 3.0.10               \n",
      "fix-yahoo-finance        0.0.22               \n",
      "Flask                    1.0.2                \n",
      "folium                   0.8.3                \n",
      "future                   0.16.0               \n",
      "gast                     0.2.2                \n",
      "GDAL                     2.2.2                \n",
      "gdown                    3.6.4                \n",
      "gensim                   3.6.0                \n",
      "geographiclib            1.49                 \n",
      "geopy                    1.17.0               \n",
      "gevent                   1.4.0                \n",
      "gin-config               0.1.4                \n",
      "glob2                    0.6                  \n",
      "google                   2.0.2                \n",
      "google-api-core          1.9.0                \n",
      "google-api-python-client 1.6.7                \n",
      "google-auth              1.4.2                \n",
      "google-auth-httplib2     0.0.3                \n",
      "google-auth-oauthlib     0.3.0                \n",
      "google-cloud-bigquery    1.8.1                \n",
      "google-cloud-core        0.29.1               \n",
      "google-cloud-language    1.0.2                \n",
      "google-cloud-storage     1.13.2               \n",
      "google-cloud-translate   1.3.3                \n",
      "google-colab             1.0.0                \n",
      "google-resumable-media   0.3.2                \n",
      "googleapis-common-protos 1.5.9                \n",
      "googledrivedownloader    0.3                  \n",
      "graph-nets               1.0.3                \n",
      "graphviz                 0.10.1               \n",
      "greenlet                 0.4.15               \n",
      "grpcio                   1.15.0               \n",
      "gspread                  3.0.1                \n",
      "gspread-dataframe        3.0.2                \n",
      "gunicorn                 19.9.0               \n",
      "gym                      0.10.11              \n",
      "h5py                     2.8.0                \n",
      "HeapDict                 1.0.0                \n",
      "holidays                 0.9.10               \n",
      "html5lib                 1.0.1                \n",
      "httpimport               0.5.16               \n",
      "httplib2                 0.11.3               \n",
      "humanize                 0.5.1                \n",
      "hyperopt                 0.1.2                \n",
      "ideep4py                 2.0.0.post3          \n",
      "idna                     2.8                  \n",
      "image                    1.5.27               \n",
      "imageio                  2.4.1                \n",
      "imagesize                1.1.0                \n",
      "imbalanced-learn         0.4.3                \n",
      "imblearn                 0.0                  \n",
      "imgaug                   0.2.8                \n",
      "imutils                  0.5.2                \n",
      "inflect                  2.1.0                \n",
      "intel-openmp             2019.0               \n",
      "intervaltree             2.1.0                \n",
      "ipykernel                4.6.1                \n",
      "ipython                  5.5.0                \n",
      "ipython-genutils         0.2.0                \n",
      "ipython-sql              0.3.9                \n",
      "ipywidgets               7.4.2                \n",
      "itsdangerous             1.1.0                \n",
      "jdcal                    1.4.1                \n",
      "jedi                     0.13.3               \n",
      "jieba                    0.39                 \n",
      "Jinja2                   2.10.1               \n",
      "jmespath                 0.9.4                \n",
      "joblib                   0.12.5               \n",
      "jpeg4py                  0.1.4                \n",
      "jsonschema               2.6.0                \n",
      "jupyter                  1.0.0                \n",
      "jupyter-client           5.2.4                \n",
      "jupyter-console          6.0.0                \n",
      "jupyter-core             4.4.0                \n",
      "kaggle                   1.5.3                \n",
      "kapre                    0.1.3.1              \n",
      "Keras                    2.2.4                \n",
      "Keras-Applications       1.0.7                \n",
      "Keras-Preprocessing      1.0.9                \n",
      "keras-vis                0.4.1                \n",
      "kiwisolver               1.1.0                \n",
      "knnimpute                0.1.0                \n",
      "librosa                  0.6.3                \n",
      "lightgbm                 2.2.3                \n",
      "llvmlite                 0.28.0               \n",
      "lmdb                     0.94                 \n",
      "lucid                    0.3.8                \n",
      "lunardate                0.2.0                \n",
      "lxml                     4.2.6                \n",
      "magenta                  0.3.19               \n",
      "Markdown                 3.1                  \n",
      "MarkupSafe               1.1.1                \n",
      "matplotlib               3.0.3                \n",
      "matplotlib-venn          0.11.5               \n",
      "mesh-tensorflow          0.0.5                \n",
      "mido                     1.2.6                \n",
      "mir-eval                 0.5                  \n",
      "missingno                0.4.1                \n",
      "mistune                  0.8.4                \n",
      "mkl                      2019.0               \n",
      "mlxtend                  0.14.0               \n",
      "mock                     2.0.0                \n",
      "more-itertools           7.0.0                \n",
      "moviepy                  0.2.3.5              \n",
      "mpi4py                   3.0.1                \n",
      "mpmath                   1.1.0                \n",
      "msgpack                  0.5.6                \n",
      "msgpack-numpy            0.4.3.2              \n",
      "multiprocess             0.70.7               \n",
      "multitasking             0.0.7                \n",
      "murmurhash               1.0.2                \n",
      "music21                  5.5.0                \n",
      "natsort                  5.5.0                \n",
      "nbconvert                5.5.0                \n",
      "nbformat                 4.4.0                \n",
      "networkx                 2.3                  \n",
      "nibabel                  2.3.3                \n",
      "nltk                     3.2.5                \n",
      "nose                     1.3.7                \n",
      "notebook                 5.2.2                \n",
      "np-utils                 0.5.10.0             \n",
      "numba                    0.40.1               \n",
      "numexpr                  2.6.9                \n",
      "numpy                    1.16.3               \n",
      "nvidia-ml-py3            7.352.0              \n",
      "oauth2client             4.1.3                \n",
      "oauthlib                 3.0.1                \n",
      "okgrade                  0.4.3                \n",
      "olefile                  0.46                 \n",
      "opencv-contrib-python    3.4.3.18             \n",
      "opencv-python            3.4.5.20             \n",
      "openpyxl                 2.5.9                \n",
      "osqp                     0.5.0                \n",
      "packaging                19.0                 \n",
      "pandas                   0.24.2               \n",
      "pandas-datareader        0.7.0                \n",
      "pandas-gbq               0.4.1                \n",
      "pandas-profiling         1.4.1                \n",
      "pandocfilters            1.4.2                \n",
      "parso                    0.4.0                \n",
      "pathlib                  1.0.1                \n",
      "patsy                    0.5.1                \n",
      "pbr                      5.2.0                \n",
      "pexpect                  4.7.0                \n",
      "pickleshare              0.7.5                \n",
      "Pillow                   4.3.0                \n",
      "pip                      19.1                 \n",
      "pip-tools                3.6.1                \n",
      "plac                     0.9.6                \n",
      "plotly                   3.6.1                \n",
      "pluggy                   0.7.1                \n",
      "portpicker               1.2.0                \n",
      "prefetch-generator       1.0.1                \n",
      "preshed                  2.0.1                \n",
      "pretty-midi              0.2.8                \n",
      "prettytable              0.7.2                \n",
      "progressbar2             3.38.0               \n",
      "prometheus-client        0.6.0                \n",
      "promise                  2.2.1                \n",
      "prompt-toolkit           1.0.16               \n",
      "protobuf                 3.7.1                \n",
      "psutil                   5.4.8                \n",
      "psycopg2                 2.7.6.1              \n",
      "ptyprocess               0.6.0                \n",
      "py                       1.8.0                \n",
      "pyasn1                   0.4.5                \n",
      "pyasn1-modules           0.2.5                \n",
      "pycocotools              2.0.0                \n",
      "pycparser                2.19                 \n",
      "pydot                    1.3.0                \n",
      "pydot-ng                 2.0.0                \n",
      "pydotplus                2.0.2                \n",
      "pyemd                    0.5.1                \n",
      "pyglet                   1.3.2                \n",
      "Pygments                 2.1.3                \n",
      "pygobject                3.26.1               \n",
      "pymc3                    3.6                  \n",
      "pymongo                  3.8.0                \n",
      "pymystem3                0.2.0                \n",
      "PyOpenGL                 3.1.0                \n",
      "pyparsing                2.4.0                \n",
      "pyrsistent               0.15.1               \n",
      "pysndfile                1.3.2                \n",
      "PySocks                  1.6.8                \n",
      "pystan                   2.19.0.0             \n",
      "pytest                   3.6.4                \n",
      "python-apt               1.6.3+ubuntu1        \n",
      "python-chess             0.23.11              \n",
      "python-dateutil          2.5.3                \n",
      "python-louvain           0.13                 \n",
      "python-rtmidi            1.3.0                \n",
      "python-slugify           3.0.2                \n",
      "python-utils             2.3.0                \n",
      "pytz                     2018.9               \n",
      "PyWavelets               1.0.3                \n",
      "PyYAML                   3.13                 \n",
      "pyzmq                    17.0.0               \n",
      "qtconsole                4.4.3                \n",
      "regex                    2018.1.10            \n",
      "requests                 2.21.0               \n",
      "requests-oauthlib        1.2.0                \n",
      "resampy                  0.2.1                \n",
      "retrying                 1.3.3                \n",
      "rpy2                     2.9.5                \n",
      "rsa                      4.0                  \n",
      "s3fs                     0.2.1                \n",
      "s3transfer               0.2.0                \n",
      "scikit-image             0.14.2               \n",
      "scikit-learn             0.20.3               \n",
      "scipy                    1.2.1                \n",
      "screen-resolution-extra  0.0.0                \n",
      "scs                      2.1.0                \n",
      "seaborn                  0.9.0                \n",
      "Send2Trash               1.5.0                \n",
      "setuptools               41.0.1               \n",
      "setuptools-git           1.2                  \n",
      "Shapely                  1.6.4.post2          \n",
      "simplegeneric            0.8.1                \n",
      "six                      1.12.0               \n",
      "sklearn                  0.0                  \n",
      "smart-open               1.8.3                \n",
      "snowballstemmer          1.2.1                \n",
      "sortedcontainers         2.1.0                \n",
      "spacy                    2.0.18               \n",
      "Sphinx                   1.8.5                \n",
      "sphinxcontrib-websupport 1.1.0                \n",
      "SQLAlchemy               1.3.3                \n",
      "sqlparse                 0.3.0                \n",
      "stable-baselines         2.2.1                \n",
      "statsmodels              0.9.0                \n",
      "sympy                    1.1.1                \n",
      "tables                   3.4.4                \n",
      "tabulate                 0.8.3                \n",
      "tblib                    1.3.2                \n",
      "tensor2tensor            1.11.0               \n",
      "tensorboard              1.13.1               \n",
      "tensorboardcolab         0.0.22               \n",
      "tensorflow               1.13.1               \n",
      "tensorflow-estimator     1.13.0               \n",
      "tensorflow-hub           0.4.0                \n",
      "tensorflow-metadata      0.13.0               \n",
      "tensorflow-probability   0.6.0                \n",
      "termcolor                1.1.0                \n",
      "terminado                0.8.2                \n",
      "testpath                 0.4.2                \n",
      "text-unidecode           1.2                  \n",
      "textblob                 0.15.3               \n",
      "textgenrnn               1.4.1                \n",
      "tfds-nightly             1.0.2.dev201904290105\n",
      "tflearn                  0.3.2                \n",
      "Theano                   1.0.4                \n",
      "thinc                    6.12.1               \n",
      "toolz                    0.9.0                \n",
      "torch                    1.0.1.post2          \n",
      "torchsummary             1.5.1                \n",
      "torchtext                0.3.1                \n",
      "torchvision              0.2.2.post3          \n",
      "tornado                  4.5.3                \n",
      "tqdm                     4.28.1               \n",
      "traitlets                4.3.2                \n",
      "tweepy                   3.6.0                \n",
      "typing                   3.6.6                \n",
      "tzlocal                  1.5.1                \n",
      "ujson                    1.35                 \n",
      "umap-learn               0.3.8                \n",
      "uritemplate              3.0.0                \n",
      "urllib3                  1.24.2               \n",
      "vega-datasets            0.7.0                \n",
      "wcwidth                  0.1.7                \n",
      "webencodings             0.5.1                \n",
      "Werkzeug                 0.15.2               \n",
      "wheel                    0.33.1               \n",
      "widgetsnbextension       3.4.2                \n",
      "wordcloud                1.5.0                \n",
      "wrapt                    1.10.11              \n",
      "xarray                   0.11.3               \n",
      "xgboost                  0.82                 \n",
      "xkit                     0.0.0                \n",
      "xlrd                     1.1.0                \n",
      "xlwt                     1.3.0                \n",
      "yellowbrick              0.9.1                \n",
      "zict                     0.1.4                \n",
      "zmq                      0.0.0                \n"
     ]
    }
   ],
   "source": [
    "!pip list"
   ]
  },
  {
   "cell_type": "code",
   "execution_count": 0,
   "metadata": {
    "colab": {},
    "colab_type": "code",
    "id": "HBGKaeRm2a1n"
   },
   "outputs": [],
   "source": [
    "import tensorflow as tf"
   ]
  },
  {
   "cell_type": "code",
   "execution_count": 8,
   "metadata": {
    "colab": {
     "base_uri": "https://localhost:8080/",
     "height": 34
    },
    "colab_type": "code",
    "id": "mUWzSOdUBVKk",
    "outputId": "1ebb2556-a55f-4fbf-b206-60d5011b7266"
   },
   "outputs": [
    {
     "name": "stdout",
     "output_type": "stream",
     "text": [
      "Device name: /device:GPU:0\n"
     ]
    }
   ],
   "source": [
    "#tf 가 설정된 그래픽카드를 제대로 물었는지 확인\n",
    "device_name = tf.test.gpu_device_name()\n",
    "print('Device name: {}'.format(device_name))\n",
    "\n",
    "assert device_name == '/device:GPU:0'"
   ]
  },
  {
   "cell_type": "markdown",
   "metadata": {
    "colab_type": "text",
    "id": "m1acAjpJ_lRn"
   },
   "source": [
    "# FDDB Dataset 다운로드"
   ]
  },
  {
   "cell_type": "code",
   "execution_count": 9,
   "metadata": {
    "colab": {
     "base_uri": "https://localhost:8080/",
     "height": 34
    },
    "colab_type": "code",
    "id": "8PSo7vps9_Nw",
    "outputId": "5c6f1861-2767-4123-ad6c-857acf5f8872"
   },
   "outputs": [
    {
     "name": "stdout",
     "output_type": "stream",
     "text": [
      "sample_data\n"
     ]
    }
   ],
   "source": [
    "!ls"
   ]
  },
  {
   "cell_type": "code",
   "execution_count": 10,
   "metadata": {
    "colab": {
     "base_uri": "https://localhost:8080/",
     "height": 68
    },
    "colab_type": "code",
    "id": "ex_CIAQ4-JoI",
    "outputId": "2c3f5637-bdf3-4212-9e04-d3e2420c927e"
   },
   "outputs": [
    {
     "name": "stdout",
     "output_type": "stream",
     "text": [
      "anscombe.json\t\t      mnist_test.csv\n",
      "california_housing_test.csv   mnist_train_small.csv\n",
      "california_housing_train.csv  README.md\n"
     ]
    }
   ],
   "source": [
    "!ls sample_data"
   ]
  },
  {
   "cell_type": "code",
   "execution_count": 0,
   "metadata": {
    "colab": {},
    "colab_type": "code",
    "id": "rPzIfjIu-5J1"
   },
   "outputs": [],
   "source": [
    "!mkdir data"
   ]
  },
  {
   "cell_type": "code",
   "execution_count": 12,
   "metadata": {
    "colab": {
     "base_uri": "https://localhost:8080/",
     "height": 394
    },
    "colab_type": "code",
    "id": "_PdK4qan_L0P",
    "outputId": "fdb22631-de68-4411-bd46-42760c9eb32c"
   },
   "outputs": [
    {
     "name": "stdout",
     "output_type": "stream",
     "text": [
      "--2019-05-02 11:21:06--  https://drive.google.com/uc?authuser=0&id=1qV4YSzvvTQ7rSi3iS2swkbA56QO-bbs8&export=download\n",
      "Resolving drive.google.com (drive.google.com)... 172.217.31.174, 2404:6800:4004:80c::200e\n",
      "Connecting to drive.google.com (drive.google.com)|172.217.31.174|:443... connected.\n",
      "HTTP request sent, awaiting response... 302 Moved Temporarily\n",
      "Location: https://drive.google.com/uc?id=1qV4YSzvvTQ7rSi3iS2swkbA56QO-bbs8&export=download [following]\n",
      "--2019-05-02 11:21:06--  https://drive.google.com/uc?id=1qV4YSzvvTQ7rSi3iS2swkbA56QO-bbs8&export=download\n",
      "Reusing existing connection to drive.google.com:443.\n",
      "HTTP request sent, awaiting response... 302 Moved Temporarily\n",
      "Location: https://doc-0o-bo-docs.googleusercontent.com/docs/securesc/ha0ro937gcuc7l7deffksulhg5h7mbp1/ndis81s9u75pbhdnvttchi9jnuha6f3l/1556791200000/15098959873704847008/*/1qV4YSzvvTQ7rSi3iS2swkbA56QO-bbs8?e=download [following]\n",
      "Warning: wildcards not supported in HTTP.\n",
      "--2019-05-02 11:21:21--  https://doc-0o-bo-docs.googleusercontent.com/docs/securesc/ha0ro937gcuc7l7deffksulhg5h7mbp1/ndis81s9u75pbhdnvttchi9jnuha6f3l/1556791200000/15098959873704847008/*/1qV4YSzvvTQ7rSi3iS2swkbA56QO-bbs8?e=download\n",
      "Resolving doc-0o-bo-docs.googleusercontent.com (doc-0o-bo-docs.googleusercontent.com)... 172.217.25.65, 2404:6800:4004:818::2001\n",
      "Connecting to doc-0o-bo-docs.googleusercontent.com (doc-0o-bo-docs.googleusercontent.com)|172.217.25.65|:443... connected.\n",
      "HTTP request sent, awaiting response... 200 OK\n",
      "Length: unspecified [application/x-zip-compressed]\n",
      "Saving to: ‘fddb.zip’\n",
      "\n",
      "fddb.zip                [     <=>            ]  55.83M  64.4MB/s    in 0.9s    \n",
      "\n",
      "2019-05-02 11:21:22 (64.4 MB/s) - ‘fddb.zip’ saved [58540856]\n",
      "\n"
     ]
    }
   ],
   "source": [
    "!wget \"https://drive.google.com/uc?authuser=0&id=1qV4YSzvvTQ7rSi3iS2swkbA56QO-bbs8&export=download\" -O fddb.zip"
   ]
  },
  {
   "cell_type": "code",
   "execution_count": 13,
   "metadata": {
    "colab": {
     "base_uri": "https://localhost:8080/",
     "height": 34
    },
    "colab_type": "code",
    "id": "WslSPrpQXaeT",
    "outputId": "c846fd93-f824-40be-88e9-7a2d009c100a"
   },
   "outputs": [
    {
     "name": "stdout",
     "output_type": "stream",
     "text": [
      "data  fddb.zip\tsample_data\n"
     ]
    }
   ],
   "source": [
    "!ls"
   ]
  },
  {
   "cell_type": "code",
   "execution_count": 16,
   "metadata": {
    "colab": {
     "base_uri": "https://localhost:8080/",
     "height": 153
    },
    "colab_type": "code",
    "id": "dpmuNj7a_KAq",
    "outputId": "3da2f8d6-ef05-48ff-8196-58a941bdd2f7"
   },
   "outputs": [
    {
     "name": "stdout",
     "output_type": "stream",
     "text": [
      "Reading package lists... Done\n",
      "Building dependency tree       \n",
      "Reading state information... Done\n",
      "unzip is already the newest version (6.0-21ubuntu1).\n",
      "The following package was automatically installed and is no longer required:\n",
      "  libnvidia-common-410\n",
      "Use 'apt autoremove' to remove it.\n",
      "0 upgraded, 0 newly installed, 0 to remove and 11 not upgraded.\n"
     ]
    }
   ],
   "source": [
    "!apt-get install unzip"
   ]
  },
  {
   "cell_type": "code",
   "execution_count": 0,
   "metadata": {
    "colab": {},
    "colab_type": "code",
    "id": "TTFlbIzQ_PgD"
   },
   "outputs": [],
   "source": [
    "!unzip -q fddb.zip"
   ]
  },
  {
   "cell_type": "code",
   "execution_count": 18,
   "metadata": {
    "colab": {
     "base_uri": "https://localhost:8080/",
     "height": 34
    },
    "colab_type": "code",
    "id": "nKHqSe9N-hmY",
    "outputId": "04dea3ef-670f-408b-a283-40e9d77c106f"
   },
   "outputs": [
    {
     "name": "stdout",
     "output_type": "stream",
     "text": [
      "data  face  fddb.zip  sample_data\n"
     ]
    }
   ],
   "source": [
    "!ls"
   ]
  },
  {
   "cell_type": "code",
   "execution_count": 0,
   "metadata": {
    "colab": {},
    "colab_type": "code",
    "id": "bnuoXy7nApBZ"
   },
   "outputs": [],
   "source": [
    "!mv face data/FDDB"
   ]
  },
  {
   "cell_type": "code",
   "execution_count": 20,
   "metadata": {
    "colab": {
     "base_uri": "https://localhost:8080/",
     "height": 34
    },
    "colab_type": "code",
    "id": "bM0S-C6ACYBl",
    "outputId": "b951eebb-5724-433f-c669-17892e25ab91"
   },
   "outputs": [
    {
     "name": "stdout",
     "output_type": "stream",
     "text": [
      "test  train\n"
     ]
    }
   ],
   "source": [
    "!ls data/FDDB"
   ]
  },
  {
   "cell_type": "code",
   "execution_count": 21,
   "metadata": {
    "colab": {
     "base_uri": "https://localhost:8080/",
     "height": 34
    },
    "colab_type": "code",
    "id": "ZTLhjD_Hc7an",
    "outputId": "5dd395a7-bfbc-4402-cae6-a7da42531e14"
   },
   "outputs": [
    {
     "name": "stdout",
     "output_type": "stream",
     "text": [
      "anchors.json  annotations  classes.json  images\n"
     ]
    }
   ],
   "source": [
    "!ls data/FDDB/train"
   ]
  },
  {
   "cell_type": "code",
   "execution_count": 22,
   "metadata": {
    "colab": {
     "base_uri": "https://localhost:8080/",
     "height": 34
    },
    "colab_type": "code",
    "id": "VLrxAw9Y-z1Z",
    "outputId": "ac369f90-66d4-4641-9341-5bb177e10ec3"
   },
   "outputs": [
    {
     "name": "stdout",
     "output_type": "stream",
     "text": [
      "{\"0\": \"face\"}\n"
     ]
    }
   ],
   "source": [
    "!cat data/FDDB/train/classes.json"
   ]
  },
  {
   "cell_type": "code",
   "execution_count": 23,
   "metadata": {
    "colab": {
     "base_uri": "https://localhost:8080/",
     "height": 1105
    },
    "colab_type": "code",
    "id": "P6oMPzPq-pmo",
    "outputId": "d1b09855-edb5-4e41-ad1b-104b21f37a5d"
   },
   "outputs": [
    {
     "name": "stdout",
     "output_type": "stream",
     "text": [
      "{\n",
      "\t\"face\": [\n",
      "\t\t[\n",
      "\t\t\t279.61417894158404,\n",
      "\t\t\t114.65210677955528,\n",
      "\t\t\t380.92035505841596,\n",
      "\t\t\t289.9950532204447\n",
      "\t\t],\n",
      "\t\t[\n",
      "\t\t\t224.39359541979775,\n",
      "\t\t\t15.14937562738254,\n",
      "\t\t\t313.19209658020225,\n",
      "\t\t\t170.17360237261747\n",
      "\t\t],\n",
      "\t\t[\n",
      "\t\t\t16.947020203759795,\n",
      "\t\t\t55.43976901100446,\n",
      "\t\t\t52.3211177962402,\n",
      "\t\t\t102.31101898899554\n",
      "\t\t],\n",
      "\t\t[\n",
      "\t\t\t2.0524956137481922,\n",
      "\t\t\t95.70903393732668,\n",
      "\t\t\t41.73538238625181,\n",
      "\t\t\t147.39303806267333\n",
      "\t\t],\n",
      "\t\t[\n",
      "\t\t\t148.36241022854927,\n",
      "\t\t\t105.03534569731141,\n",
      "\t\t\t197.86126377145075,\n",
      "\t\t\t180.35753630268857\n",
      "\t\t],\n",
      "\t\t[\n",
      "\t\t\t149.46120845351888,\n",
      "\t\t\t62.6420521033519,\n",
      "\t\t\t174.6510355464811,\n",
      "\t\t\t94.3375378966481\n",
      "\t\t],\n",
      "\t\t[\n",
      "\t\t\t127.65272951766542,\n",
      "\t\t\t77.48472344809177,\n",
      "\t\t\t148.07593648233455,\n",
      "\t\t\t100.34897455190823\n",
      "\t\t],\n",
      "\t\t[\n",
      "\t\t\t422.6753062394698,\n",
      "\t\t\t73.59178141818302,\n",
      "\t\t\t434.9584277605302,\n",
      "\t\t\t94.35038658181699\n",
      "\t\t],\n",
      "\t\t[\n",
      "\t\t\t34.67764894426652,\n",
      "\t\t\t99.9360907192276,\n",
      "\t\t\t93.35539505573347,\n",
      "\t\t\t184.69018728077242\n",
      "\t\t],\n",
      "\t\t[\n",
      "\t\t\t188.72575160422056,\n",
      "\t\t\t93.0578669898178,\n",
      "\t\t\t228.83424839577944,\n",
      "\t\t\t145.7454670101822\n",
      "\t\t]\n",
      "\t]\n",
      "}"
     ]
    }
   ],
   "source": [
    "!cat data/FDDB/train/annotations/2002_07_23_big_img_384.anno"
   ]
  },
  {
   "cell_type": "markdown",
   "metadata": {
    "colab_type": "text",
    "id": "3lQ68rv-cL8f"
   },
   "source": [
    "# Data Loader for Detection Model"
   ]
  },
  {
   "cell_type": "code",
   "execution_count": 0,
   "metadata": {
    "colab": {},
    "colab_type": "code",
    "id": "O8152nu1lUSo"
   },
   "outputs": [],
   "source": [
    "from glob import glob\n",
    "from imageio import imread\n",
    "from tqdm import tqdm\n",
    "import tensorflow as tf\n",
    "import json\n",
    "import os.path as osp\n",
    "import numpy as np\n",
    "import numpy.random as npr\n",
    "import cv2\n",
    "import os"
   ]
  },
  {
   "cell_type": "code",
   "execution_count": 0,
   "metadata": {
    "colab": {},
    "colab_type": "code",
    "id": "TroEzsbik1jn"
   },
   "outputs": [],
   "source": [
    "#1번 인자의 데이터를 2번 비율만큼 쓴다(100% 쓰는중)\n",
    "def read_data(ds_dir, ratio_limit=1.0):\n",
    "    # Get a list of the class names.\n",
    "    cls_names = []\n",
    "\n",
    "    with open(osp.join(ds_dir, 'classes.json'), 'r') as f:\n",
    "        cls_dict = json.load(f)\n",
    "    for i in sorted(cls_dict.keys(), key=int):\n",
    "        cls_names.append(cls_dict[str(i)])\n",
    "\n",
    "    # Load image and annotation files.\n",
    "    imgs, gt_box_sets = [], []\n",
    "\n",
    "    img_fpaths = sorted(glob(osp.join(ds_dir, 'images/*.jpg')))\n",
    "    anno_fpaths = sorted(glob(osp.join(ds_dir, 'annotations/*.anno')))\n",
    "    \n",
    "    num_samples = len(img_fpaths)\n",
    "    if ratio_limit < 1:\n",
    "        num_samples = int(num_samples * ratio_limit)\n",
    "        img_fpaths = img_fpaths[:num_samples]\n",
    "        anno_fpaths = anno_fpaths[:num_samples]\n",
    "    \n",
    "    assert len(img_fpaths) == len(anno_fpaths)\n",
    "\n",
    "    for img_fp, anno_fp in zip(tqdm(img_fpaths), anno_fpaths):\n",
    "        img = imread(img_fp)\n",
    "        if len(img.shape) < 3:\n",
    "            img = cv2.cvtColor(img, cv2.COLOR_GRAY2RGB)\n",
    "\n",
    "        imgs.append(np.asarray(img / 255, dtype=np.float32))\n",
    "\n",
    "        with open(anno_fp, 'r') as f:\n",
    "            anno = json.load(f)\n",
    "        box_set = []\n",
    "        for cls_name, boxes in anno.items():\n",
    "            box_set.extend([box + [cls_names.index(cls_name)] for box in boxes])\n",
    "        gt_box_sets.append(np.asarray(box_set, dtype=np.float32))\n",
    "\n",
    "    return cls_names, imgs, gt_box_sets\n",
    "\n",
    "class DetectionDataset:\n",
    "    def __init__(self):\n",
    "        self._imgs, self._gt_box_sets, self._img_shapes = None, None, None\n",
    "        self._indices, self._cursor, self._epoch_cnt = None, 0, 0\n",
    "\n",
    "    def load_data(self, cls_names, imgs, gt_box_sets):\n",
    "        self._cls_names = cls_names\n",
    "        self._imgs = np.empty(len(imgs), dtype=np.object)\n",
    "        self._imgs[:] = imgs\n",
    "        self._gt_box_sets = np.empty(len(gt_box_sets), dtype=np.object)\n",
    "        self._gt_box_sets[:] = gt_box_sets\n",
    "\n",
    "        self._img_shapes = np.asarray([img.shape for img in imgs], dtype=np.float32)\n",
    "\n",
    "    @property\n",
    "    def num_samples(self):\n",
    "        return len(self._imgs)\n",
    "\n",
    "    @property\n",
    "    def num_epochs(self):\n",
    "        return self._epoch_cnt\n",
    "\n",
    "    def get_image(self, index):\n",
    "        return self._imgs[index]\n",
    "\n",
    "    def get_gt_box_set(self, index):\n",
    "        return self._gt_box_sets[index]\n",
    "\n",
    "    def get_image_shape(self, index):\n",
    "        return self._img_shapes[index]\n",
    "\n",
    "    def _start_next_epoch(self, shuffle):\n",
    "        is_initial = self._indices is None\n",
    "\n",
    "        self._indices = npr.permutation(self.num_samples) if shuffle else np.arange(self.num_samples)\n",
    "        self._cursor = 0\n",
    "        if not is_initial:\n",
    "            self._epoch_cnt += 1\n",
    "\n",
    "    def next_batch(self, batch_size, shuffle=True):\n",
    "        if self._indices is None:\n",
    "            self._start_next_epoch(shuffle)\n",
    "\n",
    "        stride = min(batch_size, self.num_samples - self._cursor)\n",
    "        indices = self._indices[self._cursor:self._cursor + stride]\n",
    "        self._cursor += stride\n",
    "\n",
    "        while len(indices) < batch_size:\n",
    "            self._start_next_epoch(shuffle)\n",
    "            stride = min(batch_size, self.num_samples - self._cursor)\n",
    "            indices = np.concatenate([indices, self._indices[self._cursor:self._cursor + stride]])\n",
    "            self._cursor += stride\n",
    "\n",
    "        batch_img, batch_gt_box_set = self._imgs[indices], self._gt_box_sets[indices]\n",
    "\n",
    "        if batch_size == 1:\n",
    "            batch_img = np.asarray([batch_img[0]], dtype=np.float32)\n",
    "            batch_gt_box_set = np.asarray([batch_gt_box_set[0]], dtype=np.float32)\n",
    "\n",
    "        return batch_img, batch_gt_box_set"
   ]
  },
  {
   "cell_type": "markdown",
   "metadata": {
    "colab_type": "text",
    "id": "E21Q85LKczWm"
   },
   "source": [
    "# Load train/validation/test datasets."
   ]
  },
  {
   "cell_type": "code",
   "execution_count": 26,
   "metadata": {
    "colab": {
     "base_uri": "https://localhost:8080/",
     "height": 51
    },
    "colab_type": "code",
    "id": "pqDCmRm2lVKE",
    "outputId": "a52165d8-0a61-43f0-ef92-48c0cfd2868a"
   },
   "outputs": [
    {
     "name": "stderr",
     "output_type": "stream",
     "text": [
      "100%|██████████| 1312/1312 [00:06<00:00, 199.46it/s]\n",
      "100%|██████████| 110/110 [00:00<00:00, 199.61it/s]\n"
     ]
    }
   ],
   "source": [
    "FDDB_DS_DIR = './data/FDDB'  # FIXME\n",
    "VALID_RATIO = 0.2  # FIXME\n",
    "\n",
    "train_ds, valid_ds, test_ds = DetectionDataset(), DetectionDataset(), DetectionDataset()\n",
    "\n",
    "cls_names, imgs, gt_box_sets = read_data(osp.join(FDDB_DS_DIR, 'train'), ratio_limit=0.5)\n",
    "num_train = int(len(imgs) * (1 - VALID_RATIO))\n",
    "train_ds.load_data(cls_names, imgs[:num_train], gt_box_sets[:num_train])\n",
    "valid_ds.load_data(cls_names, imgs[num_train:], gt_box_sets[num_train:])\n",
    "\n",
    "cls_names, imgs, gt_box_sets = read_data(osp.join(FDDB_DS_DIR, 'test'), ratio_limit=0.5)\n",
    "test_ds.load_data(cls_names, imgs, gt_box_sets)\n",
    "\n",
    "num_obj_classes = len(cls_names)"
   ]
  },
  {
   "cell_type": "code",
   "execution_count": 27,
   "metadata": {
    "colab": {
     "base_uri": "https://localhost:8080/",
     "height": 34
    },
    "colab_type": "code",
    "id": "xAqg3No4lj-v",
    "outputId": "ac48768e-1ded-4e10-9b95-147a3f8a91f5"
   },
   "outputs": [
    {
     "data": {
      "text/plain": [
       "(1049, 263, 110)"
      ]
     },
     "execution_count": 27,
     "metadata": {
      "tags": []
     },
     "output_type": "execute_result"
    }
   ],
   "source": [
    "train_ds.num_samples, valid_ds.num_samples, test_ds.num_samples"
   ]
  },
  {
   "cell_type": "code",
   "execution_count": 28,
   "metadata": {
    "colab": {
     "base_uri": "https://localhost:8080/",
     "height": 68
    },
    "colab_type": "code",
    "id": "vaOYpf79cwF7",
    "outputId": "10f8b3fa-4d16-4111-f68f-8d7ed2166ed7"
   },
   "outputs": [
    {
     "name": "stdout",
     "output_type": "stream",
     "text": [
      "              total        used        free      shared  buff/cache   available\n",
      "Mem:            12G        3.4G        6.9G        4.9M        2.4G         10G\n",
      "Swap:            0B          0B          0B\n"
     ]
    }
   ],
   "source": [
    "!free -h"
   ]
  },
  {
   "cell_type": "markdown",
   "metadata": {
    "colab_type": "text",
    "id": "p9e6kqa3ded7"
   },
   "source": [
    "# Visualize a sample image with GT boxes."
   ]
  },
  {
   "cell_type": "code",
   "execution_count": 0,
   "metadata": {
    "colab": {},
    "colab_type": "code",
    "id": "CEwD8xBYdx-I"
   },
   "outputs": [],
   "source": [
    "%matplotlib inline\n",
    "import matplotlib.pyplot as plt"
   ]
  },
  {
   "cell_type": "code",
   "execution_count": 0,
   "metadata": {
    "colab": {},
    "colab_type": "code",
    "id": "cprzzEaJdhNS"
   },
   "outputs": [],
   "source": [
    "def get_labeled_image(img, boxes):\n",
    "    img_ = img.copy()\n",
    "    for box in boxes:\n",
    "        cv2.rectangle(img_, (box[0], box[1]), (box[2], box[3]), color=(1, 1, 0), thickness=2)\n",
    "    return img_"
   ]
  },
  {
   "cell_type": "code",
   "execution_count": 33,
   "metadata": {
    "colab": {
     "base_uri": "https://localhost:8080/",
     "height": 763
    },
    "colab_type": "code",
    "id": "I6DwUPyrdkqo",
    "outputId": "563e4ff6-32de-4cff-a9e8-a3f70c75f954"
   },
   "outputs": [
    {
     "data": {
      "image/png": "[encoded data removed]",
      "text/plain": [
       "<Figure size 432x432 with 1 Axes>"
      ]
     },
     "metadata": {
      "tags": []
     },
     "output_type": "display_data"
    },
    {
     "data": {
      "image/png": "[encoded data removed]",
      "text/plain": [
       "<Figure size 432x432 with 1 Axes>"
      ]
     },
     "metadata": {
      "tags": []
     },
     "output_type": "display_data"
    }
   ],
   "source": [
    "TARGET_INDICES = [0, 1]  # FIXME\n",
    "\n",
    "for idx in TARGET_INDICES:\n",
    "    target_img = test_ds.get_image(idx)\n",
    "    target_gt_box_set = test_ds.get_gt_box_set(idx)\n",
    "\n",
    "    labeled_img = get_labeled_image(target_img, target_gt_box_set)\n",
    "\n",
    "    plt.figure(figsize=(6, 6))\n",
    "    plt.imshow((labeled_img * 255).astype(np.uint8))\n",
    "    plt.title('Sample instance')\n",
    "    plt.show()"
   ]
  },
  {
   "cell_type": "markdown",
   "metadata": {
    "colab_type": "text",
    "id": "8o7CXai7ec0m"
   },
   "source": [
    "# Fetch a single data batch."
   ]
  },
  {
   "cell_type": "code",
   "execution_count": 0,
   "metadata": {
    "colab": {},
    "colab_type": "code",
    "id": "_GLtORSidlvE"
   },
   "outputs": [],
   "source": [
    "batch_img, batch_gt_box_set = test_ds.next_batch(1)\n",
    "\n",
    "sample_batch = {\n",
    "    'image': batch_img,\n",
    "    'gt_box_set': batch_gt_box_set\n",
    "}"
   ]
  },
  {
   "cell_type": "markdown",
   "metadata": {
    "colab_type": "text",
    "id": "JMgls3mQfgRY"
   },
   "source": [
    "# Start building Faster R-CNN!"
   ]
  },
  {
   "cell_type": "markdown",
   "metadata": {
    "colab_type": "text",
    "id": "DJSVgGTGgTDD"
   },
   "source": [
    "## Configurations"
   ]
  },
  {
   "cell_type": "code",
   "execution_count": 0,
   "metadata": {
    "colab": {},
    "colab_type": "code",
    "id": "gVxennKmfmm2"
   },
   "outputs": [],
   "source": [
    "IS_TRAINING = True\n",
    "\n",
    "ANCHOR_BASE_SIZE = 16\n",
    "ANCHOR_SCALES = [8, 16]\n",
    "ANCHOR_RATIOS = [0.5, 1, 2]\n",
    "\n",
    "if IS_TRAINING:\n",
    "    NMS_TOP_K = 2000\n",
    "else:\n",
    "    NMS_TOP_K = 300\n",
    "NMS_IOU_THRES = 0.7\n",
    "\n",
    "ROI_POOL_SIZE = 7\n",
    "RPN_CHANNELS = 512\n",
    "TOTAL_STRIDE = 16\n",
    "\n",
    "RPN_POS_RATIO = 0.5\n",
    "RPN_BATCH_SIZE = 128\n",
    "RPN_NEG_THRES = 0.3\n",
    "RPN_POS_THRES = 0.7\n",
    "\n",
    "FRCNN_POS_RATIO = 0.25\n",
    "FRCNN_BATCH_SIZE = 128\n",
    "FRCNN_POS_THRES = 0.7\n",
    "FRCNN_NEG_THRES = 0.5"
   ]
  },
  {
   "cell_type": "markdown",
   "metadata": {
    "colab_type": "text",
    "id": "sAzvDhWFgkIC"
   },
   "source": [
    "## Open a TF session."
   ]
  },
  {
   "cell_type": "code",
   "execution_count": 0,
   "metadata": {
    "colab": {},
    "colab_type": "code",
    "id": "-69CfyX8ggzg"
   },
   "outputs": [],
   "source": [
    "sess = tf.InteractiveSession()"
   ]
  },
  {
   "cell_type": "markdown",
   "metadata": {
    "colab_type": "text",
    "id": "jzwzdJM-eIg4"
   },
   "source": [
    "## Input & checkup variables (tensors)"
   ]
  },
  {
   "cell_type": "code",
   "execution_count": 0,
   "metadata": {
    "colab": {},
    "colab_type": "code",
    "id": "iKX1aSVMeLD9"
   },
   "outputs": [],
   "source": [
    "t_input = {\n",
    "    'image': tf.placeholder(tf.float32, shape=(1, None, None, 3)),  # [height, width, channel]\n",
    "    'gt_box_set': tf.placeholder(tf.float32, shape=[1, None, 5])  # [[xmin, ymin, xmax, ymax, cls_idx], ...]\n",
    "}\n",
    "\n",
    "t_checkup = {}"
   ]
  },
  {
   "cell_type": "markdown",
   "metadata": {
    "colab_type": "text",
    "id": "cz8cOD5GetDM"
   },
   "source": [
    "## Sample \"feed_dict\" for tensorflow inference"
   ]
  },
  {
   "cell_type": "code",
   "execution_count": 0,
   "metadata": {
    "colab": {},
    "colab_type": "code",
    "id": "nDYT6pCje33O"
   },
   "outputs": [],
   "source": [
    "sample_feed_dict = {\n",
    "    t_input['image']: batch_img,\n",
    "    t_input['gt_box_set']: batch_gt_box_set\n",
    "}"
   ]
  },
  {
   "cell_type": "markdown",
   "metadata": {
    "colab_type": "text",
    "id": "i0dBqkDZe7gl"
   },
   "source": [
    "## Generate default anchor boxes."
   ]
  },
  {
   "cell_type": "code",
   "execution_count": 0,
   "metadata": {
    "colab": {},
    "colab_type": "code",
    "id": "o8oxD9Q9fMNZ"
   },
   "outputs": [],
   "source": [
    "def _to_whxy_format(anchor):\n",
    "    \"\"\"\n",
    "    Return width, height, x center, and y center for an anchor (window).\n",
    "    \"\"\"\n",
    "    w = anchor[2] - anchor[0] + 1\n",
    "    h = anchor[3] - anchor[1] + 1\n",
    "    x_ctr = anchor[0] + 0.5 * (w - 1)\n",
    "    y_ctr = anchor[1] + 0.5 * (h - 1)\n",
    "    return w, h, x_ctr, y_ctr\n",
    "\n",
    "def _to_anchor_format(ws, hs, x_ctr, y_ctr):\n",
    "    \"\"\"\n",
    "    Given a vector of widths (ws) and heights (hs) around a center (x_ctr, y_ctr), output a set of anchors (windows).\n",
    "    \"\"\"\n",
    "    ws = ws[:, np.newaxis]\n",
    "    hs = hs[:, np.newaxis]\n",
    "    anchors = np.hstack(\n",
    "        (x_ctr - 0.5 * (ws - 1), y_ctr - 0.5 * (hs - 1), x_ctr + 0.5 * (ws - 1), y_ctr + 0.5 * (hs - 1))\n",
    "    )\n",
    "    return anchors\n",
    "\n",
    "def _scale_enum(anchor, scales):\n",
    "    \"\"\"\n",
    "    Enumerate a set of anchors for each scale wrt an anchor.\n",
    "    \"\"\"\n",
    "    scales = np.array(scales)\n",
    "    w, h, x_ctr, y_ctr = _to_whxy_format(anchor)\n",
    "    ws = w * scales\n",
    "    hs = h * scales\n",
    "    anchors = _to_anchor_format(ws, hs, x_ctr, y_ctr)\n",
    "    return anchors\n",
    "\n",
    "def _ratio_enum(anchor, ratios):\n",
    "    \"\"\"\n",
    "    Enumerate a set of anchors for each aspect ratio wrt an anchor.\n",
    "    \"\"\"\n",
    "    ratios = np.array(ratios)\n",
    "    w, h, x_ctr, y_ctr = _to_whxy_format(anchor)\n",
    "    size = w * h\n",
    "    size_ratios = size / ratios\n",
    "    ws = np.round(np.sqrt(size_ratios))\n",
    "    hs = np.round(ws * ratios)\n",
    "    anchors = _to_anchor_format(ws, hs, x_ctr, y_ctr)\n",
    "    return anchors\n",
    "\n",
    "def generate_anchor_boxes(input_image, total_stride, anchor_base_size, anchor_scales, anchor_ratios):\n",
    "    image_shape = tf.shape(input_image)\n",
    "    \n",
    "    # Calculate the number of grid cells.\n",
    "    num_grids_h = tf.to_int32(tf.ceil(image_shape[1] / np.float32(total_stride)))\n",
    "    num_grids_w = tf.to_int32(tf.ceil(image_shape[2] / np.float32(total_stride)))\n",
    "    num_grids = num_grids_h * num_grids_w\n",
    "    \n",
    "    t_checkup['num_grids_h'] = num_grids_h\n",
    "    t_checkup['num_grids_w'] = num_grids_w\n",
    "    t_checkup['num_grids'] = num_grids\n",
    "    \n",
    "    # Prepare a shift expansion.\n",
    "    shift_x, shift_y = tf.meshgrid(\n",
    "        tf.range(num_grids_w) * total_stride, tf.range(num_grids_h) * total_stride\n",
    "    )\n",
    "    shift_x, shift_y = tf.reshape(shift_x, (-1,)), tf.reshape(shift_y, (-1,))  # [num_grids], [num_grids]\n",
    "    shifts = tf.transpose(tf.stack([shift_x, shift_y, shift_x, shift_y]))  # [num_grids, 4]\n",
    "    shifts = tf.transpose(tf.reshape(shifts, shape=[1, num_grids, 4]), perm=(1, 0, 2))  # [num_grids, 1, 4]\n",
    "    \n",
    "    # Create a base anchor.\n",
    "    base_anchor = np.array([0, 0, anchor_base_size - 1, anchor_base_size - 1])  # [4]\n",
    "    \n",
    "    # Expand anchors by ratios.\n",
    "    anchors = _ratio_enum(base_anchor, anchor_ratios)  # [num_ratios, 4]\n",
    "        \n",
    "    # Expand anchors by scales.\n",
    "    anchors = np.vstack(  # [num_ratios * num_scales, 4]\n",
    "        [_scale_enum(anchors[i, :], anchor_scales) for i in range(anchors.shape[0])]\n",
    "    )\n",
    "    \n",
    "    # Expand anchors by shifts.\n",
    "    num_anchors_per_grid = anchors.shape[0]\n",
    "    anchors = tf.constant(anchors.reshape((1, num_anchors_per_grid, 4)), dtype=tf.int32)  # [1, num_anchors_per_grid, 4]\n",
    "    \n",
    "    shift_x, shift_y = tf.meshgrid(\n",
    "        tf.range(num_grids_w) * total_stride, tf.range(num_grids_h) * total_stride\n",
    "    )\n",
    "    shift_x, shift_y = tf.reshape(shift_x, (-1,)), tf.reshape(shift_y, (-1,))  # [num_grids], [num_grids]\n",
    "    shifts = tf.transpose(tf.stack([shift_x, shift_y, shift_x, shift_y]))  # [num_grids, 4]\n",
    "    shifts = tf.transpose(tf.reshape(shifts, shape=[1, num_grids, 4]), perm=(1, 0, 2))  # [num_grids, 1, 4]\n",
    "    \n",
    "    anchors = tf.add(anchors, shifts)  # [num_grids, num_anchors_per_grid, 4]\n",
    "    anchors = tf.reshape(anchors, (-1, 4))  # [num_anchors, 4], where num_grids * num_anchors_per_grid = num_anchors\n",
    "    \n",
    "    return tf.cast(anchors, dtype=tf.float32)"
   ]
  },
  {
   "cell_type": "code",
   "execution_count": 0,
   "metadata": {
    "colab": {
     "base_uri": "https://localhost:8080/",
     "height": 68
    },
    "colab_type": "code",
    "id": "HXH24KV6fRv9",
    "outputId": "8c72922b-31b2-4236-e2bf-caef9c38c039"
   },
   "outputs": [
    {
     "name": "stdout",
     "output_type": "stream",
     "text": [
      "WARNING:tensorflow:From <ipython-input-36-54ae8b10e95d>:50: to_int32 (from tensorflow.python.ops.math_ops) is deprecated and will be removed in a future version.\n",
      "Instructions for updating:\n",
      "Use tf.cast instead.\n"
     ]
    }
   ],
   "source": [
    "t_anchor_boxes = generate_anchor_boxes(t_input['image'], TOTAL_STRIDE, ANCHOR_BASE_SIZE, ANCHOR_SCALES, ANCHOR_RATIOS)"
   ]
  },
  {
   "cell_type": "code",
   "execution_count": 0,
   "metadata": {
    "colab": {},
    "colab_type": "code",
    "id": "fI2vzL09fSl_"
   },
   "outputs": [],
   "source": [
    "anchor_boxes, num_grids_h, num_grids_w, num_grids = sess.run(\n",
    "    [t_anchor_boxes, t_checkup['num_grids_h'], t_checkup['num_grids_w'], t_checkup['num_grids']],\n",
    "    feed_dict=sample_feed_dict\n",
    ")"
   ]
  },
  {
   "cell_type": "code",
   "execution_count": 0,
   "metadata": {
    "colab": {
     "base_uri": "https://localhost:8080/",
     "height": 102
    },
    "colab_type": "code",
    "id": "KycNw80zfTgF",
    "outputId": "5a80f68f-c29f-49ca-b910-4fdbf697e736"
   },
   "outputs": [
    {
     "name": "stdout",
     "output_type": "stream",
     "text": [
      "Image shape: (1, 450, 348, 3)\n",
      "Total stride: 16\n",
      "Number of grids: 29 x 22 = 638\n",
      "Number of scale and ratio settings: 2 x 3 = 6\n",
      "Number of anchors = 3828\n"
     ]
    }
   ],
   "source": [
    "print('Image shape: {}'.format(sample_feed_dict[t_input['image']].shape))\n",
    "print('Total stride: {}'.format(TOTAL_STRIDE))\n",
    "print('Number of grids: {} x {} = {}'.format(num_grids_h, num_grids_w, num_grids))\n",
    "print('Number of scale and ratio settings: {} x {} = {}'.format(len(ANCHOR_SCALES), len(ANCHOR_RATIOS), len(ANCHOR_SCALES) * len(ANCHOR_RATIOS)))\n",
    "print('Number of anchors = {}'.format(anchor_boxes.shape[0]))"
   ]
  },
  {
   "cell_type": "markdown",
   "metadata": {
    "colab_type": "text",
    "id": "prnLaJCugxxP"
   },
   "source": [
    "## Visualize the generated anchor boxes."
   ]
  },
  {
   "cell_type": "code",
   "execution_count": 0,
   "metadata": {
    "colab": {
     "base_uri": "https://localhost:8080/",
     "height": 936
    },
    "colab_type": "code",
    "id": "rL8qyzAVgOfu",
    "outputId": "a53cb0d6-ed59-4550-d370-03ad2070602f"
   },
   "outputs": [
    {
     "data": {
      "image/png": "[encoded data removed]",
      "text/plain": [
       "<Figure size 1152x1152 with 1 Axes>"
      ]
     },
     "metadata": {
      "tags": []
     },
     "output_type": "display_data"
    }
   ],
   "source": [
    "# FIXME\n",
    "MARGIN = 200\n",
    "GRID_IDX = (10, 0)\n",
    "SHOW_ALL = True\n",
    "PRINT_BOX_INFO = False\n",
    "\n",
    "K = len(ANCHOR_SCALES) * len(ANCHOR_RATIOS)\n",
    "img_h, img_w = sample_batch['image'].shape[1:3]\n",
    "\n",
    "img_with_margin = np.zeros((img_h + MARGIN * 2, img_w + MARGIN * 2, 3)).astype(np.uint8)\n",
    "img_with_margin[\n",
    "    MARGIN:MARGIN + img_h, MARGIN:MARGIN + img_w, :\n",
    "] = np.asarray(sample_batch['image'][0] * 255, dtype=np.uint8)\n",
    "\n",
    "for idx, box in enumerate(anchor_boxes):\n",
    "    if not SHOW_ALL and idx // K != GRID_IDX[0] * num_grids_w + GRID_IDX[1]:\n",
    "        continue\n",
    "    box = box + MARGIN\n",
    "    cv2.rectangle(img_with_margin, (box[0], box[1]), (box[2], box[3]), color=(255, 255, 0), thickness=2)\n",
    "    if PRINT_BOX_INFO:\n",
    "        print('[Box # {}] Shape: ({:3}, {:3}) -> Size: {:6d},  Scale: {:.3f}'.format(\n",
    "            idx % K, int(box[2] - box[0]), int(box[3] - box[1]),\n",
    "            int((box[2] - box[0]) * (box[3] - box[1])), (box[2] - box[0]) / (box[3] - box[1])\n",
    "        ))\n",
    "\n",
    "plt.figure(figsize=(16, 16))\n",
    "plt.title('Anchor boxes at {} grid cell'.format(GRID_IDX), fontdict={'fontsize': 16})\n",
    "plt.imshow(img_with_margin)\n",
    "plt.show()"
   ]
  },
  {
   "cell_type": "markdown",
   "metadata": {
    "colab_type": "text",
    "id": "NaaJC8N1g67L"
   },
   "source": [
    "## Conv feature extraction (VGG-Net)"
   ]
  },
  {
   "cell_type": "code",
   "execution_count": 0,
   "metadata": {
    "colab": {},
    "colab_type": "code",
    "id": "UFyKVUcthJ_U"
   },
   "outputs": [],
   "source": [
    "import tensorflow.contrib.slim as slim"
   ]
  },
  {
   "cell_type": "code",
   "execution_count": 0,
   "metadata": {
    "colab": {},
    "colab_type": "code",
    "id": "v5x9Vo9Mg1Yl"
   },
   "outputs": [],
   "source": [
    "def conv_layers(input_image, is_training):\n",
    "    \"\"\"\n",
    "    Args:\n",
    "        image (np.ndarray): [1, image_height, image_width, image_channel]\n",
    "        is_training (bool)\n",
    "    \n",
    "    Returns:\n",
    "        conv_feats (Tensor): [1, height/stride, width/stride, depth]\n",
    "    \"\"\"\n",
    "    net = slim.repeat(input_image, 2, slim.conv2d, 64, [3, 3], trainable=is_training, scope='conv1')\n",
    "    net = slim.max_pool2d(net, [2, 2], padding='SAME', scope='pool1')  # total stride: 2\n",
    "    net = slim.repeat(net, 2, slim.conv2d, 128, [3, 3], trainable=is_training, scope='conv2')\n",
    "    net = slim.max_pool2d(net, [2, 2], padding='SAME', scope='pool2')  # total stride: 4\n",
    "    net = slim.repeat(net, 3, slim.conv2d, 256, [3, 3], trainable=is_training, scope='conv3')\n",
    "    net = slim.max_pool2d(net, [2, 2], padding='SAME', scope='pool3')  # total stride: 8\n",
    "    net = slim.repeat(net, 3, slim.conv2d, 512, [3, 3], trainable=is_training, scope='conv4')\n",
    "    net = slim.max_pool2d(net, [2, 2], padding='SAME', scope='pool4')  # total stride: 16\n",
    "    net = slim.repeat(net, 3, slim.conv2d, 512, [3, 3], trainable=is_training, scope='conv5')\n",
    "    conv_feats = net\n",
    "    return conv_feats\n",
    "\n",
    "def rpn_intermediate_layer(conv_feats, rpn_channels, is_training):\n",
    "    rpn_intermediate = slim.conv2d(conv_feats, rpn_channels, [3, 3], trainable=is_training)\n",
    "    return rpn_intermediate"
   ]
  },
  {
   "cell_type": "code",
   "execution_count": 0,
   "metadata": {
    "colab": {
     "base_uri": "https://localhost:8080/",
     "height": 88
    },
    "colab_type": "code",
    "id": "el7zf0W0hBJr",
    "outputId": "22c71253-3da7-4ee2-c5e2-7322bf43fde4"
   },
   "outputs": [
    {
     "name": "stdout",
     "output_type": "stream",
     "text": [
      "WARNING:tensorflow:From /usr/local/lib/python3.6/dist-packages/tensorflow/python/framework/op_def_library.py:263: colocate_with (from tensorflow.python.framework.ops) is deprecated and will be removed in a future version.\n",
      "Instructions for updating:\n",
      "Colocations handled automatically by placer.\n"
     ]
    }
   ],
   "source": [
    "t_conv_feats = conv_layers(t_input['image'], IS_TRAINING)\n",
    "t_rpn_intermediate = rpn_intermediate_layer(t_conv_feats, RPN_CHANNELS, IS_TRAINING)"
   ]
  },
  {
   "cell_type": "code",
   "execution_count": 0,
   "metadata": {
    "colab": {
     "base_uri": "https://localhost:8080/",
     "height": 51
    },
    "colab_type": "code",
    "id": "Cs5ReC6XhDIa",
    "outputId": "6045aafc-73d5-44c3-e5c4-2e6716c33486"
   },
   "outputs": [
    {
     "name": "stdout",
     "output_type": "stream",
     "text": [
      "(1, ?, ?, 512)\n",
      "(1, ?, ?, 512)\n"
     ]
    }
   ],
   "source": [
    "print(t_conv_feats.shape)\n",
    "print(t_rpn_intermediate.shape)"
   ]
  },
  {
   "cell_type": "code",
   "execution_count": 0,
   "metadata": {
    "colab": {},
    "colab_type": "code",
    "id": "P5KkYWUChOXd"
   },
   "outputs": [],
   "source": [
    "sess.run(tf.global_variables_initializer())\n",
    "conv_feats, rpn_intermediate = sess.run([t_conv_feats, t_rpn_intermediate], feed_dict=sample_feed_dict)"
   ]
  },
  {
   "cell_type": "code",
   "execution_count": 0,
   "metadata": {
    "colab": {
     "base_uri": "https://localhost:8080/",
     "height": 85
    },
    "colab_type": "code",
    "id": "sfgFoTxmhRV9",
    "outputId": "2e759aa0-5023-4c44-c1ae-0590f779d13b"
   },
   "outputs": [
    {
     "name": "stdout",
     "output_type": "stream",
     "text": [
      "Image shape: (1, 450, 348, 3)\n",
      "Total stride: 16\n",
      "conv_feats shape: (1, 29, 22, 512)\n",
      "rpn_intermediate shape: (1, 29, 22, 512)\n"
     ]
    }
   ],
   "source": [
    "print('Image shape: {}'.format(sample_feed_dict[t_input['image']].shape))\n",
    "print('Total stride: {}'.format(TOTAL_STRIDE))\n",
    "print('conv_feats shape: {}'.format(conv_feats.shape))\n",
    "print('rpn_intermediate shape: {}'.format(rpn_intermediate.shape))"
   ]
  },
  {
   "cell_type": "markdown",
   "metadata": {
    "colab_type": "text",
    "id": "mNv5G77yhWSW"
   },
   "source": [
    "## RPN's (1) classification & (2) bounding box regression"
   ]
  },
  {
   "cell_type": "code",
   "execution_count": 0,
   "metadata": {
    "colab": {},
    "colab_type": "code",
    "id": "bRA5Znx8hR1X"
   },
   "outputs": [],
   "source": [
    "K = len(ANCHOR_SCALES) * len(ANCHOR_RATIOS)\n",
    "\n",
    "def rpn_classification_layer(rpn_intermediate, is_training):\n",
    "    cls_scores = slim.conv2d(  # [H/16, W/16, 2 * num_anchors_per_grid]\n",
    "        rpn_intermediate,\n",
    "        K * 2, [1, 1], trainable=is_training,\n",
    "        weights_initializer=tf.random_normal_initializer(mean=0.0, stddev=0.01),\n",
    "        weights_regularizer=tf.contrib.layers.l2_regularizer(0.0001),\n",
    "        padding='VALID', activation_fn=None\n",
    "    )\n",
    "    cls_probs = tf.reshape(tf.nn.softmax(tf.reshape(cls_scores, (-1, 2))), tf.shape(cls_scores))\n",
    "    cls_preds = tf.argmax(tf.reshape(cls_probs, (-1, 2)), axis=1)\n",
    "    return cls_scores, cls_probs, cls_preds\n",
    "\n",
    "def rpn_regression_layer(rpn_intermediate, is_training):\n",
    "    bbox_params = slim.conv2d(\n",
    "        rpn_intermediate,\n",
    "        K * 4, [1, 1], trainable=is_training,\n",
    "        weights_initializer=tf.random_normal_initializer(mean=0.0, stddev=0.01),\n",
    "        weights_regularizer=tf.contrib.layers.l2_regularizer(0.0001),\n",
    "        padding='VALID', activation_fn=None\n",
    "    )\n",
    "    return bbox_params"
   ]
  },
  {
   "cell_type": "code",
   "execution_count": 0,
   "metadata": {
    "colab": {},
    "colab_type": "code",
    "id": "m-fpn5wvheCx"
   },
   "outputs": [],
   "source": [
    "t_rpn_cls_scores, t_rpn_cls_probs, t_rpn_cls_preds = rpn_classification_layer(t_rpn_intermediate, IS_TRAINING)\n",
    "t_rpn_bbox_params = rpn_regression_layer(t_rpn_intermediate, IS_TRAINING)"
   ]
  },
  {
   "cell_type": "code",
   "execution_count": 0,
   "metadata": {
    "colab": {
     "base_uri": "https://localhost:8080/",
     "height": 51
    },
    "colab_type": "code",
    "id": "42iSa6WBhfME",
    "outputId": "6675e96c-a4cf-405e-a527-7eaa5624c867"
   },
   "outputs": [
    {
     "name": "stdout",
     "output_type": "stream",
     "text": [
      "(1, ?, ?, 12)\n",
      "(1, ?, ?, 24)\n"
     ]
    }
   ],
   "source": [
    "print(t_rpn_cls_scores.shape)\n",
    "print(t_rpn_bbox_params.shape)"
   ]
  },
  {
   "cell_type": "code",
   "execution_count": 0,
   "metadata": {
    "colab": {},
    "colab_type": "code",
    "id": "2pFAHNZwhf6S"
   },
   "outputs": [],
   "source": [
    "sess.run(tf.global_variables_initializer())\n",
    "rpn_cls_scores, rpn_cls_probs, rpn_cls_preds, rpn_bbox_params = sess.run(\n",
    "    [t_rpn_cls_scores, t_rpn_cls_probs, t_rpn_cls_preds, t_rpn_bbox_params], feed_dict=sample_feed_dict\n",
    ")"
   ]
  },
  {
   "cell_type": "code",
   "execution_count": 0,
   "metadata": {
    "colab": {
     "base_uri": "https://localhost:8080/",
     "height": 85
    },
    "colab_type": "code",
    "id": "G6ADYzrOhhMm",
    "outputId": "4a879047-e300-4aec-ef66-caf203a2e661"
   },
   "outputs": [
    {
     "name": "stdout",
     "output_type": "stream",
     "text": [
      "(1, 29, 22, 12)\n",
      "(1, 29, 22, 12)\n",
      "(3828,)\n",
      "(1, 29, 22, 24)\n"
     ]
    }
   ],
   "source": [
    "print(rpn_cls_scores.shape)\n",
    "print(rpn_cls_probs.shape)\n",
    "print(rpn_cls_preds.shape)\n",
    "print(rpn_bbox_params.shape)"
   ]
  },
  {
   "cell_type": "markdown",
   "metadata": {
    "colab_type": "text",
    "id": "bJnexQbnhqZf"
   },
   "source": [
    "## Anchor box targeting & sampling (Train only)"
   ]
  },
  {
   "cell_type": "markdown",
   "metadata": {
    "colab_type": "text",
    "id": "9bSz56lTh8C6"
   },
   "source": [
    "### Compute bbox IOUs."
   ]
  },
  {
   "cell_type": "code",
   "execution_count": 0,
   "metadata": {
    "colab": {
     "base_uri": "https://localhost:8080/",
     "height": 170
    },
    "colab_type": "code",
    "id": "wBKCWYowgMkS",
    "outputId": "86c80abb-9550-4294-d4ad-b46125576ec2"
   },
   "outputs": [
    {
     "name": "stdout",
     "output_type": "stream",
     "text": [
      "Collecting cython_bbox\n",
      "\u001b[?25l  Downloading https://files.pythonhosted.org/packages/fa/b9/fc7d60e8c3b29cc0ff24a3bb3c4b7457e10b7610fbb2893741b623487b34/cython_bbox-0.1.3.tar.gz (41kB)\n",
      "\u001b[K     |████████████████████████████████| 51kB 4.6MB/s \n",
      "\u001b[?25hBuilding wheels for collected packages: cython-bbox\n",
      "  Building wheel for cython-bbox (setup.py) ... \u001b[?25l\u001b[?25hdone\n",
      "  Stored in directory: /root/.cache/pip/wheels/2b/31/b5/9246d5988e79ef89dc28b894835d2f305e23c1e5f4f80278ee\n",
      "Successfully built cython-bbox\n",
      "Installing collected packages: cython-bbox\n",
      "Successfully installed cython-bbox-0.1.3\n"
     ]
    }
   ],
   "source": [
    "!pip install cython_bbox"
   ]
  },
  {
   "cell_type": "code",
   "execution_count": 0,
   "metadata": {
    "colab": {},
    "colab_type": "code",
    "id": "KVs2_OfEhiIm"
   },
   "outputs": [],
   "source": [
    "from cython_bbox import bbox_overlaps\n",
    "\n",
    "def my_bbox_overlaps(boxes1, boxes2):\n",
    "    \"\"\"Compute the IOUs between the two sets of boxes.\n",
    "    \n",
    "    Args:\n",
    "        boxes1 (numpy.ndarray): [num_boxes1, 4]-D array\n",
    "        boxes2 (numpy.ndarray): [num_boxes2, 4]-D array\n",
    "    \n",
    "    Each of a box comprises 4 coordinate values in [xmin, ymin, xmax, ymax] order.\n",
    "        \n",
    "    Returns:\n",
    "        overlaps (numpy.ndarray): [num_boxes1, num_boxes2]-D array, which is the distance matrix of the two sets of boxes\n",
    "    \"\"\"\n",
    "    # Compute the areas of `boxes1` and `boxes2`.\n",
    "    area1 = (boxes1[:, 2] - boxes1[:, 0] + 1) * (boxes1[:, 3] - boxes1[:, 1] + 1)  # [num_boxes1]\n",
    "    area2 = (boxes2[:, 2] - boxes2[:, 0] + 1) * (boxes2[:, 3] - boxes2[:, 1] + 1)  # [num_boxes2]\n",
    "    \n",
    "    # Compute the areas of the intersections.\n",
    "    intersection_h = np.maximum(\n",
    "        (np.minimum(np.expand_dims(boxes1[:, 3], axis=1), boxes2[:, 3]) -\n",
    "         np.maximum(np.expand_dims(boxes1[:, 1], axis=1), boxes2[:, 1]) + 1),\n",
    "        0\n",
    "    )  # [num_boxes1, num_boxes2]-D\n",
    "    intersection_w = np.maximum(\n",
    "        (np.minimum(np.expand_dims(boxes1[:, 2], axis=1), boxes2[:, 2]) -\n",
    "         np.maximum(np.expand_dims(boxes1[:, 0], axis=1), boxes2[:, 0]) + 1),\n",
    "        0\n",
    "    )  # [num_boxes1, num_boxes2]-D\n",
    "    intersection = intersection_h * intersection_w  # [num_boxes1, num_boxes2]-D\n",
    "\n",
    "    # Compute the areas of the unions.\n",
    "    union = np.maximum(\n",
    "        np.expand_dims(area1, 1) + area2 - intersection,\n",
    "        np.finfo(float).eps\n",
    "    )\n",
    "    \n",
    "    # Compute IOU values.\n",
    "    iou = intersection / union\n",
    "\n",
    "    return iou"
   ]
  },
  {
   "cell_type": "markdown",
   "metadata": {
    "colab_type": "text",
    "id": "VzB5QPaBh6Ts"
   },
   "source": [
    "### Usage"
   ]
  },
  {
   "cell_type": "code",
   "execution_count": 0,
   "metadata": {
    "colab": {
     "base_uri": "https://localhost:8080/",
     "height": 119
    },
    "colab_type": "code",
    "id": "Y1p1F9eHh2rn",
    "outputId": "706d0afb-05a9-4730-df9d-9683b9710992"
   },
   "outputs": [
    {
     "name": "stdout",
     "output_type": "stream",
     "text": [
      "Custom bbox_overlaps:\n",
      "[[0.3442623  0.         0.        ]\n",
      " [0.         1.         0.50617284]]\n",
      "Cython bbox_overlaps:\n",
      "[[0.3442623  0.         0.        ]\n",
      " [0.         1.         0.50617284]]\n"
     ]
    }
   ],
   "source": [
    "boxes1 = np.array([[10, 10, 50, 50], [80, 80, 120, 120]])\n",
    "boxes2 = np.array([[30, 10, 70, 50], [80, 80, 120, 120], [80, 80, 120, 160]])\n",
    "\n",
    "print('Custom bbox_overlaps:\\n{}'.format(my_bbox_overlaps(boxes1, boxes2)))\n",
    "print('Cython bbox_overlaps:\\n{}'.format(bbox_overlaps(np.asarray(boxes1, np.float64), np.asarray(boxes2, np.float64))))"
   ]
  },
  {
   "cell_type": "markdown",
   "metadata": {
    "colab_type": "text",
    "id": "h9ucAcYeiIqq"
   },
   "source": [
    "### Compute bbox parameters (\"delta\")."
   ]
  },
  {
   "cell_type": "code",
   "execution_count": 0,
   "metadata": {
    "colab": {},
    "colab_type": "code",
    "id": "TUeD4KTbh5ZU"
   },
   "outputs": [],
   "source": [
    "def compute_bbox_deltas(src_bboxes, dst_bboxes):\n",
    "    src_widths = src_bboxes[:, 2] - src_bboxes[:, 0] + 1.0\n",
    "    src_heights = src_bboxes[:, 3] - src_bboxes[:, 1] + 1.0\n",
    "    src_ctr_x = src_bboxes[:, 0] + 0.5 * src_widths\n",
    "    src_ctr_y = src_bboxes[:, 1] + 0.5 * src_heights\n",
    "\n",
    "    dst_widths = dst_bboxes[:, 2] - dst_bboxes[:, 0] + 1.0\n",
    "    dst_heights = dst_bboxes[:, 3] - dst_bboxes[:, 1] + 1.0\n",
    "    dst_ctr_x = dst_bboxes[:, 0] + 0.5 * dst_widths\n",
    "    dst_ctr_y = dst_bboxes[:, 1] + 0.5 * dst_heights\n",
    "\n",
    "    targets_dx = (dst_ctr_x - src_ctr_x) / src_widths\n",
    "    targets_dy = (dst_ctr_y - src_ctr_y) / src_heights\n",
    "    targets_dw = np.log(dst_widths / src_widths)\n",
    "    targets_dh = np.log(dst_heights / src_heights)\n",
    "\n",
    "    targets = np.vstack((targets_dx, targets_dy, targets_dw, targets_dh)).transpose()\n",
    "    return targets"
   ]
  },
  {
   "cell_type": "markdown",
   "metadata": {
    "colab_type": "text",
    "id": "eJHmISrzigD3"
   },
   "source": [
    "### Usage"
   ]
  },
  {
   "cell_type": "code",
   "execution_count": 0,
   "metadata": {
    "colab": {
     "base_uri": "https://localhost:8080/",
     "height": 68
    },
    "colab_type": "code",
    "id": "ghpKFiq5igjO",
    "outputId": "7e2a5776-3439-405b-800c-b65028dc0d79"
   },
   "outputs": [
    {
     "name": "stdout",
     "output_type": "stream",
     "text": [
      "Computed bbox params:\n",
      "[[0.98039216 1.47058824 0.         0.68329488]\n",
      " [0.         0.         0.         0.        ]]\n"
     ]
    }
   ],
   "source": [
    "boxes1 = np.array([[0, 0, 50, 50], [80, 80, 120, 160]])\n",
    "boxes2 = np.array([[50, 50, 100, 150], [80, 80, 120, 160]])\n",
    "\n",
    "deltas = compute_bbox_deltas(boxes1, boxes2)\n",
    "print('Computed bbox params:\\n{}'.format(deltas))"
   ]
  },
  {
   "cell_type": "code",
   "execution_count": 0,
   "metadata": {
    "colab": {},
    "colab_type": "code",
    "id": "c0xeM_SYiszj"
   },
   "outputs": [],
   "source": [
    "def _unmap(data, count, indices, fill=0):\n",
    "    \"\"\"Unmap a subset of item (data) back to the original set of items (of size count)\n",
    "    \"\"\"\n",
    "    if len(data.shape) == 1:\n",
    "        ret = np.empty((count,), dtype=np.float32)\n",
    "        ret.fill(fill)\n",
    "        ret[indices] = data\n",
    "    else:\n",
    "        ret = np.empty((count,) + data.shape[1:], dtype=np.float32)\n",
    "        ret.fill(fill)\n",
    "        ret[indices, :] = data\n",
    "    return ret\n",
    "\n",
    "\n",
    "def anchor_target_layer(rpn_cls_scores, anchor_boxes, gt_boxes, image_size):\n",
    "    gt_boxes = gt_boxes[0]\n",
    "    num_grids_h, num_grids_w = rpn_cls_scores.shape[1:3]\n",
    "\n",
    "    # Only keep anchor boxes inside the image border.\n",
    "    inds_inside = np.where(\n",
    "        (anchor_boxes[:, 0] >= 0) & (anchor_boxes[:, 1] >= 0) & (anchor_boxes[:, 2] < image_size[1]) & (anchor_boxes[:, 3] < image_size[0])\n",
    "    )[0]\n",
    "    anchor_boxes_inside = anchor_boxes[inds_inside, :]\n",
    "    \n",
    "    # Create labels. (1: Positive, 0: Negative, -1: Ignore)\n",
    "    labels_inside = np.empty((len(inds_inside),), dtype=np.float32)  # [num_inside_anchor_boxes]\n",
    "    labels_inside.fill(-1)  # Default to be ignored\n",
    "\n",
    "    # Compute the IOU matrix (distance matrix) between the anchor boxes and GT boxes.\n",
    "    overlaps = my_bbox_overlaps(  # [num_anchor_boxes, num_gt_boxes]-D matrix\n",
    "        np.ascontiguousarray(anchor_boxes_inside, dtype=np.float64),\n",
    "        np.ascontiguousarray(gt_boxes, dtype=np.float64)\n",
    "    )\n",
    "\n",
    "    # Find the argmax and max for the anchor boxes.\n",
    "    argmax_overlaps = overlaps.argmax(axis=1)  # [num_anchor_boxes]\n",
    "    max_overlaps = overlaps.max(axis=1)  # [num_anchor_boxes]\n",
    "\n",
    "    # Find the argmax and max for the GT boxes.\n",
    "    gt_argmax_overlaps = overlaps.argmax(axis=0)  # [num_gt_boxes]\n",
    "    gt_max_overlaps = overlaps.max(axis=0)  # [num_gt_boxes]\n",
    "\n",
    "    # Assign labels to anchor boxes.\n",
    "    # Positive: 1, Negative: 0, Ignored: -1\n",
    "    labels_inside[max_overlaps < RPN_NEG_THRES] = 0\n",
    "    labels_inside[max_overlaps >= RPN_POS_THRES] = 1\n",
    "\n",
    "    # Assign positive labels to anchor boxes which best matches to any GT boxes.\n",
    "    labels_inside[gt_argmax_overlaps] = 1\n",
    "\n",
    "    # Subsample the positive samples if we have too many.\n",
    "    num_pos_limit = int(RPN_POS_RATIO * RPN_BATCH_SIZE)\n",
    "    inds_pos = np.where(labels_inside == 1)[0]\n",
    "    if len(inds_pos) > num_pos_limit:\n",
    "        inds_drop_out = npr.choice(inds_pos, size=(len(inds_pos) - num_pos_limit), replace=False)\n",
    "        labels_inside[inds_drop_out] = -1\n",
    "\n",
    "    # Subsampe the negative samples if we have too many.\n",
    "    num_neg_limit = RPN_BATCH_SIZE - np.sum(labels_inside == 1)\n",
    "    inds_neg = np.where(labels_inside == 0)[0]\n",
    "    if len(inds_neg) > num_neg_limit:\n",
    "        inds_drop_out = npr.choice(inds_neg, size=(len(inds_neg) - num_neg_limit), replace=False)\n",
    "        labels_inside[inds_drop_out] = -1\n",
    "\n",
    "    # Compute bbox deltas of all the inside anchor boxes.\n",
    "    bbox_targets_inside = compute_bbox_deltas(anchor_boxes_inside, gt_boxes[argmax_overlaps, :])\n",
    "\n",
    "    # Map up to original set of anchor boxes (only inside anchor boxes -> all anchor boxes)\n",
    "    num_anchor_boxes = anchor_boxes.shape[0]\n",
    "    labels = _unmap(labels_inside, num_anchor_boxes, inds_inside, fill=-1)\n",
    "    bbox_targets = _unmap(bbox_targets_inside, num_anchor_boxes, inds_inside, fill=0)\n",
    "\n",
    "    # Reshape tensors into a grid cell form.\n",
    "    labels = labels.reshape((1, num_grids_h, num_grids_w, K))\n",
    "    bbox_targets = bbox_targets.reshape((1, num_grids_h, num_grids_w, K * 4))\n",
    "    \n",
    "    return labels, bbox_targets"
   ]
  },
  {
   "cell_type": "code",
   "execution_count": 0,
   "metadata": {
    "colab": {
     "base_uri": "https://localhost:8080/",
     "height": 170
    },
    "colab_type": "code",
    "id": "P6XjxZcDovql",
    "outputId": "9142ca43-aab1-42cf-f02e-ae25927ea19c"
   },
   "outputs": [
    {
     "name": "stdout",
     "output_type": "stream",
     "text": [
      "WARNING:tensorflow:From <ipython-input-58-1a98301ec7bf>:6: py_func (from tensorflow.python.ops.script_ops) is deprecated and will be removed in a future version.\n",
      "Instructions for updating:\n",
      "tf.py_func is deprecated in TF V2. Instead, use\n",
      "    tf.py_function, which takes a python function which manipulates tf eager\n",
      "    tensors instead of numpy arrays. It's easy to convert a tf eager tensor to\n",
      "    an ndarray (just call tensor.numpy()) but having access to eager tensors\n",
      "    means `tf.py_function`s can use accelerators such as GPUs as well as\n",
      "    being differentiable using a gradient tape.\n",
      "    \n"
     ]
    }
   ],
   "source": [
    "if IS_TRAINING:\n",
    "  t_rpn_labels, t_rpn_bbox_targets = tf.py_func(\n",
    "      anchor_target_layer,\n",
    "      [t_rpn_cls_scores, t_anchor_boxes, t_input['gt_box_set'], tf.shape(t_input['image'])[1:3]],\n",
    "      [tf.float32, tf.float32],\n",
    "      name='anchor_target'\n",
    "  )"
   ]
  },
  {
   "cell_type": "code",
   "execution_count": 0,
   "metadata": {
    "colab": {
     "base_uri": "https://localhost:8080/",
     "height": 51
    },
    "colab_type": "code",
    "id": "gdXXgQk-owz0",
    "outputId": "3b5f9cb5-3245-4a1b-f6d9-ab791d5c8c95"
   },
   "outputs": [
    {
     "name": "stdout",
     "output_type": "stream",
     "text": [
      "<unknown>\n",
      "<unknown>\n"
     ]
    }
   ],
   "source": [
    "if IS_TRAINING:\n",
    "  print(t_rpn_labels.shape)\n",
    "  print(t_rpn_bbox_targets.shape)"
   ]
  },
  {
   "cell_type": "code",
   "execution_count": 0,
   "metadata": {
    "colab": {},
    "colab_type": "code",
    "id": "b1h0dRrKoxzo"
   },
   "outputs": [],
   "source": [
    "if IS_TRAINING:\n",
    "  rpn_labels, rpn_bbox_targets = sess.run(\n",
    "      [t_rpn_labels, t_rpn_bbox_targets], feed_dict=sample_feed_dict\n",
    "  )"
   ]
  },
  {
   "cell_type": "code",
   "execution_count": 0,
   "metadata": {
    "colab": {
     "base_uri": "https://localhost:8080/",
     "height": 51
    },
    "colab_type": "code",
    "id": "o9sCDWS2oymW",
    "outputId": "45b3026b-f77e-4750-de9b-c13304c27bbe"
   },
   "outputs": [
    {
     "name": "stdout",
     "output_type": "stream",
     "text": [
      "rpn_labels: (1, 29, 22, 6)\n",
      "rpn_bbox_targets: (1, 29, 22, 24)\n"
     ]
    }
   ],
   "source": [
    "if IS_TRAINING:\n",
    "  print('rpn_labels: {}'.format(rpn_labels.shape))\n",
    "  print('rpn_bbox_targets: {}'.format(rpn_bbox_targets.shape))"
   ]
  },
  {
   "cell_type": "code",
   "execution_count": 0,
   "metadata": {
    "colab": {
     "base_uri": "https://localhost:8080/",
     "height": 85
    },
    "colab_type": "code",
    "id": "fwv5HT6AozWL",
    "outputId": "dfdd87d8-ac2c-4a06-a062-7216e2f36fa2"
   },
   "outputs": [
    {
     "name": "stdout",
     "output_type": "stream",
     "text": [
      "Positive: 1\n",
      "Negative: 127\n",
      "Ignored: 3700\n",
      "Batch size: 128\n"
     ]
    }
   ],
   "source": [
    "if IS_TRAINING:\n",
    "  print('Positive: {}'.format(np.count_nonzero(rpn_labels == 1)))\n",
    "  print('Negative: {}'.format(np.count_nonzero(rpn_labels == 0)))\n",
    "  print('Ignored: {}'.format(np.count_nonzero(rpn_labels == -1)))\n",
    "\n",
    "  print('Batch size: {}'.format(RPN_BATCH_SIZE))"
   ]
  },
  {
   "cell_type": "markdown",
   "metadata": {
    "colab_type": "text",
    "id": "gMQyqePIo3gB"
   },
   "source": [
    "## Anchor box transformation"
   ]
  },
  {
   "cell_type": "code",
   "execution_count": 0,
   "metadata": {
    "colab": {},
    "colab_type": "code",
    "id": "Ld_UEVNZo1BJ"
   },
   "outputs": [],
   "source": [
    "def transform_bboxes(boxes, deltas):\n",
    "    \"\"\"\n",
    "    Args:\n",
    "        boxes: [num_boxes, 4], (xmin, ymin, xmax, ymax) formed\n",
    "        deltas: [num_boxes, 4], (tx, ty, tw, th)\n",
    "    \"\"\"\n",
    "    boxes = tf.cast(boxes, deltas.dtype)\n",
    "    \n",
    "    # Compute size and center coordinates of the boxex.\n",
    "    widths = tf.subtract(boxes[:, 2], boxes[:, 0]) + 1.0\n",
    "    heights = tf.subtract(boxes[:, 3], boxes[:, 1]) + 1.0\n",
    "    ctr_x = tf.add(boxes[:, 0], widths * 0.5)\n",
    "    ctr_y = tf.add(boxes[:, 1], heights * 0.5)\n",
    "\n",
    "    tx, ty, tw, th = deltas[:, 0], deltas[:, 1], deltas[:, 2], deltas[:, 3]\n",
    "\n",
    "    transformed_ctr_x = tf.add(tf.multiply(tx, widths), ctr_x)\n",
    "    transformed_ctr_y = tf.add(tf.multiply(ty, heights), ctr_y)\n",
    "    transformed_w = tf.multiply(tf.exp(tw), widths)\n",
    "    transformed_h = tf.multiply(tf.exp(th), heights)\n",
    "\n",
    "    transformed_xmin = tf.subtract(transformed_ctr_x, transformed_w * 0.5)\n",
    "    transformed_ymin = tf.subtract(transformed_ctr_y, transformed_h * 0.5)\n",
    "    transformed_xmax = tf.add(transformed_ctr_x, transformed_w * 0.5)\n",
    "    transformed_ymax = tf.add(transformed_ctr_y, transformed_h * 0.5)\n",
    "\n",
    "    return tf.stack([transformed_xmin, transformed_ymin, transformed_xmax, transformed_ymax], axis=1)\n",
    "\n",
    "def clip_bboxes(boxes, img_shape):\n",
    "    \"\"\"\n",
    "    Args:\n",
    "        boxes: [n_boxes, 4]\n",
    "        img_shape: [2]\n",
    "    \"\"\"\n",
    "    img_shape = tf.to_float(img_shape)\n",
    "    b0 = tf.maximum(tf.minimum(boxes[:, 0], img_shape[2] - 1), 0)\n",
    "    b1 = tf.maximum(tf.minimum(boxes[:, 1], img_shape[1] - 1), 0)\n",
    "    b2 = tf.maximum(tf.minimum(boxes[:, 2], img_shape[2] - 1), 0)\n",
    "    b3 = tf.maximum(tf.minimum(boxes[:, 3], img_shape[1] - 1), 0)\n",
    "    \n",
    "    return tf.stack([b0, b1, b2, b3], axis=1)"
   ]
  },
  {
   "cell_type": "code",
   "execution_count": 0,
   "metadata": {
    "colab": {
     "base_uri": "https://localhost:8080/",
     "height": 68
    },
    "colab_type": "code",
    "id": "-hjSwRVdo7Hi",
    "outputId": "443082a8-a12d-4de2-d6b0-1cc84fbe61d8"
   },
   "outputs": [
    {
     "name": "stdout",
     "output_type": "stream",
     "text": [
      "WARNING:tensorflow:From <ipython-input-63-23c294c3b310>:35: to_float (from tensorflow.python.ops.math_ops) is deprecated and will be removed in a future version.\n",
      "Instructions for updating:\n",
      "Use tf.cast instead.\n"
     ]
    }
   ],
   "source": [
    "t_transformed_anchor_boxes = transform_bboxes(\n",
    "    t_anchor_boxes, tf.reshape(t_rpn_bbox_params, (-1, 4))\n",
    ")\n",
    "t_clipped_anchor_boxes = clip_bboxes(\n",
    "    t_transformed_anchor_boxes, tf.shape(t_input['image'])\n",
    ")"
   ]
  },
  {
   "cell_type": "code",
   "execution_count": 0,
   "metadata": {
    "colab": {
     "base_uri": "https://localhost:8080/",
     "height": 51
    },
    "colab_type": "code",
    "id": "wp1cTbUJo8f4",
    "outputId": "d218ee2e-165c-4be2-f9dc-d20568e45b9f"
   },
   "outputs": [
    {
     "name": "stdout",
     "output_type": "stream",
     "text": [
      "(?, 4)\n",
      "(?, 4)\n"
     ]
    }
   ],
   "source": [
    "print(t_transformed_anchor_boxes.shape)\n",
    "print(t_clipped_anchor_boxes.shape)"
   ]
  },
  {
   "cell_type": "code",
   "execution_count": 0,
   "metadata": {
    "colab": {},
    "colab_type": "code",
    "id": "-n6dX_xUo8wn"
   },
   "outputs": [],
   "source": [
    "transformed_anchor_boxes, clipped_anchor_boxes = sess.run(\n",
    "    [t_transformed_anchor_boxes, t_clipped_anchor_boxes], feed_dict=sample_feed_dict\n",
    ")"
   ]
  },
  {
   "cell_type": "code",
   "execution_count": 0,
   "metadata": {
    "colab": {
     "base_uri": "https://localhost:8080/",
     "height": 51
    },
    "colab_type": "code",
    "id": "CFBsdApMo-K-",
    "outputId": "14456709-7799-4ee1-a3b4-645b09503ee9"
   },
   "outputs": [
    {
     "name": "stdout",
     "output_type": "stream",
     "text": [
      "(3828, 4)\n",
      "(3828, 4)\n"
     ]
    }
   ],
   "source": [
    "print(transformed_anchor_boxes.shape)\n",
    "print(clipped_anchor_boxes.shape)"
   ]
  },
  {
   "cell_type": "code",
   "execution_count": 0,
   "metadata": {
    "colab": {
     "base_uri": "https://localhost:8080/",
     "height": 102
    },
    "colab_type": "code",
    "id": "YSricUPVo_D0",
    "outputId": "7a218da6-c23f-481f-cd9e-54aab7edfd59"
   },
   "outputs": [
    {
     "name": "stdout",
     "output_type": "stream",
     "text": [
      "anchor box: [256. 280. 431. 631.]\n",
      "bbox params: [ 5.7006841e-05  4.2890049e-05 -1.3712201e-05 -4.7836347e-05]\n",
      "transformed box: [256.01123 280.0235  432.00885 632.0067 ]\n",
      "image size: (450, 348)\n",
      "clipped box: [256.01123 280.0235  347.      449.     ]\n"
     ]
    }
   ],
   "source": [
    "ANCHOR_BOX_IDX = -1\n",
    "\n",
    "print('anchor box: {}'.format(anchor_boxes[ANCHOR_BOX_IDX]))\n",
    "print('bbox params: {}'.format(np.reshape(rpn_bbox_params, (-1, 4))[ANCHOR_BOX_IDX]))\n",
    "print('transformed box: {}'.format(transformed_anchor_boxes[ANCHOR_BOX_IDX]))\n",
    "print('image size: {}'.format(sample_batch['image'].shape[1:3]))\n",
    "print('clipped box: {}'.format(clipped_anchor_boxes[ANCHOR_BOX_IDX]))"
   ]
  },
  {
   "cell_type": "markdown",
   "metadata": {
    "colab_type": "text",
    "id": "x63WxOe-pEX1"
   },
   "source": [
    "## Non Maximum Suppression → Proposal Boxes"
   ]
  },
  {
   "cell_type": "code",
   "execution_count": 0,
   "metadata": {
    "colab": {},
    "colab_type": "code",
    "id": "wy9L8aSopAXc"
   },
   "outputs": [],
   "source": [
    "K = len(ANCHOR_SCALES) * len(ANCHOR_RATIOS)\n",
    "\n",
    "def nms(boxes, rpn_cls_probs, top_k, iou_thres):\n",
    "    obj_scores = tf.reshape(tf.transpose(tf.reshape(rpn_cls_probs, (-1, K, 2)), (0, 2, 1)), tf.shape(rpn_cls_probs))[..., K:]\n",
    "    nms_indices = tf.image.non_max_suppression(\n",
    "        boxes, tf.reshape(obj_scores, (-1,)), max_output_size=top_k, iou_threshold=iou_thres\n",
    "    )\n",
    "    boxes_alive = tf.gather(boxes, nms_indices)\n",
    "    scores_alive = tf.gather(tf.reshape(obj_scores, (-1,)), nms_indices)\n",
    "    \n",
    "    return boxes_alive, scores_alive"
   ]
  },
  {
   "cell_type": "code",
   "execution_count": 0,
   "metadata": {
    "colab": {},
    "colab_type": "code",
    "id": "9Qjx24qXpIPT"
   },
   "outputs": [],
   "source": [
    "t_proposal_boxes, t_proposal_scores = nms(t_clipped_anchor_boxes, t_rpn_cls_probs, NMS_TOP_K, NMS_IOU_THRES)"
   ]
  },
  {
   "cell_type": "code",
   "execution_count": 0,
   "metadata": {
    "colab": {
     "base_uri": "https://localhost:8080/",
     "height": 51
    },
    "colab_type": "code",
    "id": "GOUWwz6vpM1Y",
    "outputId": "18815af4-9921-451c-ae05-f3df40e2b511"
   },
   "outputs": [
    {
     "name": "stdout",
     "output_type": "stream",
     "text": [
      "(?, 4)\n",
      "(?,)\n"
     ]
    }
   ],
   "source": [
    "print(t_proposal_boxes.shape)\n",
    "print(t_proposal_scores.shape)"
   ]
  },
  {
   "cell_type": "markdown",
   "metadata": {
    "colab_type": "text",
    "id": "oKUUfkecrBbG"
   },
   "source": [
    "## Proposal Box Targeting & Sampling (Only for Training)"
   ]
  },
  {
   "cell_type": "code",
   "execution_count": 0,
   "metadata": {
    "colab": {},
    "colab_type": "code",
    "id": "ArJULZAKpfmJ"
   },
   "outputs": [],
   "source": [
    "def proposal_target_layer(proposal_boxes, proposal_scores, gt_boxes, num_obj_classes):\n",
    "    \"\"\"\n",
    "    Assign object detection proposals to ground-truth targets.\n",
    "    Produces proposal classification labels and bounding-box regression targets.\n",
    "    Args:\n",
    "        proposal_boxes: [num_proposal_boxes, 4]\n",
    "        proposal_scores: [num_proposal_boxes, 1]\n",
    "    \"\"\"\n",
    "    num_classes = num_obj_classes + 1\n",
    "    gt_boxes = gt_boxes[0]\n",
    "    \n",
    "    overlaps = bbox_overlaps(\n",
    "        np.ascontiguousarray(proposal_boxes, dtype=np.float64),\n",
    "        np.ascontiguousarray(gt_boxes, dtype=np.float64)\n",
    "    )\n",
    "    \n",
    "    argmax_overlaps = overlaps.argmax(axis=1)  # [num_proposal_boxes]\n",
    "    max_overlaps = overlaps.max(axis=1)  # [num_proposal_boxes]\n",
    "    \n",
    "    # Sample positive and negative samples to compose a batch.\n",
    "    inds_pos = np.where(max_overlaps >= FRCNN_POS_THRES)[0]\n",
    "    inds_neg = np.where(max_overlaps < FRCNN_NEG_THRES)[0]\n",
    "    \n",
    "    if len(inds_pos) == 0 and len(inds_neg) == 0:\n",
    "        raise Exception('Neither positive and negative samples exists.')\n",
    "        \n",
    "    num_pos_limit = int(FRCNN_POS_RATIO * FRCNN_BATCH_SIZE)\n",
    "    if len(inds_pos) > num_pos_limit:\n",
    "        inds_pos = npr.choice(inds_pos, num_pos_limit, replace=False)\n",
    "    \n",
    "    num_neg = FRCNN_BATCH_SIZE - len(inds_pos)\n",
    "    if len(inds_neg) > num_neg:\n",
    "        inds_neg = npr.choice(inds_neg, num_neg, replace=False)\n",
    "    elif len(inds_neg) < num_neg:\n",
    "        inds_neg = npr.choice(inds_neg, num_neg, replace=True)\n",
    "\n",
    "    # Collect the sampled proposal boxes.\n",
    "    inds_sampled = np.append(inds_pos, inds_neg)\n",
    "    sampled_proposal_boxes = proposal_boxes[inds_sampled]\n",
    "    sampled_proposal_scores = proposal_scores[inds_sampled]\n",
    "    \n",
    "    # Compose classification labels and bounding box regression targets.\n",
    "    labels = gt_boxes[argmax_overlaps[inds_sampled], 4] + 1\n",
    "    labels[len(inds_pos):] = 0  # Set negative samples' label to 0(background).\n",
    "    \n",
    "    # DEBUG\n",
    "#     print('IOUs of proposal boxes:\\n{}'.format(np.sort(max_overlaps[inds_sampled])[::-1][:5]))\n",
    "#     print('inds_pos: {}, inds_neg: {}'.format(len(inds_pos), len(inds_neg)))\n",
    "    \n",
    "    bbox_targets = compute_bbox_deltas(proposal_boxes[inds_sampled], gt_boxes[argmax_overlaps[inds_sampled]])\n",
    "    \n",
    "    return sampled_proposal_boxes, sampled_proposal_scores, labels, bbox_targets"
   ]
  },
  {
   "cell_type": "code",
   "execution_count": 0,
   "metadata": {
    "colab": {},
    "colab_type": "code",
    "id": "zvlpKrIspgpf"
   },
   "outputs": [],
   "source": [
    "if IS_TRAINING:\n",
    "  t_sampled_proposal_boxes, t_sampled_proposal_scores, t_frcnn_labels, t_frcnn_bbox_targets = tf.py_func(\n",
    "      proposal_target_layer,\n",
    "      [t_proposal_boxes, t_proposal_scores, t_input['gt_box_set'], num_obj_classes],\n",
    "      [tf.float32, tf.float32, tf.float32, tf.float32],\n",
    "      name='proposal_target'\n",
    "  )"
   ]
  },
  {
   "cell_type": "code",
   "execution_count": 0,
   "metadata": {
    "colab": {
     "base_uri": "https://localhost:8080/",
     "height": 85
    },
    "colab_type": "code",
    "id": "4mDTUyNqplEH",
    "outputId": "0a85169b-1d43-4a93-d39f-23bc6db852d6"
   },
   "outputs": [
    {
     "name": "stdout",
     "output_type": "stream",
     "text": [
      "<unknown>\n",
      "<unknown>\n",
      "<unknown>\n",
      "<unknown>\n"
     ]
    }
   ],
   "source": [
    "if IS_TRAINING:\n",
    "  print(t_sampled_proposal_boxes.shape)\n",
    "  print(t_sampled_proposal_scores.shape)\n",
    "  print(t_frcnn_labels.shape)\n",
    "  print(t_frcnn_bbox_targets.shape)"
   ]
  },
  {
   "cell_type": "code",
   "execution_count": 0,
   "metadata": {
    "colab": {},
    "colab_type": "code",
    "id": "0A-LoQr8pmdv"
   },
   "outputs": [],
   "source": [
    "if IS_TRAINING:\n",
    "  sampled_proposal_boxes, sampled_proposal_scores, frcnn_labels, frcnn_bbox_targets = sess.run(\n",
    "      [t_sampled_proposal_boxes, t_sampled_proposal_scores, t_frcnn_labels, t_frcnn_bbox_targets], feed_dict=sample_feed_dict\n",
    "  )"
   ]
  },
  {
   "cell_type": "code",
   "execution_count": 0,
   "metadata": {
    "colab": {
     "base_uri": "https://localhost:8080/",
     "height": 85
    },
    "colab_type": "code",
    "id": "Cx0-LcE5pnta",
    "outputId": "358a9265-705c-49e7-d539-d40fa8d91514"
   },
   "outputs": [
    {
     "name": "stdout",
     "output_type": "stream",
     "text": [
      "sampled_proposal_boxes: (128, 4)\n",
      "sampled_proposal_scores: (128,)\n",
      "frcnn_labels: (128,)\n",
      "frcnn_bbox_targets: (128, 4)\n"
     ]
    }
   ],
   "source": [
    "if IS_TRAINING:\n",
    "  print('sampled_proposal_boxes: {}'.format(sampled_proposal_boxes.shape))\n",
    "  print('sampled_proposal_scores: {}'.format(sampled_proposal_scores.shape))\n",
    "  print('frcnn_labels: {}'.format(frcnn_labels.shape))\n",
    "  print('frcnn_bbox_targets: {}'.format(frcnn_bbox_targets.shape))"
   ]
  },
  {
   "cell_type": "markdown",
   "metadata": {
    "colab_type": "text",
    "id": "0wYWmVhMrHwh"
   },
   "source": [
    "## ROI Pooling"
   ]
  },
  {
   "cell_type": "code",
   "execution_count": 0,
   "metadata": {
    "colab": {},
    "colab_type": "code",
    "id": "u1MoYV1_pyOd"
   },
   "outputs": [],
   "source": [
    "def roi_pooling_layer(conv_feats, proposal_boxes, pool_size):\n",
    "    # Get normalized ROI coordinates.\n",
    "    ceiled_img_h = tf.to_float(tf.shape(t_conv_feats)[1]) * np.float32(TOTAL_STRIDE)\n",
    "    ceiled_img_w = tf.to_float(tf.shape(t_conv_feats)[2]) * np.float32(TOTAL_STRIDE)                \n",
    "    xmin = proposal_boxes[:, 0:1] / ceiled_img_w\n",
    "    ymin = proposal_boxes[:, 1:2] / ceiled_img_h\n",
    "    xmax = proposal_boxes[:, 2:3] / ceiled_img_w\n",
    "    ymax = proposal_boxes[:, 3:4] / ceiled_img_h\n",
    "    normalized_boxes = tf.concat([ymin, xmin, ymax, xmax], axis=1)  # [num_proposal_boxes, 4]\n",
    "\n",
    "    batch_indices = tf.zeros((tf.shape(normalized_boxes)[0],), dtype=tf.int32)\n",
    "\n",
    "    pre_pool_size = pool_size * 2\n",
    "    cropped_feats = tf.image.crop_and_resize(\n",
    "        conv_feats, normalized_boxes, batch_indices, [pre_pool_size, pre_pool_size], name='roi_pooled_feats'\n",
    "    )\n",
    "    pooled_feats = slim.max_pool2d(cropped_feats, [2, 2], padding='SAME')\n",
    "    \n",
    "    return pooled_feats"
   ]
  },
  {
   "cell_type": "code",
   "execution_count": 0,
   "metadata": {
    "colab": {},
    "colab_type": "code",
    "id": "xe2HgA-mp0_i"
   },
   "outputs": [],
   "source": [
    "if IS_TRAINING:\n",
    "    t_roi_pooled_feats = roi_pooling_layer(t_conv_feats, t_sampled_proposal_boxes, ROI_POOL_SIZE)\n",
    "else:\n",
    "    t_roi_pooled_feats = roi_pooling_layer(t_conv_feats, t_proposal_boxes, ROI_POOL_SIZE)"
   ]
  },
  {
   "cell_type": "code",
   "execution_count": 0,
   "metadata": {
    "colab": {
     "base_uri": "https://localhost:8080/",
     "height": 34
    },
    "colab_type": "code",
    "id": "QSzSJJiqqAKw",
    "outputId": "9bc4381b-a85a-409f-e266-71f27507f270"
   },
   "outputs": [
    {
     "name": "stdout",
     "output_type": "stream",
     "text": [
      "(?, 7, 7, 512)\n"
     ]
    }
   ],
   "source": [
    "print(t_roi_pooled_feats.shape)"
   ]
  },
  {
   "cell_type": "code",
   "execution_count": 0,
   "metadata": {
    "colab": {},
    "colab_type": "code",
    "id": "59WGwpHDqBWI"
   },
   "outputs": [],
   "source": [
    "roi_pooled_feats = sess.run(t_roi_pooled_feats, feed_dict=sample_feed_dict)"
   ]
  },
  {
   "cell_type": "code",
   "execution_count": 0,
   "metadata": {
    "colab": {
     "base_uri": "https://localhost:8080/",
     "height": 34
    },
    "colab_type": "code",
    "id": "TrTx6BmDqCxK",
    "outputId": "928d977e-a387-4e9b-e5cd-0f93af08c16f"
   },
   "outputs": [
    {
     "name": "stdout",
     "output_type": "stream",
     "text": [
      "(128, 7, 7, 512)\n"
     ]
    }
   ],
   "source": [
    "print(roi_pooled_feats.shape)"
   ]
  },
  {
   "cell_type": "markdown",
   "metadata": {
    "colab_type": "text",
    "id": "-O3oyEORrLos"
   },
   "source": [
    "## FC Feature Extraction"
   ]
  },
  {
   "cell_type": "code",
   "execution_count": 0,
   "metadata": {
    "colab": {},
    "colab_type": "code",
    "id": "d2unRBYEqHlf"
   },
   "outputs": [],
   "source": [
    "def fc_layers(roi_pooled_feats, is_training):\n",
    "    \"\"\"\n",
    "    Args:\n",
    "        poold_rois: [num_rois, roi_height, roi_width, image_channel]\n",
    "        is_training (bool)\n",
    "        \n",
    "    Returns:\n",
    "        fc_feats (Tensor): [num_rois, depth]\n",
    "    \"\"\"\n",
    "    pooled_rois_flat = slim.flatten(roi_pooled_feats, scope='pooled_rois_flat')\n",
    "    fc6 = slim.fully_connected(pooled_rois_flat, 4096, scope='fc6')\n",
    "    dropout6 = slim.dropout(fc6, keep_prob=0.5, is_training=is_training, scope='dropout6')\n",
    "    fc7 = slim.fully_connected(fc6, 4096, scope='fc7')\n",
    "    dropout7 = slim.dropout(fc7, keep_prob=0.5, is_training=is_training, scope='dropout7')\n",
    "    fc_feats = dropout7\n",
    "\n",
    "    return fc_feats"
   ]
  },
  {
   "cell_type": "code",
   "execution_count": 0,
   "metadata": {
    "colab": {
     "base_uri": "https://localhost:8080/",
     "height": 139
    },
    "colab_type": "code",
    "id": "Bhvw9IhJqT7P",
    "outputId": "c17028d5-1a1a-4458-e929-c69e1f909e9d"
   },
   "outputs": [
    {
     "name": "stdout",
     "output_type": "stream",
     "text": [
      "WARNING:tensorflow:From /usr/local/lib/python3.6/dist-packages/tensorflow/contrib/layers/python/layers/layers.py:1624: flatten (from tensorflow.python.layers.core) is deprecated and will be removed in a future version.\n",
      "Instructions for updating:\n",
      "Use keras.layers.flatten instead.\n",
      "WARNING:tensorflow:From /usr/local/lib/python3.6/dist-packages/tensorflow/python/keras/layers/core.py:143: calling dropout (from tensorflow.python.ops.nn_ops) with keep_prob is deprecated and will be removed in a future version.\n",
      "Instructions for updating:\n",
      "Please use `rate` instead of `keep_prob`. Rate should be set to `rate = 1 - keep_prob`.\n"
     ]
    }
   ],
   "source": [
    "t_fc_feats = fc_layers(t_roi_pooled_feats, IS_TRAINING)"
   ]
  },
  {
   "cell_type": "code",
   "execution_count": 0,
   "metadata": {
    "colab": {
     "base_uri": "https://localhost:8080/",
     "height": 34
    },
    "colab_type": "code",
    "id": "IugYbXC3qVL8",
    "outputId": "2d9ec549-e90c-4b75-e49a-fc7c0c6712fc"
   },
   "outputs": [
    {
     "name": "stdout",
     "output_type": "stream",
     "text": [
      "(?, 4096)\n"
     ]
    }
   ],
   "source": [
    "print(t_fc_feats.shape)"
   ]
  },
  {
   "cell_type": "code",
   "execution_count": 0,
   "metadata": {
    "colab": {},
    "colab_type": "code",
    "id": "v8nbKj66qWWA"
   },
   "outputs": [],
   "source": [
    "sess.run(tf.global_variables_initializer())\n",
    "fc_feats = sess.run(t_fc_feats, feed_dict=sample_feed_dict)"
   ]
  },
  {
   "cell_type": "code",
   "execution_count": 0,
   "metadata": {
    "colab": {
     "base_uri": "https://localhost:8080/",
     "height": 34
    },
    "colab_type": "code",
    "id": "zg1P3eiLqXqN",
    "outputId": "d76e1183-0d7c-4f31-f5b0-6ce382cdc2b1"
   },
   "outputs": [
    {
     "name": "stdout",
     "output_type": "stream",
     "text": [
      "(128, 4096)\n"
     ]
    }
   ],
   "source": [
    "print(fc_feats.shape)"
   ]
  },
  {
   "cell_type": "markdown",
   "metadata": {
    "colab_type": "text",
    "id": "7V5WHY9DrPa3"
   },
   "source": [
    "## Fast R-CNN Classification & Regression"
   ]
  },
  {
   "cell_type": "code",
   "execution_count": 0,
   "metadata": {
    "colab": {},
    "colab_type": "code",
    "id": "oZpDWVN4qbaN"
   },
   "outputs": [],
   "source": [
    "def faster_rcnn_classification_layer(fc_feats, num_obj_classes, is_training):\n",
    "    num_classes = num_obj_classes + 1\n",
    "    \n",
    "    cls_scores = slim.fully_connected(\n",
    "        fc_feats, num_classes,\n",
    "        weights_initializer=tf.random_normal_initializer(mean=0.0, stddev=0.01),\n",
    "        trainable=is_training, activation_fn=None, scope='cls_scores'\n",
    "    )\n",
    "    cls_probs = tf.nn.softmax(cls_scores)\n",
    "    cls_preds = tf.argmax(cls_probs, axis=1)\n",
    "    \n",
    "    return cls_scores, cls_probs, cls_preds\n",
    "\n",
    "def faster_rcnn_regression_layer(fc_feats, num_obj_classes, is_training):\n",
    "    num_classes = num_obj_classes + 1\n",
    "    \n",
    "    bbox_params = slim.fully_connected(\n",
    "        fc_feats, num_classes * 4,\n",
    "        weights_initializer=tf.random_normal_initializer(mean=0.0, stddev=0.001),\n",
    "        trainable=is_training, activation_fn=None, scope='bbox_params'\n",
    "    )\n",
    "    \n",
    "    return bbox_params"
   ]
  },
  {
   "cell_type": "code",
   "execution_count": 0,
   "metadata": {
    "colab": {},
    "colab_type": "code",
    "id": "-daJeRgNqc_d"
   },
   "outputs": [],
   "source": [
    "t_frcnn_cls_scores, t_frcnn_cls_probs, t_frcnn_cls_preds = faster_rcnn_classification_layer(t_fc_feats, num_obj_classes, IS_TRAINING)\n",
    "t_frcnn_bbox_params = faster_rcnn_regression_layer(t_fc_feats, num_obj_classes, IS_TRAINING)"
   ]
  },
  {
   "cell_type": "code",
   "execution_count": 0,
   "metadata": {
    "colab": {
     "base_uri": "https://localhost:8080/",
     "height": 85
    },
    "colab_type": "code",
    "id": "E53vZlUAqeaZ",
    "outputId": "3b3c4d0a-9a3d-4f06-a559-06b28e0aa03a"
   },
   "outputs": [
    {
     "name": "stdout",
     "output_type": "stream",
     "text": [
      "(?, 2)\n",
      "(?, 2)\n",
      "(?,)\n",
      "(?, 8)\n"
     ]
    }
   ],
   "source": [
    "print(t_frcnn_cls_scores.shape)\n",
    "print(t_frcnn_cls_probs.shape)\n",
    "print(t_frcnn_cls_preds.shape)\n",
    "print(t_frcnn_bbox_params.shape)"
   ]
  },
  {
   "cell_type": "code",
   "execution_count": 0,
   "metadata": {
    "colab": {},
    "colab_type": "code",
    "id": "AxBw1q2OqgTD"
   },
   "outputs": [],
   "source": [
    "sess.run(tf.global_variables_initializer())\n",
    "frcnn_cls_scores, frcnn_cls_probs, frcnn_cls_preds, frcnn_bbox_params = sess.run(\n",
    "    [t_frcnn_cls_scores, t_frcnn_cls_probs, t_frcnn_cls_preds, t_frcnn_bbox_params], feed_dict=sample_feed_dict\n",
    ")"
   ]
  },
  {
   "cell_type": "code",
   "execution_count": 0,
   "metadata": {
    "colab": {
     "base_uri": "https://localhost:8080/",
     "height": 85
    },
    "colab_type": "code",
    "id": "b2qxfTsiqiBT",
    "outputId": "31b74b0f-b0c1-49bc-9942-f0744f82d08f"
   },
   "outputs": [
    {
     "name": "stdout",
     "output_type": "stream",
     "text": [
      "(128, 2)\n",
      "(128, 2)\n",
      "(128,)\n",
      "(128, 8)\n"
     ]
    }
   ],
   "source": [
    "print(frcnn_cls_scores.shape)\n",
    "print(frcnn_cls_probs.shape)\n",
    "print(frcnn_cls_preds.shape)\n",
    "print(frcnn_bbox_params.shape)"
   ]
  },
  {
   "cell_type": "code",
   "execution_count": 0,
   "metadata": {
    "colab": {
     "base_uri": "https://localhost:8080/",
     "height": 34
    },
    "colab_type": "code",
    "id": "t3iYyNvAqjIU",
    "outputId": "ef0c6dea-f3f7-4791-8266-76736e5a58b7"
   },
   "outputs": [
    {
     "data": {
      "text/plain": [
       "(128, 2)"
      ]
     },
     "execution_count": 92,
     "metadata": {
      "tags": []
     },
     "output_type": "execute_result"
    }
   ],
   "source": [
    "frcnn_cls_scores.shape"
   ]
  },
  {
   "cell_type": "code",
   "execution_count": 0,
   "metadata": {
    "colab": {
     "base_uri": "https://localhost:8080/",
     "height": 34
    },
    "colab_type": "code",
    "id": "m54aSCTgqkEu",
    "outputId": "e81f339a-afd9-48e7-baa1-30156b5dda1b"
   },
   "outputs": [
    {
     "data": {
      "text/plain": [
       "(128, 8)"
      ]
     },
     "execution_count": 93,
     "metadata": {
      "tags": []
     },
     "output_type": "execute_result"
    }
   ],
   "source": [
    "frcnn_bbox_params.shape"
   ]
  },
  {
   "cell_type": "markdown",
   "metadata": {
    "colab_type": "text",
    "id": "ed7AfOmdrRBf"
   },
   "source": [
    "## Loss Function (Only for Training)"
   ]
  },
  {
   "cell_type": "code",
   "execution_count": 0,
   "metadata": {
    "colab": {
     "base_uri": "https://localhost:8080/",
     "height": 34
    },
    "colab_type": "code",
    "id": "tdiKfmAaqmoD",
    "outputId": "2b0eadec-27e4-4ed5-b0e3-6f4e5ed366ce"
   },
   "outputs": [
    {
     "data": {
      "text/plain": [
       "(1, 29, 22, 24)"
      ]
     },
     "execution_count": 94,
     "metadata": {
      "tags": []
     },
     "output_type": "execute_result"
    }
   ],
   "source": [
    "rpn_bbox_params.shape"
   ]
  },
  {
   "cell_type": "code",
   "execution_count": 0,
   "metadata": {
    "colab": {},
    "colab_type": "code",
    "id": "xsWTW9Fdqnje"
   },
   "outputs": [],
   "source": [
    "loss_checkup = {}\n",
    "\n",
    "def compose_loss_functions(\n",
    "    rpn_cls_scores, rpn_labels, rpn_bbox_params, rpn_bbox_targets,\n",
    "    frcnn_cls_scores, frcnn_labels, frcnn_bbox_params, frcnn_bbox_targets\n",
    "):\n",
    "    rpn_labels = tf.reshape(rpn_labels, (-1,))\n",
    "    inds_selected = tf.reshape(tf.where(tf.not_equal(rpn_labels, -1)), (-1,))\n",
    "    inds_positive = tf.reshape(tf.where(tf.equal(rpn_labels, 1)), (-1,))\n",
    "    rpn_cls_scores = tf.gather(tf.reshape(rpn_cls_scores, (-1, 2)), inds_selected)\n",
    "    rpn_labels = tf.gather(rpn_labels, inds_selected)\n",
    "    rpn_cls_loss = tf.reduce_mean(\n",
    "        tf.nn.sparse_softmax_cross_entropy_with_logits(logits=rpn_cls_scores, labels=tf.cast(rpn_labels, tf.int64))\n",
    "    )\n",
    "    \n",
    "    rpn_bbox_params = tf.gather(tf.reshape(rpn_bbox_params, (-1, 4)), inds_positive)\n",
    "    rpn_bbox_targets = tf.gather(tf.reshape(rpn_bbox_targets, (-1, 4)), inds_positive)\n",
    "\n",
    "    loss_checkup['rpn_bbox_params'] = rpn_bbox_params\n",
    "    loss_checkup['rpn_bbox_targets'] = rpn_bbox_targets\n",
    "    rpn_huber_loss = tf.losses.huber_loss(rpn_bbox_targets, rpn_bbox_params, reduction=tf.losses.Reduction.NONE)\n",
    "    loss_checkup['rpn_huber_loss'] = rpn_huber_loss\n",
    "    rpn_reg_loss = tf.reduce_mean(\n",
    "        tf.reduce_sum(rpn_huber_loss, axis=1)\n",
    "    )\n",
    "    \n",
    "    frcnn_cls_loss = tf.reduce_mean(\n",
    "        tf.nn.sparse_softmax_cross_entropy_with_logits(logits=frcnn_cls_scores, labels=tf.cast(frcnn_labels, tf.int64))\n",
    "    )\n",
    "    \n",
    "    inds_fg = tf.reshape(tf.where(tf.not_equal(frcnn_labels, 0)), (-1,))\n",
    "    loss_checkup['inds_fg'] = inds_fg\n",
    "    \n",
    "    frcnn_bbox_params = tf.reshape(frcnn_bbox_params, (FRCNN_BATCH_SIZE, -1, 4))  # [batch_size, num_classes, 4]\n",
    "    frcnn_bbox_targets = tf.reshape(frcnn_bbox_targets, (FRCNN_BATCH_SIZE, 1, 4))  # [batch_size, 1, 4]\n",
    "    frcnn_reg_mask = tf.one_hot(tf.cast(frcnn_labels, tf.int64), tf.shape(frcnn_bbox_params)[1])\n",
    "    frcnn_reg_mask = tf.expand_dims(frcnn_reg_mask, axis=2)\n",
    "    loss_checkup['frcnn_bbox_params'] = frcnn_bbox_params\n",
    "    loss_checkup['frcnn_bbox_targets'] = frcnn_bbox_targets\n",
    "    loss_checkup['frcnn_reg_mask'] = frcnn_reg_mask\n",
    "    \n",
    "    frcnn_huber_loss = tf.losses.huber_loss(frcnn_bbox_targets, frcnn_bbox_params, reduction=tf.losses.Reduction.NONE)\n",
    "    loss_checkup['frcnn_huber_loss'] = frcnn_huber_loss\n",
    "    frcnn_huber_loss_masked = frcnn_reg_mask * frcnn_huber_loss\n",
    "    loss_checkup['frcnn_huber_loss_masked'] = frcnn_huber_loss_masked\n",
    "    frcnn_reg_loss = tf.reduce_mean(\n",
    "        tf.reduce_sum(\n",
    "            frcnn_huber_loss_masked[:, 1:, :], axis=[1, 2]\n",
    "        )\n",
    "    )\n",
    "\n",
    "    total_loss = rpn_cls_loss + rpn_reg_loss + frcnn_cls_loss + frcnn_reg_loss\n",
    "    \n",
    "    return rpn_cls_loss, rpn_reg_loss, frcnn_cls_loss, frcnn_reg_loss, total_loss"
   ]
  },
  {
   "cell_type": "code",
   "execution_count": 0,
   "metadata": {
    "colab": {},
    "colab_type": "code",
    "id": "QGz6d3l8qp9P"
   },
   "outputs": [],
   "source": [
    "if IS_TRAINING:\n",
    "  t_rpn_cls_loss, t_rpn_reg_loss, t_frcnn_cls_loss, t_frcnn_reg_loss, t_total_loss = compose_loss_functions(\n",
    "      t_rpn_cls_scores, t_rpn_labels, t_rpn_bbox_params,  t_rpn_bbox_targets,\n",
    "      t_frcnn_cls_scores, t_frcnn_labels, t_frcnn_bbox_params, t_frcnn_bbox_targets\n",
    "  )"
   ]
  },
  {
   "cell_type": "code",
   "execution_count": 0,
   "metadata": {
    "colab": {},
    "colab_type": "code",
    "id": "k7N-4u-7qrFy"
   },
   "outputs": [],
   "source": [
    "if IS_TRAINING:\n",
    "  rpn_cls_loss, rpn_reg_loss, frcnn_cls_loss, frcnn_reg_loss, total_loss = sess.run(\n",
    "      [t_rpn_cls_loss, t_rpn_reg_loss, t_frcnn_cls_loss, t_frcnn_reg_loss, t_total_loss], feed_dict=sample_feed_dict\n",
    "  )"
   ]
  },
  {
   "cell_type": "code",
   "execution_count": 0,
   "metadata": {
    "colab": {},
    "colab_type": "code",
    "id": "HX4Jf6tbqvJY"
   },
   "outputs": [],
   "source": [
    "# Merge summaries.\n",
    "\n",
    "if IS_TRAINING:\n",
    "  tf.summary.scalar('rpn_cls_loss', t_rpn_cls_loss)\n",
    "  tf.summary.scalar('rpn_reg_loss', t_rpn_reg_loss)\n",
    "  tf.summary.scalar('frcnn_cls_loss', t_frcnn_cls_loss)\n",
    "  tf.summary.scalar('frcnn_reg_loss', t_frcnn_reg_loss)\n",
    "  tf.summary.scalar('total_loss', t_total_loss)\n",
    "  merged_summaries = tf.summary.merge_all()"
   ]
  },
  {
   "cell_type": "markdown",
   "metadata": {
    "colab_type": "text",
    "id": "Czbgac669gyb"
   },
   "source": [
    "## Start training!"
   ]
  },
  {
   "cell_type": "code",
   "execution_count": 0,
   "metadata": {
    "colab": {
     "base_uri": "https://localhost:8080/",
     "height": 88
    },
    "colab_type": "code",
    "id": "hq7xRPohqwDM",
    "outputId": "bd6e746e-3b07-44fe-b786-73bfb255fad6"
   },
   "outputs": [
    {
     "name": "stdout",
     "output_type": "stream",
     "text": [
      "New directory is created (./exp/pilot)\n"
     ]
    },
    {
     "name": "stderr",
     "output_type": "stream",
     "text": [
      "/usr/local/lib/python3.6/dist-packages/tensorflow/python/ops/gradients_impl.py:110: UserWarning: Converting sparse IndexedSlices to a dense Tensor of unknown shape. This may consume a large amount of memory.\n",
      "  \"Converting sparse IndexedSlices to a dense Tensor of unknown shape. \"\n"
     ]
    }
   ],
   "source": [
    "# FIXME\n",
    "MAX_BATCHES = 100000  # number of batch updates\n",
    "LR = 0.001  # learning rate\n",
    "MM = 0.9  # momentum\n",
    "\n",
    "LOG_DIR = './exp'\n",
    "EXP_NAME = 'pilot'\n",
    "\n",
    "LOG_PERIOD = 10\n",
    "SAVE_PERIOD = 1000\n",
    "\n",
    "# Prepare the dedicated directory.\n",
    "exp_dir = osp.join(LOG_DIR, EXP_NAME)\n",
    "if osp.isdir(exp_dir):\n",
    "    pass\n",
    "#     raise FileExistsError('The directory is already existing ({}).'.format(exp_dir))\n",
    "else:\n",
    "    os.makedirs(exp_dir)\n",
    "    print('New directory is created ({})'.format(exp_dir))\n",
    "\n",
    "# Prepare to train.\n",
    "optimizer = tf.train.MomentumOptimizer(LR, MM)\n",
    "train_op = optimizer.minimize(t_total_loss)\n",
    "    \n",
    "train_writer = tf.summary.FileWriter(osp.join(exp_dir, 'train'))\n",
    "valid_writer = tf.summary.FileWriter(osp.join(exp_dir, 'valid'))\n",
    "\n",
    "saver = tf.train.Saver()"
   ]
  },
  {
   "cell_type": "code",
   "execution_count": 0,
   "metadata": {
    "colab": {
     "base_uri": "https://localhost:8080/",
     "height": 29988
    },
    "colab_type": "code",
    "id": "d_1cSNTUTQHM",
    "outputId": "0b880970-7043-4e99-f786-921eefb586c0"
   },
   "outputs": [
    {
     "name": "stdout",
     "output_type": "stream",
     "text": [
      "[Batch 0] Train loss: 1.4237 | Valid loss: 1.5537\n",
      "[Batch 10] Train loss: 1.6142 | Valid loss: 1.3911\n",
      "[Batch 20] Train loss: 1.3459 | Valid loss: 2.2145\n",
      "[Batch 30] Train loss: 1.4472 | Valid loss: 1.2532\n",
      "[Batch 40] Train loss: 1.3145 | Valid loss: 1.2172\n",
      "[Batch 50] Train loss: 1.2044 | Valid loss: 1.2224\n",
      "[Batch 60] Train loss: 1.1267 | Valid loss: 1.1953\n",
      "[Batch 70] Train loss: 1.0595 | Valid loss: 1.7511\n",
      "[Batch 80] Train loss: 0.9063 | Valid loss: 0.9822\n",
      "[Batch 90] Train loss: 0.9158 | Valid loss: 0.8878\n",
      "[Batch 100] Train loss: 0.7670 | Valid loss: 0.7936\n",
      "[Batch 110] Train loss: 2.1703 | Valid loss: 0.6846\n",
      "[Batch 120] Train loss: 0.6580 | Valid loss: 0.5889\n",
      "[Batch 130] Train loss: 0.6084 | Valid loss: 0.5228\n",
      "[Batch 140] Train loss: 0.5862 | Valid loss: 0.6798\n",
      "[Batch 150] Train loss: 0.2892 | Valid loss: 0.3363\n",
      "[Batch 160] Train loss: 0.2127 | Valid loss: 0.2771\n",
      "[Batch 170] Train loss: 0.4432 | Valid loss: 0.2300\n",
      "[Batch 180] Train loss: 0.3185 | Valid loss: 0.4423\n",
      "[Batch 190] Train loss: 0.2680 | Valid loss: 0.3000\n",
      "[Batch 200] Train loss: 0.2647 | Valid loss: 0.1542\n",
      "[Batch 210] Train loss: 0.1671 | Valid loss: 0.1445\n",
      "[Batch 220] Train loss: 0.4169 | Valid loss: 0.4720\n",
      "[Batch 230] Train loss: 0.2903 | Valid loss: 0.2346\n",
      "[Batch 240] Train loss: 0.2588 | Valid loss: 0.4406\n",
      "[Batch 250] Train loss: 0.1762 | Valid loss: 0.1276\n",
      "[Batch 260] Train loss: 0.1212 | Valid loss: 0.1043\n",
      "[Batch 270] Train loss: 0.3433 | Valid loss: 1.3122\n",
      "[Batch 280] Train loss: 0.1617 | Valid loss: 0.1724\n",
      "[Batch 290] Train loss: 0.4744 | Valid loss: 0.2431\n",
      "[Batch 300] Train loss: 0.1358 | Valid loss: 0.5367\n",
      "[Batch 310] Train loss: 0.2641 | Valid loss: 0.3150\n",
      "[Batch 320] Train loss: 0.2108 | Valid loss: 0.1359\n",
      "[Batch 330] Train loss: 0.4749 | Valid loss: 0.1838\n",
      "[Batch 340] Train loss: 0.1619 | Valid loss: 0.3232\n",
      "[Batch 350] Train loss: 0.6225 | Valid loss: 0.1864\n",
      "[Batch 360] Train loss: 0.1870 | Valid loss: 0.1533\n",
      "[Batch 370] Train loss: 0.1794 | Valid loss: 0.1892\n",
      "[Batch 380] Train loss: 0.1539 | Valid loss: 0.3923\n",
      "[Batch 390] Train loss: 0.3832 | Valid loss: 0.1714\n",
      "[Batch 400] Train loss: 0.2735 | Valid loss: 0.2429\n",
      "[Batch 410] Train loss: 0.1900 | Valid loss: 0.3013\n",
      "[Batch 420] Train loss: 0.1758 | Valid loss: 0.3040\n",
      "[Batch 430] Train loss: 0.4523 | Valid loss: 0.2048\n",
      "[Batch 440] Train loss: 0.1609 | Valid loss: 0.1680\n",
      "[Batch 450] Train loss: 0.2852 | Valid loss: 0.5458\n",
      "[Batch 460] Train loss: 0.2363 | Valid loss: 0.3789\n",
      "[Batch 470] Train loss: 0.1074 | Valid loss: 0.1672\n",
      "[Batch 480] Train loss: 1.6138 | Valid loss: 0.3553\n",
      "[Batch 490] Train loss: 0.2799 | Valid loss: 0.3010\n",
      "[Batch 500] Train loss: 0.1997 | Valid loss: 0.3104\n",
      "[Batch 510] Train loss: 0.5344 | Valid loss: 0.1697\n",
      "[Batch 520] Train loss: 0.1417 | Valid loss: 0.3716\n",
      "[Batch 530] Train loss: 0.2691 | Valid loss: 0.5080\n",
      "[Batch 540] Train loss: 0.2715 | Valid loss: 0.1386\n",
      "[Batch 550] Train loss: 0.1969 | Valid loss: 0.2537\n",
      "[Batch 560] Train loss: 0.2973 | Valid loss: 0.2547\n",
      "[Batch 570] Train loss: 0.2626 | Valid loss: 0.1460\n",
      "[Batch 580] Train loss: 0.2544 | Valid loss: 0.6267\n",
      "[Batch 590] Train loss: 0.4040 | Valid loss: 0.1101\n",
      "[Batch 600] Train loss: 0.2197 | Valid loss: 0.7199\n",
      "[Batch 610] Train loss: 0.2136 | Valid loss: 0.1579\n",
      "[Batch 620] Train loss: 0.2463 | Valid loss: 0.2565\n",
      "[Batch 630] Train loss: 0.6575 | Valid loss: 0.4527\n",
      "[Batch 640] Train loss: 1.0408 | Valid loss: 0.1447\n",
      "[Batch 650] Train loss: 0.4535 | Valid loss: 0.1463\n",
      "[Batch 660] Train loss: 0.2262 | Valid loss: 0.1411\n",
      "[Batch 670] Train loss: 0.1469 | Valid loss: 0.2697\n",
      "[Batch 680] Train loss: 0.1884 | Valid loss: 0.2418\n",
      "[Batch 690] Train loss: 0.2002 | Valid loss: 0.1367\n",
      "[Batch 700] Train loss: 0.3914 | Valid loss: 0.4191\n",
      "[Batch 710] Train loss: 0.3059 | Valid loss: 0.3262\n",
      "[Batch 720] Train loss: 0.3030 | Valid loss: 0.2230\n",
      "[Batch 730] Train loss: 0.2877 | Valid loss: 0.1131\n",
      "[Batch 740] Train loss: 0.0948 | Valid loss: 0.2443\n",
      "[Batch 750] Train loss: 0.2446 | Valid loss: 0.2800\n",
      "[Batch 760] Train loss: 0.3444 | Valid loss: 0.1166\n",
      "[Batch 770] Train loss: 0.1312 | Valid loss: 0.1295\n",
      "[Batch 780] Train loss: 0.2952 | Valid loss: 0.3625\n",
      "[Batch 790] Train loss: 0.3069 | Valid loss: 0.3264\n",
      "[Batch 800] Train loss: 0.2453 | Valid loss: 0.1585\n",
      "[Batch 810] Train loss: 0.2632 | Valid loss: 0.3155\n",
      "[Batch 820] Train loss: 0.2718 | Valid loss: 0.1795\n",
      "[Batch 830] Train loss: 0.3421 | Valid loss: 0.2277\n",
      "[Batch 840] Train loss: 0.4119 | Valid loss: 0.1337\n",
      "[Batch 850] Train loss: 0.3198 | Valid loss: 0.1486\n",
      "[Batch 860] Train loss: 0.1655 | Valid loss: 0.1574\n",
      "[Batch 870] Train loss: 0.4670 | Valid loss: 0.5319\n",
      "[Batch 880] Train loss: 0.2123 | Valid loss: 0.3363\n",
      "[Batch 890] Train loss: 0.1818 | Valid loss: 0.8756\n",
      "[Batch 900] Train loss: 0.4273 | Valid loss: 0.3663\n",
      "[Batch 910] Train loss: 0.1974 | Valid loss: 0.2622\n",
      "[Batch 920] Train loss: 0.1460 | Valid loss: 0.3330\n",
      "[Batch 930] Train loss: 0.3031 | Valid loss: 0.3261\n",
      "[Batch 940] Train loss: 0.2604 | Valid loss: 0.2576\n",
      "[Batch 950] Train loss: 0.2275 | Valid loss: 0.1336\n",
      "[Batch 960] Train loss: 0.3341 | Valid loss: 0.1516\n",
      "[Batch 970] Train loss: 0.4412 | Valid loss: 0.3335\n",
      "[Batch 980] Train loss: 0.1295 | Valid loss: 1.7151\n",
      "[Batch 990] Train loss: 0.1633 | Valid loss: 0.3601\n",
      "[Batch 1000] Train loss: 0.1802 | Valid loss: 0.1451\n",
      "Model is saved.\n",
      "[Batch 1010] Train loss: 0.2596 | Valid loss: 0.5262\n",
      "[Batch 1020] Train loss: 0.2404 | Valid loss: 0.5146\n",
      "[Batch 1030] Train loss: 0.1824 | Valid loss: 0.1142\n",
      "[Batch 1040] Train loss: 0.2334 | Valid loss: 1.0272\n",
      "[Batch 1050] Train loss: 0.1670 | Valid loss: 0.2307\n",
      "[Batch 1060] Train loss: 0.1909 | Valid loss: 0.0943\n",
      "[Batch 1070] Train loss: 0.3987 | Valid loss: 0.2087\n",
      "[Batch 1080] Train loss: 0.1643 | Valid loss: 0.1776\n",
      "[Batch 1090] Train loss: 0.5181 | Valid loss: 0.2336\n",
      "[Batch 1100] Train loss: 0.3182 | Valid loss: 0.1387\n",
      "[Batch 1110] Train loss: 0.1720 | Valid loss: 0.0821\n",
      "[Batch 1120] Train loss: 0.2730 | Valid loss: 0.3008\n",
      "[Batch 1130] Train loss: 0.2831 | Valid loss: 0.2101\n",
      "[Batch 1140] Train loss: 0.2243 | Valid loss: 0.1426\n",
      "[Batch 1150] Train loss: 0.1065 | Valid loss: 0.4435\n",
      "[Batch 1160] Train loss: 0.1071 | Valid loss: 0.1055\n",
      "[Batch 1170] Train loss: 0.3315 | Valid loss: 0.1266\n",
      "[Batch 1180] Train loss: 0.1138 | Valid loss: 0.1699\n",
      "[Batch 1190] Train loss: 0.3455 | Valid loss: 0.1708\n",
      "[Batch 1200] Train loss: 0.3228 | Valid loss: 0.1729\n",
      "[Batch 1210] Train loss: 0.1874 | Valid loss: 0.3149\n",
      "[Batch 1220] Train loss: 0.2297 | Valid loss: 0.4401\n",
      "[Batch 1230] Train loss: 0.4430 | Valid loss: 0.1598\n",
      "[Batch 1240] Train loss: 0.3334 | Valid loss: 0.4082\n",
      "[Batch 1250] Train loss: 0.1314 | Valid loss: 0.1561\n",
      "[Batch 1260] Train loss: 0.3749 | Valid loss: 0.2144\n",
      "[Batch 1270] Train loss: 0.3502 | Valid loss: 0.5370\n",
      "[Batch 1280] Train loss: 0.1807 | Valid loss: 0.1525\n",
      "[Batch 1290] Train loss: 0.1771 | Valid loss: 0.2678\n",
      "[Batch 1300] Train loss: 0.1471 | Valid loss: 0.1775\n",
      "[Batch 1310] Train loss: 0.1441 | Valid loss: 0.5108\n",
      "[Batch 1320] Train loss: 0.1025 | Valid loss: 0.3281\n",
      "[Batch 1330] Train loss: 0.2771 | Valid loss: 0.3261\n",
      "[Batch 1340] Train loss: 0.7142 | Valid loss: 0.2298\n",
      "[Batch 1350] Train loss: 0.4416 | Valid loss: 0.4330\n",
      "[Batch 1360] Train loss: 0.6005 | Valid loss: 0.1403\n",
      "[Batch 1370] Train loss: 0.1520 | Valid loss: 0.0903\n",
      "[Batch 1380] Train loss: 0.1677 | Valid loss: 0.2062\n",
      "[Batch 1390] Train loss: 0.0894 | Valid loss: 0.2327\n",
      "[Batch 1400] Train loss: 0.6228 | Valid loss: 0.2079\n",
      "[Batch 1410] Train loss: 0.1514 | Valid loss: 0.3380\n",
      "[Batch 1420] Train loss: 0.6209 | Valid loss: 0.2903\n",
      "[Batch 1430] Train loss: 0.1959 | Valid loss: 0.2130\n",
      "[Batch 1440] Train loss: 0.2012 | Valid loss: 0.4528\n",
      "[Batch 1450] Train loss: 0.1394 | Valid loss: 0.3017\n",
      "[Batch 1460] Train loss: 0.1823 | Valid loss: 0.1870\n",
      "[Batch 1470] Train loss: 0.0979 | Valid loss: 0.1370\n",
      "[Batch 1480] Train loss: 0.3295 | Valid loss: 0.2251\n",
      "[Batch 1490] Train loss: 0.2265 | Valid loss: 0.0995\n",
      "[Batch 1500] Train loss: 0.1564 | Valid loss: 0.2963\n",
      "[Batch 1510] Train loss: 0.2521 | Valid loss: 0.1834\n",
      "[Batch 1520] Train loss: 0.3148 | Valid loss: 0.2401\n",
      "[Batch 1530] Train loss: 0.1193 | Valid loss: 0.2239\n",
      "[Batch 1540] Train loss: 0.1794 | Valid loss: 0.2247\n",
      "[Batch 1550] Train loss: 0.2370 | Valid loss: 0.6263\n",
      "[Batch 1560] Train loss: 0.1596 | Valid loss: 0.1586\n",
      "[Batch 1570] Train loss: 0.2091 | Valid loss: 0.1043\n",
      "[Batch 1580] Train loss: 0.3794 | Valid loss: 0.2697\n",
      "[Batch 1590] Train loss: 0.1867 | Valid loss: 1.0778\n",
      "[Batch 1600] Train loss: 0.3363 | Valid loss: 0.2171\n",
      "[Batch 1610] Train loss: 0.1500 | Valid loss: 0.1101\n",
      "[Batch 1620] Train loss: 0.1537 | Valid loss: 0.2208\n",
      "[Batch 1630] Train loss: 0.2114 | Valid loss: 0.2843\n",
      "[Batch 1640] Train loss: 0.1670 | Valid loss: 0.2949\n",
      "[Batch 1650] Train loss: 0.0783 | Valid loss: 0.2184\n",
      "[Batch 1660] Train loss: 0.2303 | Valid loss: 0.1470\n",
      "[Batch 1670] Train loss: 0.8558 | Valid loss: 0.2267\n",
      "[Batch 1680] Train loss: 0.2785 | Valid loss: 0.2108\n",
      "[Batch 1690] Train loss: 0.2943 | Valid loss: 0.2118\n",
      "[Batch 1700] Train loss: 0.2470 | Valid loss: 0.2181\n",
      "[Batch 1710] Train loss: 0.1685 | Valid loss: 0.2029\n",
      "[Batch 1720] Train loss: 0.1362 | Valid loss: 0.3018\n",
      "[Batch 1730] Train loss: 0.1625 | Valid loss: 0.1385\n",
      "[Batch 1740] Train loss: 0.1833 | Valid loss: 0.0925\n",
      "[Batch 1750] Train loss: 0.1307 | Valid loss: 0.2675\n",
      "[Batch 1760] Train loss: 0.2085 | Valid loss: 0.0592\n",
      "[Batch 1770] Train loss: 0.1513 | Valid loss: 0.1170\n",
      "[Batch 1780] Train loss: 0.1828 | Valid loss: 0.2712\n",
      "[Batch 1790] Train loss: 0.0689 | Valid loss: 0.3285\n",
      "[Batch 1800] Train loss: 0.2928 | Valid loss: 0.1998\n",
      "[Batch 1810] Train loss: 0.1830 | Valid loss: 0.1974\n",
      "[Batch 1820] Train loss: 0.1482 | Valid loss: 0.2385\n",
      "[Batch 1830] Train loss: 0.1256 | Valid loss: 0.0909\n",
      "[Batch 1840] Train loss: 0.1292 | Valid loss: 0.1307\n",
      "[Batch 1850] Train loss: 0.2618 | Valid loss: 0.1414\n",
      "[Batch 1860] Train loss: 0.0699 | Valid loss: 0.1805\n",
      "[Batch 1870] Train loss: 0.1919 | Valid loss: 0.1122\n",
      "[Batch 1880] Train loss: 0.2726 | Valid loss: 0.3975\n",
      "[Batch 1890] Train loss: 0.2494 | Valid loss: 0.1149\n",
      "[Batch 1900] Train loss: 0.0889 | Valid loss: 0.1431\n",
      "[Batch 1910] Train loss: 0.1859 | Valid loss: 0.1414\n",
      "[Batch 1920] Train loss: 0.1365 | Valid loss: 0.0921\n",
      "[Batch 1930] Train loss: 0.0550 | Valid loss: 0.1394\n",
      "[Batch 1940] Train loss: 0.1585 | Valid loss: 0.1728\n",
      "[Batch 1950] Train loss: 0.8415 | Valid loss: 0.3168\n",
      "[Batch 1960] Train loss: 0.2655 | Valid loss: 0.3087\n",
      "[Batch 1970] Train loss: 0.1525 | Valid loss: 0.0611\n",
      "[Batch 1980] Train loss: 0.3169 | Valid loss: 0.1443\n",
      "[Batch 1990] Train loss: 0.1540 | Valid loss: 1.1573\n",
      "[Batch 2000] Train loss: 0.3695 | Valid loss: 0.4539\n",
      "Model is saved.\n",
      "[Batch 2010] Train loss: 0.8751 | Valid loss: 0.2190\n",
      "[Batch 2020] Train loss: 0.5162 | Valid loss: 0.1966\n",
      "[Batch 2030] Train loss: 0.1541 | Valid loss: 0.1315\n",
      "[Batch 2040] Train loss: 0.1401 | Valid loss: 0.1781\n",
      "[Batch 2050] Train loss: 0.1352 | Valid loss: 0.1787\n",
      "[Batch 2060] Train loss: 0.2493 | Valid loss: 0.0854\n",
      "[Batch 2070] Train loss: 0.1715 | Valid loss: 0.2090\n",
      "[Batch 2080] Train loss: 0.0968 | Valid loss: 0.0652\n",
      "[Batch 2090] Train loss: 0.2609 | Valid loss: 0.1033\n",
      "[Batch 2100] Train loss: 0.0916 | Valid loss: 0.3330\n",
      "[Batch 2110] Train loss: 0.1516 | Valid loss: 0.1409\n",
      "[Batch 2120] Train loss: 0.1251 | Valid loss: 0.0917\n",
      "[Batch 2130] Train loss: 0.7973 | Valid loss: 0.2843\n",
      "[Batch 2140] Train loss: 0.2301 | Valid loss: 0.3591\n",
      "[Batch 2150] Train loss: 0.3286 | Valid loss: 0.0636\n",
      "[Batch 2160] Train loss: 0.3465 | Valid loss: 0.1362\n",
      "[Batch 2170] Train loss: 0.2729 | Valid loss: 0.2615\n",
      "[Batch 2180] Train loss: 0.1443 | Valid loss: 0.1809\n",
      "[Batch 2190] Train loss: 0.1305 | Valid loss: 0.2161\n",
      "[Batch 2200] Train loss: 0.2135 | Valid loss: 0.1671\n",
      "[Batch 2210] Train loss: 0.1794 | Valid loss: 0.1164\n",
      "[Batch 2220] Train loss: 0.5004 | Valid loss: 0.2645\n",
      "[Batch 2230] Train loss: 0.1759 | Valid loss: 0.2081\n",
      "[Batch 2240] Train loss: 0.1418 | Valid loss: 0.4312\n",
      "[Batch 2250] Train loss: 0.3019 | Valid loss: 0.1690\n",
      "[Batch 2260] Train loss: 0.0605 | Valid loss: 0.1732\n",
      "[Batch 2270] Train loss: 0.1728 | Valid loss: 0.1258\n",
      "[Batch 2280] Train loss: 0.2232 | Valid loss: 0.1678\n",
      "[Batch 2290] Train loss: 0.6959 | Valid loss: 0.1862\n",
      "[Batch 2300] Train loss: 0.1517 | Valid loss: 0.1520\n",
      "[Batch 2310] Train loss: 0.2115 | Valid loss: 0.1418\n",
      "[Batch 2320] Train loss: 0.0801 | Valid loss: 0.0821\n",
      "[Batch 2330] Train loss: 0.6955 | Valid loss: 1.5044\n",
      "[Batch 2340] Train loss: 0.1983 | Valid loss: 0.5294\n",
      "[Batch 2350] Train loss: 0.1686 | Valid loss: 0.1140\n",
      "[Batch 2360] Train loss: 0.2098 | Valid loss: 0.3565\n",
      "[Batch 2370] Train loss: 0.1132 | Valid loss: 0.2760\n",
      "[Batch 2380] Train loss: 0.2160 | Valid loss: 0.0687\n",
      "[Batch 2390] Train loss: 0.2734 | Valid loss: 0.4194\n",
      "[Batch 2400] Train loss: 0.1241 | Valid loss: 0.1393\n",
      "[Batch 2410] Train loss: 0.0697 | Valid loss: 0.1591\n",
      "[Batch 2420] Train loss: 0.1051 | Valid loss: 0.0549\n",
      "[Batch 2430] Train loss: 0.3499 | Valid loss: 0.1171\n",
      "[Batch 2440] Train loss: 0.3229 | Valid loss: 0.2919\n",
      "[Batch 2450] Train loss: 0.3737 | Valid loss: 0.1451\n",
      "[Batch 2460] Train loss: 0.0845 | Valid loss: 0.1800\n",
      "[Batch 2470] Train loss: 0.2091 | Valid loss: 0.3135\n",
      "[Batch 2480] Train loss: 0.1002 | Valid loss: 0.1883\n",
      "[Batch 2490] Train loss: 0.1154 | Valid loss: 0.1044\n",
      "[Batch 2500] Train loss: 0.1362 | Valid loss: 0.2813\n",
      "[Batch 2510] Train loss: 0.2306 | Valid loss: 0.2169\n",
      "[Batch 2520] Train loss: 0.1529 | Valid loss: 0.1284\n",
      "[Batch 2530] Train loss: 0.1424 | Valid loss: 0.1009\n",
      "[Batch 2540] Train loss: 0.1224 | Valid loss: 0.0787\n",
      "[Batch 2550] Train loss: 0.0760 | Valid loss: 0.1545\n",
      "[Batch 2560] Train loss: 0.1206 | Valid loss: 0.1061\n",
      "[Batch 2570] Train loss: 0.2405 | Valid loss: 0.4480\n",
      "[Batch 2580] Train loss: 0.3567 | Valid loss: 0.0348\n",
      "[Batch 2590] Train loss: 0.2507 | Valid loss: 0.2256\n",
      "[Batch 2600] Train loss: 0.2599 | Valid loss: 0.1526\n",
      "[Batch 2610] Train loss: 0.1728 | Valid loss: 0.2836\n",
      "[Batch 2620] Train loss: 0.0328 | Valid loss: 0.0820\n",
      "[Batch 2630] Train loss: 0.0339 | Valid loss: 0.0471\n",
      "[Batch 2640] Train loss: 0.2670 | Valid loss: 0.0634\n",
      "[Batch 2650] Train loss: 0.0982 | Valid loss: 0.2194\n",
      "[Batch 2660] Train loss: 0.1434 | Valid loss: 0.0915\n",
      "[Batch 2670] Train loss: 0.2023 | Valid loss: 0.0941\n",
      "[Batch 2680] Train loss: 0.4438 | Valid loss: 0.2437\n",
      "[Batch 2690] Train loss: 0.0900 | Valid loss: 0.1263\n",
      "[Batch 2700] Train loss: 0.0861 | Valid loss: 0.1862\n",
      "[Batch 2710] Train loss: 0.1728 | Valid loss: 0.3414\n",
      "[Batch 2720] Train loss: 0.1422 | Valid loss: 0.1566\n",
      "[Batch 2730] Train loss: 0.1161 | Valid loss: 0.1144\n",
      "[Batch 2740] Train loss: 0.2567 | Valid loss: 0.2675\n",
      "[Batch 2750] Train loss: 0.5425 | Valid loss: 0.0438\n",
      "[Batch 2760] Train loss: 0.2034 | Valid loss: 0.0956\n",
      "[Batch 2770] Train loss: 0.1930 | Valid loss: 0.6006\n",
      "[Batch 2780] Train loss: 0.2317 | Valid loss: 0.1058\n",
      "[Batch 2790] Train loss: 0.1501 | Valid loss: 0.1950\n",
      "[Batch 2800] Train loss: 0.1626 | Valid loss: 0.2569\n",
      "[Batch 2810] Train loss: 0.1442 | Valid loss: 0.4512\n",
      "[Batch 2820] Train loss: 0.0489 | Valid loss: 0.1908\n",
      "[Batch 2830] Train loss: 0.1229 | Valid loss: 0.1426\n",
      "[Batch 2840] Train loss: 0.1432 | Valid loss: 0.3196\n",
      "[Batch 2850] Train loss: 0.1798 | Valid loss: 1.1102\n",
      "[Batch 2860] Train loss: 0.0917 | Valid loss: 0.2940\n",
      "[Batch 2870] Train loss: 0.1242 | Valid loss: 0.2804\n",
      "[Batch 2880] Train loss: 0.1818 | Valid loss: 0.0909\n",
      "[Batch 2890] Train loss: 0.1139 | Valid loss: 0.2119\n",
      "[Batch 2900] Train loss: 0.1525 | Valid loss: 0.2453\n",
      "[Batch 2910] Train loss: 0.1165 | Valid loss: 0.2300\n",
      "[Batch 2920] Train loss: 0.2258 | Valid loss: 0.1263\n",
      "[Batch 2930] Train loss: 0.0814 | Valid loss: 0.0962\n",
      "[Batch 2940] Train loss: 0.0640 | Valid loss: 0.1939\n",
      "[Batch 2950] Train loss: 0.0758 | Valid loss: 0.1993\n",
      "[Batch 2960] Train loss: 0.1127 | Valid loss: 0.1880\n",
      "[Batch 2970] Train loss: 0.3575 | Valid loss: 1.5593\n",
      "[Batch 2980] Train loss: 0.2084 | Valid loss: 0.0754\n",
      "[Batch 2990] Train loss: 0.0935 | Valid loss: 0.1085\n",
      "[Batch 3000] Train loss: 0.0480 | Valid loss: 0.2084\n",
      "Model is saved.\n",
      "[Batch 3010] Train loss: 0.0354 | Valid loss: 0.1450\n",
      "[Batch 3020] Train loss: 0.3257 | Valid loss: 0.1178\n",
      "[Batch 3030] Train loss: 0.2067 | Valid loss: 0.4429\n",
      "[Batch 3040] Train loss: 0.1256 | Valid loss: 0.1802\n",
      "[Batch 3050] Train loss: 0.3105 | Valid loss: 0.1861\n",
      "[Batch 3060] Train loss: 0.2361 | Valid loss: 0.1323\n",
      "[Batch 3070] Train loss: 0.2141 | Valid loss: 0.0571\n",
      "[Batch 3080] Train loss: 0.1867 | Valid loss: 0.5249\n",
      "[Batch 3090] Train loss: 0.0990 | Valid loss: 0.2887\n",
      "[Batch 3100] Train loss: 0.4133 | Valid loss: 0.3081\n",
      "[Batch 3110] Train loss: 0.0787 | Valid loss: 0.0325\n",
      "[Batch 3120] Train loss: 0.0676 | Valid loss: 0.0492\n",
      "[Batch 3130] Train loss: 0.1078 | Valid loss: 0.3436\n",
      "[Batch 3140] Train loss: 0.1173 | Valid loss: 0.1184\n",
      "[Batch 3150] Train loss: 0.2449 | Valid loss: 0.3920\n",
      "[Batch 3160] Train loss: 0.1333 | Valid loss: 0.1955\n",
      "[Batch 3170] Train loss: 0.1380 | Valid loss: 0.1094\n",
      "[Batch 3180] Train loss: 0.1820 | Valid loss: 0.1193\n",
      "[Batch 3190] Train loss: 0.1573 | Valid loss: 0.0775\n",
      "[Batch 3200] Train loss: 0.1316 | Valid loss: 0.2043\n",
      "[Batch 3210] Train loss: 0.1754 | Valid loss: 0.1293\n",
      "[Batch 3220] Train loss: 0.0878 | Valid loss: 0.1737\n",
      "[Batch 3230] Train loss: 0.1327 | Valid loss: 0.0946\n",
      "[Batch 3240] Train loss: 0.0750 | Valid loss: 0.0726\n",
      "[Batch 3250] Train loss: 0.0543 | Valid loss: 0.0698\n",
      "[Batch 3260] Train loss: 0.0470 | Valid loss: 0.2705\n",
      "[Batch 3270] Train loss: 0.1192 | Valid loss: 0.2055\n",
      "[Batch 3280] Train loss: 0.0922 | Valid loss: 0.3920\n",
      "[Batch 3290] Train loss: 0.0963 | Valid loss: 0.1203\n",
      "[Batch 3300] Train loss: 0.2591 | Valid loss: 0.0923\n",
      "[Batch 3310] Train loss: 0.0358 | Valid loss: 0.1236\n",
      "[Batch 3320] Train loss: 0.2887 | Valid loss: 0.1359\n",
      "[Batch 3330] Train loss: 0.0797 | Valid loss: 0.1119\n",
      "[Batch 3340] Train loss: 0.1184 | Valid loss: 0.4367\n",
      "[Batch 3350] Train loss: 0.0474 | Valid loss: 0.0938\n",
      "[Batch 3360] Train loss: 0.1878 | Valid loss: 0.0298\n",
      "[Batch 3370] Train loss: 0.2357 | Valid loss: 0.1568\n",
      "[Batch 3380] Train loss: 0.1959 | Valid loss: 0.1059\n",
      "[Batch 3390] Train loss: 0.1027 | Valid loss: 0.0535\n",
      "[Batch 3400] Train loss: 0.1584 | Valid loss: 0.0751\n",
      "[Batch 3410] Train loss: 0.1155 | Valid loss: 0.4408\n",
      "[Batch 3420] Train loss: 0.0310 | Valid loss: 0.1474\n",
      "[Batch 3430] Train loss: 0.1419 | Valid loss: 0.0426\n",
      "[Batch 3440] Train loss: 0.2519 | Valid loss: 0.1610\n",
      "[Batch 3450] Train loss: 0.2183 | Valid loss: 0.1370\n",
      "[Batch 3460] Train loss: 0.0608 | Valid loss: 0.3094\n",
      "[Batch 3470] Train loss: 0.1108 | Valid loss: 0.1648\n",
      "[Batch 3480] Train loss: 0.2916 | Valid loss: 0.3027\n",
      "[Batch 3490] Train loss: 0.1685 | Valid loss: 0.1403\n",
      "[Batch 3500] Train loss: 0.4020 | Valid loss: 0.2176\n",
      "[Batch 3510] Train loss: 0.0864 | Valid loss: 0.0719\n",
      "[Batch 3520] Train loss: 0.0304 | Valid loss: 0.0893\n",
      "[Batch 3530] Train loss: 0.2373 | Valid loss: 0.1396\n",
      "[Batch 3540] Train loss: 0.2025 | Valid loss: 0.1466\n",
      "[Batch 3550] Train loss: 0.0240 | Valid loss: 0.0333\n",
      "[Batch 3560] Train loss: 0.1276 | Valid loss: 0.0396\n",
      "[Batch 3570] Train loss: 0.4257 | Valid loss: 0.1032\n",
      "[Batch 3580] Train loss: 0.2594 | Valid loss: 0.6613\n",
      "[Batch 3590] Train loss: 0.1996 | Valid loss: 0.2653\n",
      "[Batch 3600] Train loss: 0.1377 | Valid loss: 0.0592\n",
      "[Batch 3610] Train loss: 0.1670 | Valid loss: 0.1445\n",
      "[Batch 3620] Train loss: 0.7534 | Valid loss: 0.0706\n",
      "[Batch 3630] Train loss: 0.1810 | Valid loss: 0.2156\n",
      "[Batch 3640] Train loss: 0.0855 | Valid loss: 0.0481\n",
      "[Batch 3650] Train loss: 0.1630 | Valid loss: 0.2843\n",
      "[Batch 3660] Train loss: 0.0535 | Valid loss: 0.1725\n",
      "[Batch 3670] Train loss: 0.0870 | Valid loss: 0.1056\n",
      "[Batch 3680] Train loss: 0.0361 | Valid loss: 0.1348\n",
      "[Batch 3690] Train loss: 0.1945 | Valid loss: 0.1240\n",
      "[Batch 3700] Train loss: 0.0997 | Valid loss: 0.0889\n",
      "[Batch 3710] Train loss: 0.1550 | Valid loss: 0.2034\n",
      "[Batch 3720] Train loss: 0.1122 | Valid loss: 0.1262\n",
      "[Batch 3730] Train loss: 0.5767 | Valid loss: 0.1703\n",
      "[Batch 3740] Train loss: 0.1276 | Valid loss: 0.0890\n",
      "[Batch 3750] Train loss: 0.1712 | Valid loss: 0.1199\n",
      "[Batch 3760] Train loss: 0.1402 | Valid loss: 0.7425\n",
      "[Batch 3770] Train loss: 0.1942 | Valid loss: 0.5373\n",
      "[Batch 3780] Train loss: 0.1633 | Valid loss: 0.1281\n",
      "[Batch 3790] Train loss: 0.2148 | Valid loss: 0.1183\n",
      "[Batch 3800] Train loss: 0.3307 | Valid loss: 0.2118\n",
      "[Batch 3810] Train loss: 0.4570 | Valid loss: 0.1100\n",
      "[Batch 3820] Train loss: 0.2960 | Valid loss: 0.4685\n",
      "[Batch 3830] Train loss: 0.1569 | Valid loss: 0.0877\n",
      "[Batch 3840] Train loss: 0.3438 | Valid loss: 0.2787\n",
      "[Batch 3850] Train loss: 0.1442 | Valid loss: 0.2062\n",
      "[Batch 3860] Train loss: 0.2835 | Valid loss: 0.1561\n",
      "[Batch 3870] Train loss: 0.1289 | Valid loss: 0.2446\n",
      "[Batch 3880] Train loss: 0.2362 | Valid loss: 0.0484\n",
      "[Batch 3890] Train loss: 0.3623 | Valid loss: 0.1472\n",
      "[Batch 3900] Train loss: 0.0355 | Valid loss: 1.4586\n",
      "[Batch 3910] Train loss: 0.0926 | Valid loss: 0.1088\n",
      "[Batch 3920] Train loss: 0.1678 | Valid loss: 0.1583\n",
      "[Batch 3930] Train loss: 0.1105 | Valid loss: 0.1818\n",
      "[Batch 3940] Train loss: 0.2765 | Valid loss: 0.1904\n",
      "[Batch 3950] Train loss: 0.5394 | Valid loss: 0.1781\n",
      "[Batch 3960] Train loss: 0.2766 | Valid loss: 0.2590\n",
      "[Batch 3970] Train loss: 0.1142 | Valid loss: 0.1769\n",
      "[Batch 3980] Train loss: 0.0686 | Valid loss: 0.0619\n",
      "[Batch 3990] Train loss: 0.0441 | Valid loss: 0.0539\n",
      "[Batch 4000] Train loss: 0.2470 | Valid loss: 0.1871\n",
      "Model is saved.\n",
      "[Batch 4010] Train loss: 0.3203 | Valid loss: 0.0520\n",
      "[Batch 4020] Train loss: 0.2402 | Valid loss: 0.0924\n",
      "[Batch 4030] Train loss: 0.1827 | Valid loss: 0.3003\n",
      "[Batch 4040] Train loss: 0.0883 | Valid loss: 0.1012\n",
      "[Batch 4050] Train loss: 0.2361 | Valid loss: 0.1826\n",
      "[Batch 4060] Train loss: 0.1150 | Valid loss: 0.0359\n",
      "[Batch 4070] Train loss: 0.1368 | Valid loss: 0.1646\n",
      "[Batch 4080] Train loss: 0.2480 | Valid loss: 0.1892\n",
      "[Batch 4090] Train loss: 0.1195 | Valid loss: 0.0878\n",
      "[Batch 4100] Train loss: 0.0893 | Valid loss: 0.2019\n",
      "[Batch 4110] Train loss: 0.2685 | Valid loss: 0.1076\n",
      "[Batch 4120] Train loss: 0.0235 | Valid loss: 0.0841\n",
      "[Batch 4130] Train loss: 0.1112 | Valid loss: 0.0575\n",
      "[Batch 4140] Train loss: 0.1059 | Valid loss: 0.0946\n",
      "[Batch 4150] Train loss: 0.3087 | Valid loss: 0.1078\n",
      "[Batch 4160] Train loss: 0.2891 | Valid loss: 0.1323\n",
      "[Batch 4170] Train loss: 0.0600 | Valid loss: 1.0253\n",
      "[Batch 4180] Train loss: 0.1498 | Valid loss: 0.2016\n",
      "[Batch 4190] Train loss: 0.1789 | Valid loss: 0.3720\n",
      "[Batch 4200] Train loss: 0.5950 | Valid loss: 0.1632\n",
      "[Batch 4210] Train loss: 0.1277 | Valid loss: 0.1232\n",
      "[Batch 4220] Train loss: 0.1281 | Valid loss: 0.1711\n",
      "[Batch 4230] Train loss: 0.0732 | Valid loss: 0.0717\n",
      "[Batch 4240] Train loss: 0.0635 | Valid loss: 0.4415\n",
      "[Batch 4250] Train loss: 0.1121 | Valid loss: 1.0906\n",
      "[Batch 4260] Train loss: 0.0779 | Valid loss: 0.1504\n",
      "[Batch 4270] Train loss: 0.1623 | Valid loss: 0.3665\n",
      "[Batch 4280] Train loss: 0.0944 | Valid loss: 0.1814\n",
      "[Batch 4290] Train loss: 0.1069 | Valid loss: 0.1872\n",
      "[Batch 4300] Train loss: 0.0329 | Valid loss: 0.0539\n",
      "[Batch 4310] Train loss: 0.2225 | Valid loss: 0.2767\n",
      "[Batch 4320] Train loss: 0.1236 | Valid loss: 0.1702\n",
      "[Batch 4330] Train loss: 0.0581 | Valid loss: 0.4278\n",
      "[Batch 4340] Train loss: 0.0534 | Valid loss: 0.1238\n",
      "[Batch 4350] Train loss: 0.1987 | Valid loss: 0.1372\n",
      "[Batch 4360] Train loss: 0.0806 | Valid loss: 0.0734\n",
      "[Batch 4370] Train loss: 0.0840 | Valid loss: 0.1483\n",
      "[Batch 4380] Train loss: 0.0571 | Valid loss: 0.1353\n",
      "[Batch 4390] Train loss: 0.0791 | Valid loss: 0.1640\n",
      "[Batch 4400] Train loss: 0.0952 | Valid loss: 0.0936\n",
      "[Batch 4410] Train loss: 0.1487 | Valid loss: 0.1120\n",
      "[Batch 4420] Train loss: 0.0484 | Valid loss: 0.0849\n",
      "[Batch 4430] Train loss: 0.1540 | Valid loss: 0.0951\n",
      "[Batch 4440] Train loss: 0.1805 | Valid loss: 0.1140\n",
      "[Batch 4450] Train loss: 0.1690 | Valid loss: 0.0902\n",
      "[Batch 4460] Train loss: 0.1807 | Valid loss: 0.4329\n",
      "[Batch 4470] Train loss: 0.1215 | Valid loss: 0.0779\n",
      "[Batch 4480] Train loss: 0.3610 | Valid loss: 0.1225\n",
      "[Batch 4490] Train loss: 0.1179 | Valid loss: 0.1506\n",
      "[Batch 4500] Train loss: 0.0908 | Valid loss: 0.1787\n",
      "[Batch 4510] Train loss: 0.3546 | Valid loss: 0.0649\n",
      "[Batch 4520] Train loss: 0.0569 | Valid loss: 0.0929\n",
      "[Batch 4530] Train loss: 0.0966 | Valid loss: 0.3087\n",
      "[Batch 4540] Train loss: 0.0367 | Valid loss: 0.1436\n",
      "[Batch 4550] Train loss: 0.0844 | Valid loss: 0.1241\n",
      "[Batch 4560] Train loss: 0.1338 | Valid loss: 0.3685\n",
      "[Batch 4570] Train loss: 0.1949 | Valid loss: 0.1080\n",
      "[Batch 4580] Train loss: 0.4778 | Valid loss: 0.0970\n",
      "[Batch 4590] Train loss: 0.1146 | Valid loss: 0.0699\n",
      "[Batch 4600] Train loss: 0.1239 | Valid loss: 0.1620\n",
      "[Batch 4610] Train loss: 0.1297 | Valid loss: 0.5910\n",
      "[Batch 4620] Train loss: 0.0437 | Valid loss: 0.1069\n",
      "[Batch 4630] Train loss: 0.6124 | Valid loss: 0.4625\n",
      "[Batch 4640] Train loss: 0.1368 | Valid loss: 0.2498\n",
      "[Batch 4650] Train loss: 0.1400 | Valid loss: 0.4398\n",
      "[Batch 4660] Train loss: 0.0859 | Valid loss: 0.0748\n",
      "[Batch 4670] Train loss: 0.2809 | Valid loss: 0.1094\n",
      "[Batch 4680] Train loss: 0.0519 | Valid loss: 0.3892\n",
      "[Batch 4690] Train loss: 0.0325 | Valid loss: 0.1509\n",
      "[Batch 4700] Train loss: 0.0770 | Valid loss: 0.2451\n",
      "[Batch 4710] Train loss: 0.1415 | Valid loss: 0.2712\n",
      "[Batch 4720] Train loss: 0.2175 | Valid loss: 0.2738\n",
      "[Batch 4730] Train loss: 0.0785 | Valid loss: 0.2947\n",
      "[Batch 4740] Train loss: 0.1748 | Valid loss: 0.2792\n",
      "[Batch 4750] Train loss: 0.1006 | Valid loss: 0.1413\n",
      "[Batch 4760] Train loss: 0.1405 | Valid loss: 0.4981\n",
      "[Batch 4770] Train loss: 0.0592 | Valid loss: 0.0974\n",
      "[Batch 4780] Train loss: 0.2144 | Valid loss: 0.0681\n",
      "[Batch 4790] Train loss: 0.1192 | Valid loss: 0.0305\n",
      "[Batch 4800] Train loss: 0.0628 | Valid loss: 0.2089\n",
      "[Batch 4810] Train loss: 0.0884 | Valid loss: 0.0829\n",
      "[Batch 4820] Train loss: 0.0427 | Valid loss: 0.0498\n",
      "[Batch 4830] Train loss: 0.0579 | Valid loss: 0.1271\n",
      "[Batch 4840] Train loss: 0.2029 | Valid loss: 0.0663\n",
      "[Batch 4850] Train loss: 0.2182 | Valid loss: 0.0466\n",
      "[Batch 4860] Train loss: 0.0940 | Valid loss: 0.0277\n",
      "[Batch 4870] Train loss: 0.2149 | Valid loss: 0.3735\n",
      "[Batch 4880] Train loss: 0.0489 | Valid loss: 0.0942\n",
      "[Batch 4890] Train loss: 1.2402 | Valid loss: 0.4696\n",
      "[Batch 4900] Train loss: 0.1538 | Valid loss: 0.1410\n",
      "[Batch 4910] Train loss: 0.0788 | Valid loss: 0.1726\n",
      "[Batch 4920] Train loss: 0.3159 | Valid loss: 0.1308\n",
      "[Batch 4930] Train loss: 0.0508 | Valid loss: 0.1941\n",
      "[Batch 4940] Train loss: 0.3700 | Valid loss: 0.1214\n",
      "[Batch 4950] Train loss: 0.1981 | Valid loss: 0.1427\n",
      "[Batch 4960] Train loss: 0.0866 | Valid loss: 0.2409\n",
      "[Batch 4970] Train loss: 0.3826 | Valid loss: 0.0712\n",
      "[Batch 4980] Train loss: 0.0535 | Valid loss: 0.0493\n",
      "[Batch 4990] Train loss: 0.1532 | Valid loss: 0.0377\n",
      "[Batch 5000] Train loss: 0.0495 | Valid loss: 0.0925\n",
      "Model is saved.\n",
      "[Batch 5010] Train loss: 0.0478 | Valid loss: 0.1864\n",
      "[Batch 5020] Train loss: 0.1456 | Valid loss: 0.0586\n",
      "[Batch 5030] Train loss: 0.0332 | Valid loss: 0.4489\n",
      "[Batch 5040] Train loss: 0.0813 | Valid loss: 0.2026\n",
      "[Batch 5050] Train loss: 0.1917 | Valid loss: 0.1563\n",
      "[Batch 5060] Train loss: 0.0768 | Valid loss: 0.0528\n",
      "[Batch 5070] Train loss: 0.1485 | Valid loss: 0.2721\n",
      "[Batch 5080] Train loss: 0.0846 | Valid loss: 0.2002\n",
      "[Batch 5090] Train loss: 0.2783 | Valid loss: 0.2334\n",
      "[Batch 5100] Train loss: 0.2501 | Valid loss: 0.1935\n",
      "[Batch 5110] Train loss: 0.0575 | Valid loss: 0.1041\n",
      "[Batch 5120] Train loss: 0.0348 | Valid loss: 0.0346\n",
      "[Batch 5130] Train loss: 0.4168 | Valid loss: 0.0444\n",
      "[Batch 5140] Train loss: 0.0714 | Valid loss: 0.2254\n",
      "[Batch 5150] Train loss: 0.0416 | Valid loss: 0.0871\n",
      "[Batch 5160] Train loss: 0.0409 | Valid loss: 0.0790\n",
      "[Batch 5170] Train loss: 0.5319 | Valid loss: 0.3450\n",
      "[Batch 5180] Train loss: 0.1963 | Valid loss: 0.1269\n",
      "[Batch 5190] Train loss: 0.1354 | Valid loss: 0.2054\n",
      "[Batch 5200] Train loss: 0.3112 | Valid loss: 0.1557\n",
      "[Batch 5210] Train loss: 0.0757 | Valid loss: 0.0351\n",
      "[Batch 5220] Train loss: 0.1181 | Valid loss: 0.8156\n",
      "[Batch 5230] Train loss: 0.1920 | Valid loss: 0.0581\n",
      "[Batch 5240] Train loss: 0.1091 | Valid loss: 0.0966\n",
      "[Batch 5250] Train loss: 0.0591 | Valid loss: 0.1757\n",
      "[Batch 5260] Train loss: 0.1570 | Valid loss: 0.0889\n",
      "[Batch 5270] Train loss: 0.0501 | Valid loss: 0.1476\n",
      "[Batch 5280] Train loss: 0.1163 | Valid loss: 0.1044\n",
      "[Batch 5290] Train loss: 0.0361 | Valid loss: 0.0505\n",
      "[Batch 5300] Train loss: 0.0543 | Valid loss: 0.0793\n",
      "[Batch 5310] Train loss: 0.1272 | Valid loss: 0.1448\n",
      "[Batch 5320] Train loss: 0.1215 | Valid loss: 0.0928\n",
      "[Batch 5330] Train loss: 0.0751 | Valid loss: 0.0267\n",
      "[Batch 5340] Train loss: 0.1549 | Valid loss: 0.1973\n",
      "[Batch 5350] Train loss: 0.2775 | Valid loss: 0.2250\n",
      "[Batch 5360] Train loss: 0.0810 | Valid loss: 0.0902\n",
      "[Batch 5370] Train loss: 0.0696 | Valid loss: 0.1080\n",
      "[Batch 5380] Train loss: 0.0399 | Valid loss: 0.2025\n",
      "[Batch 5390] Train loss: 0.0480 | Valid loss: 0.4716\n",
      "[Batch 5400] Train loss: 0.0944 | Valid loss: 0.0319\n",
      "[Batch 5410] Train loss: 0.1346 | Valid loss: 0.0980\n",
      "[Batch 5420] Train loss: 0.1243 | Valid loss: 0.0998\n",
      "[Batch 5430] Train loss: 0.0240 | Valid loss: 0.7996\n",
      "[Batch 5440] Train loss: 0.1118 | Valid loss: 0.2275\n",
      "[Batch 5450] Train loss: 0.0834 | Valid loss: 0.1155\n",
      "[Batch 5460] Train loss: 0.0923 | Valid loss: 0.1326\n",
      "[Batch 5470] Train loss: 0.0980 | Valid loss: 0.1850\n",
      "[Batch 5480] Train loss: 0.0336 | Valid loss: 0.0615\n",
      "[Batch 5490] Train loss: 0.0250 | Valid loss: 0.0582\n",
      "[Batch 5500] Train loss: 0.0558 | Valid loss: 0.0561\n",
      "[Batch 5510] Train loss: 0.0730 | Valid loss: 0.1210\n",
      "[Batch 5520] Train loss: 0.1723 | Valid loss: 0.0473\n",
      "[Batch 5530] Train loss: 0.1083 | Valid loss: 0.0822\n",
      "[Batch 5540] Train loss: 0.0793 | Valid loss: 0.1078\n",
      "[Batch 5550] Train loss: 0.0537 | Valid loss: 0.0806\n",
      "[Batch 5560] Train loss: 0.6931 | Valid loss: 0.3566\n",
      "[Batch 5570] Train loss: 0.2731 | Valid loss: 0.1570\n",
      "[Batch 5580] Train loss: 0.0670 | Valid loss: 0.2082\n",
      "[Batch 5590] Train loss: 0.1665 | Valid loss: 0.0988\n",
      "[Batch 5600] Train loss: 0.0547 | Valid loss: 0.2147\n",
      "[Batch 5610] Train loss: 0.1066 | Valid loss: 0.2008\n",
      "[Batch 5620] Train loss: 0.2102 | Valid loss: 0.1547\n",
      "[Batch 5630] Train loss: 0.1969 | Valid loss: 0.0383\n",
      "[Batch 5640] Train loss: 0.0504 | Valid loss: 0.0498\n",
      "[Batch 5650] Train loss: 0.1260 | Valid loss: 0.0619\n",
      "[Batch 5660] Train loss: 0.0690 | Valid loss: 0.0373\n",
      "[Batch 5670] Train loss: 0.0509 | Valid loss: 0.0497\n",
      "[Batch 5680] Train loss: 0.0324 | Valid loss: 0.0771\n",
      "[Batch 5690] Train loss: 0.0844 | Valid loss: 0.6830\n",
      "[Batch 5700] Train loss: 0.0963 | Valid loss: 0.0567\n",
      "[Batch 5710] Train loss: 0.0755 | Valid loss: 0.1250\n",
      "[Batch 5720] Train loss: 0.2867 | Valid loss: 0.0423\n",
      "[Batch 5730] Train loss: 0.0462 | Valid loss: 0.0648\n",
      "[Batch 5740] Train loss: 0.2254 | Valid loss: 0.0453\n",
      "[Batch 5750] Train loss: 0.0905 | Valid loss: 0.0760\n",
      "[Batch 5760] Train loss: 0.1549 | Valid loss: 0.0650\n",
      "[Batch 5770] Train loss: 0.1405 | Valid loss: 0.1836\n",
      "[Batch 5780] Train loss: 0.3988 | Valid loss: 0.1588\n",
      "[Batch 5790] Train loss: 0.1932 | Valid loss: 0.2512\n",
      "[Batch 5800] Train loss: 0.0414 | Valid loss: 0.0936\n",
      "[Batch 5810] Train loss: 0.0315 | Valid loss: 0.0841\n",
      "[Batch 5820] Train loss: 0.1938 | Valid loss: 0.1893\n",
      "[Batch 5830] Train loss: 0.1975 | Valid loss: 0.0823\n",
      "[Batch 5840] Train loss: 0.1266 | Valid loss: 0.1583\n",
      "[Batch 5850] Train loss: 0.0647 | Valid loss: 0.1032\n",
      "[Batch 5860] Train loss: 0.1232 | Valid loss: 0.1410\n",
      "[Batch 5870] Train loss: 0.0514 | Valid loss: 0.1890\n",
      "[Batch 5880] Train loss: 0.0967 | Valid loss: 0.3958\n",
      "[Batch 5890] Train loss: 0.1009 | Valid loss: 0.0852\n",
      "[Batch 5900] Train loss: 0.1187 | Valid loss: 0.2527\n",
      "[Batch 5910] Train loss: 0.0550 | Valid loss: 0.1413\n",
      "[Batch 5920] Train loss: 0.0887 | Valid loss: 0.0486\n",
      "[Batch 5930] Train loss: 0.1088 | Valid loss: 0.0370\n",
      "[Batch 5940] Train loss: 0.2898 | Valid loss: 0.1826\n",
      "[Batch 5950] Train loss: 0.5486 | Valid loss: 0.0565\n",
      "[Batch 5960] Train loss: 0.3173 | Valid loss: 0.1057\n",
      "[Batch 5970] Train loss: 0.6137 | Valid loss: 0.0387\n",
      "[Batch 5980] Train loss: 0.0984 | Valid loss: 0.3030\n",
      "[Batch 5990] Train loss: 0.2386 | Valid loss: 0.1336\n",
      "[Batch 6000] Train loss: 0.1590 | Valid loss: 0.0957\n",
      "Model is saved.\n",
      "[Batch 6010] Train loss: 0.3094 | Valid loss: 0.1617\n",
      "[Batch 6020] Train loss: 0.0568 | Valid loss: 0.0245\n",
      "[Batch 6030] Train loss: 0.0199 | Valid loss: 0.0619\n",
      "[Batch 6040] Train loss: 0.1569 | Valid loss: 0.1411\n",
      "[Batch 6050] Train loss: 0.1707 | Valid loss: 0.0829\n",
      "[Batch 6060] Train loss: 0.1151 | Valid loss: 0.2407\n",
      "[Batch 6070] Train loss: 0.0648 | Valid loss: 0.4419\n",
      "[Batch 6080] Train loss: 0.1891 | Valid loss: 0.2734\n",
      "[Batch 6090] Train loss: 0.0456 | Valid loss: 0.1669\n",
      "[Batch 6100] Train loss: 0.1592 | Valid loss: 0.3002\n",
      "[Batch 6110] Train loss: 0.1249 | Valid loss: 0.0795\n",
      "[Batch 6120] Train loss: 0.1093 | Valid loss: 0.0721\n",
      "[Batch 6130] Train loss: 0.4244 | Valid loss: 0.0827\n",
      "[Batch 6140] Train loss: 0.1252 | Valid loss: 0.0981\n",
      "[Batch 6150] Train loss: 0.1226 | Valid loss: 0.2253\n",
      "[Batch 6160] Train loss: 0.0642 | Valid loss: 0.1077\n",
      "[Batch 6170] Train loss: 0.0831 | Valid loss: 0.0778\n",
      "[Batch 6180] Train loss: 0.1882 | Valid loss: 0.2981\n",
      "[Batch 6190] Train loss: 0.0763 | Valid loss: 0.0480\n",
      "[Batch 6200] Train loss: 0.1566 | Valid loss: 0.0247\n",
      "[Batch 6210] Train loss: 0.1185 | Valid loss: 0.1945\n",
      "[Batch 6220] Train loss: 0.1760 | Valid loss: 0.1305\n",
      "[Batch 6230] Train loss: 0.1635 | Valid loss: 0.1427\n",
      "[Batch 6240] Train loss: 0.0528 | Valid loss: 0.0688\n",
      "[Batch 6250] Train loss: 0.0628 | Valid loss: 0.5629\n",
      "[Batch 6260] Train loss: 0.0319 | Valid loss: 0.0952\n",
      "[Batch 6270] Train loss: 0.0950 | Valid loss: 0.1387\n",
      "[Batch 6280] Train loss: 0.0922 | Valid loss: 0.0572\n",
      "[Batch 6290] Train loss: 0.1938 | Valid loss: 0.0398\n",
      "[Batch 6300] Train loss: 0.1538 | Valid loss: 0.0235\n",
      "[Batch 6310] Train loss: 0.0602 | Valid loss: 0.0965\n",
      "[Batch 6320] Train loss: 0.0682 | Valid loss: 0.1054\n",
      "[Batch 6330] Train loss: 0.0318 | Valid loss: 0.0182\n",
      "[Batch 6340] Train loss: 0.1862 | Valid loss: 0.0714\n",
      "[Batch 6350] Train loss: 0.0422 | Valid loss: 0.0653\n",
      "[Batch 6360] Train loss: 0.0822 | Valid loss: 0.0385\n",
      "[Batch 6370] Train loss: 0.0305 | Valid loss: 0.1218\n",
      "[Batch 6380] Train loss: 0.0283 | Valid loss: 0.1189\n",
      "[Batch 6390] Train loss: 0.0984 | Valid loss: 0.5922\n",
      "[Batch 6400] Train loss: 0.0779 | Valid loss: 0.1320\n",
      "[Batch 6410] Train loss: 0.1658 | Valid loss: 0.2032\n",
      "[Batch 6420] Train loss: 0.0517 | Valid loss: 0.6987\n",
      "[Batch 6430] Train loss: 0.1579 | Valid loss: 1.3269\n",
      "[Batch 6440] Train loss: 0.1070 | Valid loss: 0.0676\n",
      "[Batch 6450] Train loss: 0.0880 | Valid loss: 0.0983\n",
      "[Batch 6460] Train loss: 0.1142 | Valid loss: 0.1525\n",
      "[Batch 6470] Train loss: 0.0431 | Valid loss: 0.1897\n",
      "[Batch 6480] Train loss: 0.0578 | Valid loss: 0.0554\n",
      "[Batch 6490] Train loss: 0.4366 | Valid loss: 0.3840\n",
      "[Batch 6500] Train loss: 0.1070 | Valid loss: 0.1033\n",
      "[Batch 6510] Train loss: 0.3701 | Valid loss: 0.0889\n",
      "[Batch 6520] Train loss: 0.1161 | Valid loss: 0.0884\n",
      "[Batch 6530] Train loss: 0.0368 | Valid loss: 0.5325\n",
      "[Batch 6540] Train loss: 0.0931 | Valid loss: 0.5014\n",
      "[Batch 6550] Train loss: 0.0333 | Valid loss: 0.1010\n",
      "[Batch 6560] Train loss: 0.0393 | Valid loss: 0.1189\n",
      "[Batch 6570] Train loss: 0.1058 | Valid loss: 0.1767\n",
      "[Batch 6580] Train loss: 0.2004 | Valid loss: 0.1479\n",
      "[Batch 6590] Train loss: 0.1838 | Valid loss: 0.2008\n",
      "[Batch 6600] Train loss: 0.1342 | Valid loss: 0.0749\n",
      "[Batch 6610] Train loss: 0.1603 | Valid loss: 0.1328\n",
      "[Batch 6620] Train loss: 0.2747 | Valid loss: 0.1813\n",
      "[Batch 6630] Train loss: 0.0472 | Valid loss: 0.1381\n",
      "[Batch 6640] Train loss: 0.5711 | Valid loss: 0.1307\n",
      "[Batch 6650] Train loss: 0.0459 | Valid loss: 0.2376\n",
      "[Batch 6660] Train loss: 0.1622 | Valid loss: 0.1756\n",
      "[Batch 6670] Train loss: 0.0269 | Valid loss: 0.1863\n",
      "[Batch 6680] Train loss: 0.0918 | Valid loss: 0.1764\n",
      "[Batch 6690] Train loss: 0.1058 | Valid loss: 0.1001\n",
      "[Batch 6700] Train loss: 0.0439 | Valid loss: 0.2543\n",
      "[Batch 6710] Train loss: 0.1221 | Valid loss: 0.0284\n",
      "[Batch 6720] Train loss: 0.0648 | Valid loss: 0.1294\n",
      "[Batch 6730] Train loss: 0.0940 | Valid loss: 0.5197\n",
      "[Batch 6740] Train loss: 0.0744 | Valid loss: 0.1947\n",
      "[Batch 6750] Train loss: 0.0884 | Valid loss: 0.1366\n",
      "[Batch 6760] Train loss: 0.0573 | Valid loss: 0.3460\n",
      "[Batch 6770] Train loss: 0.0567 | Valid loss: 0.1568\n",
      "[Batch 6780] Train loss: 0.0618 | Valid loss: 0.3126\n",
      "[Batch 6790] Train loss: 0.2417 | Valid loss: 0.5286\n",
      "[Batch 6800] Train loss: 0.0395 | Valid loss: 0.2196\n",
      "[Batch 6810] Train loss: 0.2066 | Valid loss: 0.1306\n",
      "[Batch 6820] Train loss: 0.0736 | Valid loss: 0.0749\n",
      "[Batch 6830] Train loss: 0.0943 | Valid loss: 0.1612\n",
      "[Batch 6840] Train loss: 0.0426 | Valid loss: 0.0633\n",
      "[Batch 6850] Train loss: 0.0527 | Valid loss: 0.1694\n",
      "[Batch 6860] Train loss: 0.0376 | Valid loss: 0.0360\n",
      "[Batch 6870] Train loss: 0.1427 | Valid loss: 0.7382\n",
      "[Batch 6880] Train loss: 0.1042 | Valid loss: 0.0453\n",
      "[Batch 6890] Train loss: 0.1073 | Valid loss: 0.2127\n",
      "[Batch 6900] Train loss: 0.1231 | Valid loss: 0.1185\n",
      "[Batch 6910] Train loss: 0.1393 | Valid loss: 0.3290\n",
      "[Batch 6920] Train loss: 0.0701 | Valid loss: 0.0600\n",
      "[Batch 6930] Train loss: 0.1375 | Valid loss: 0.3248\n",
      "[Batch 6940] Train loss: 0.2903 | Valid loss: 0.1037\n",
      "[Batch 6950] Train loss: 0.2365 | Valid loss: 0.1878\n",
      "[Batch 6960] Train loss: 0.0843 | Valid loss: 0.0437\n",
      "[Batch 6970] Train loss: 0.0447 | Valid loss: 0.0451\n",
      "[Batch 6980] Train loss: 0.3485 | Valid loss: 0.0279\n",
      "[Batch 6990] Train loss: 0.1455 | Valid loss: 0.2012\n",
      "[Batch 7000] Train loss: 0.0354 | Valid loss: 0.0837\n",
      "Model is saved.\n",
      "[Batch 7010] Train loss: 0.3312 | Valid loss: 0.1136\n",
      "[Batch 7020] Train loss: 0.0675 | Valid loss: 0.0174\n",
      "[Batch 7030] Train loss: 0.0547 | Valid loss: 0.5787\n",
      "[Batch 7040] Train loss: 0.0915 | Valid loss: 0.1318\n",
      "[Batch 7050] Train loss: 0.1102 | Valid loss: 0.0500\n",
      "[Batch 7060] Train loss: 0.0198 | Valid loss: 0.1522\n",
      "[Batch 7070] Train loss: 0.1888 | Valid loss: 0.0148\n",
      "[Batch 7080] Train loss: 0.1019 | Valid loss: 0.3166\n",
      "[Batch 7090] Train loss: 0.5294 | Valid loss: 0.1327\n",
      "[Batch 7100] Train loss: 0.0129 | Valid loss: 0.1926\n",
      "[Batch 7110] Train loss: 0.0883 | Valid loss: 0.2035\n",
      "[Batch 7120] Train loss: 0.3054 | Valid loss: 0.1766\n",
      "[Batch 7130] Train loss: 0.1574 | Valid loss: 0.1311\n",
      "[Batch 7140] Train loss: 0.7936 | Valid loss: 0.3868\n",
      "[Batch 7150] Train loss: 0.1017 | Valid loss: 0.2111\n",
      "[Batch 7160] Train loss: 0.1573 | Valid loss: 0.0509\n",
      "[Batch 7170] Train loss: 0.0740 | Valid loss: 0.2436\n",
      "[Batch 7180] Train loss: 0.0406 | Valid loss: 0.0484\n",
      "[Batch 7190] Train loss: 0.0895 | Valid loss: 0.0809\n",
      "[Batch 7200] Train loss: 0.5945 | Valid loss: 0.1929\n",
      "[Batch 7210] Train loss: 0.1995 | Valid loss: 0.2265\n",
      "[Batch 7220] Train loss: 0.7060 | Valid loss: 0.0960\n",
      "[Batch 7230] Train loss: 0.0736 | Valid loss: 0.0836\n",
      "[Batch 7240] Train loss: 0.0907 | Valid loss: 0.1077\n",
      "[Batch 7250] Train loss: 0.0514 | Valid loss: 1.1524\n",
      "[Batch 7260] Train loss: 0.2454 | Valid loss: 0.3231\n",
      "[Batch 7270] Train loss: 0.0568 | Valid loss: 0.0824\n",
      "[Batch 7280] Train loss: 0.0767 | Valid loss: 0.0395\n",
      "[Batch 7290] Train loss: 0.0742 | Valid loss: 0.1161\n",
      "[Batch 7300] Train loss: 0.0729 | Valid loss: 0.3258\n",
      "[Batch 7310] Train loss: 0.1174 | Valid loss: 0.1115\n",
      "[Batch 7320] Train loss: 0.2329 | Valid loss: 0.3355\n",
      "[Batch 7330] Train loss: 0.1674 | Valid loss: 0.0259\n",
      "[Batch 7340] Train loss: 0.1344 | Valid loss: 1.0207\n",
      "[Batch 7350] Train loss: 0.0632 | Valid loss: 0.0593\n",
      "[Batch 7360] Train loss: 0.0222 | Valid loss: 0.0414\n",
      "[Batch 7370] Train loss: 0.0384 | Valid loss: 0.0725\n",
      "[Batch 7380] Train loss: 0.0727 | Valid loss: 0.1162\n",
      "[Batch 7390] Train loss: 0.1316 | Valid loss: 0.3179\n",
      "[Batch 7400] Train loss: 0.0733 | Valid loss: 0.0697\n",
      "[Batch 7410] Train loss: 0.0796 | Valid loss: 0.0905\n",
      "[Batch 7420] Train loss: 0.0329 | Valid loss: 0.1182\n",
      "[Batch 7430] Train loss: 0.0764 | Valid loss: 0.0669\n",
      "[Batch 7440] Train loss: 0.1066 | Valid loss: 0.0665\n",
      "[Batch 7450] Train loss: 0.0373 | Valid loss: 0.1458\n",
      "[Batch 7460] Train loss: 0.0585 | Valid loss: 0.4267\n",
      "[Batch 7470] Train loss: 0.0260 | Valid loss: 0.0706\n",
      "[Batch 7480] Train loss: 0.2020 | Valid loss: 0.0694\n",
      "[Batch 7490] Train loss: 0.1001 | Valid loss: 0.0545\n",
      "[Batch 7500] Train loss: 0.0284 | Valid loss: 0.0657\n",
      "[Batch 7510] Train loss: 0.0850 | Valid loss: 0.7001\n",
      "[Batch 7520] Train loss: 0.0531 | Valid loss: 0.0408\n",
      "[Batch 7530] Train loss: 0.0661 | Valid loss: 0.0298\n",
      "[Batch 7540] Train loss: 0.0765 | Valid loss: 0.1143\n",
      "[Batch 7550] Train loss: 0.1221 | Valid loss: 0.0361\n",
      "[Batch 7560] Train loss: 0.0960 | Valid loss: 0.0760\n",
      "[Batch 7570] Train loss: 0.0739 | Valid loss: 0.0289\n",
      "[Batch 7580] Train loss: 0.1369 | Valid loss: 0.0414\n",
      "[Batch 7590] Train loss: 0.0733 | Valid loss: 0.0264\n",
      "[Batch 7600] Train loss: 0.0371 | Valid loss: 0.1841\n",
      "[Batch 7610] Train loss: 0.0296 | Valid loss: 0.0799\n",
      "[Batch 7620] Train loss: 0.3390 | Valid loss: 0.3721\n",
      "[Batch 7630] Train loss: 0.2193 | Valid loss: 0.2804\n",
      "[Batch 7640] Train loss: 0.0484 | Valid loss: 0.0664\n",
      "[Batch 7650] Train loss: 0.0633 | Valid loss: 0.1126\n",
      "[Batch 7660] Train loss: 0.1691 | Valid loss: 0.3170\n",
      "[Batch 7670] Train loss: 0.0602 | Valid loss: 0.0761\n",
      "[Batch 7680] Train loss: 0.1017 | Valid loss: 0.1208\n",
      "[Batch 7690] Train loss: 0.1588 | Valid loss: 0.0210\n",
      "[Batch 7700] Train loss: 0.0631 | Valid loss: 0.4421\n",
      "[Batch 7710] Train loss: 0.1902 | Valid loss: 0.5725\n",
      "[Batch 7720] Train loss: 0.1355 | Valid loss: 0.0571\n",
      "[Batch 7730] Train loss: 0.0375 | Valid loss: 0.0848\n",
      "[Batch 7740] Train loss: 0.1052 | Valid loss: 0.2418\n",
      "[Batch 7750] Train loss: 0.6671 | Valid loss: 0.1334\n",
      "[Batch 7760] Train loss: 0.2368 | Valid loss: 0.0378\n",
      "[Batch 7770] Train loss: 0.1807 | Valid loss: 0.1002\n",
      "[Batch 7780] Train loss: 0.2491 | Valid loss: 0.1397\n",
      "[Batch 7790] Train loss: 0.0582 | Valid loss: 0.0360\n",
      "[Batch 7800] Train loss: 0.0912 | Valid loss: 0.0616\n",
      "[Batch 7810] Train loss: 0.0217 | Valid loss: 0.0902\n",
      "[Batch 7820] Train loss: 0.1022 | Valid loss: 0.1578\n",
      "[Batch 7830] Train loss: 1.0781 | Valid loss: 0.2749\n",
      "[Batch 7840] Train loss: 0.0524 | Valid loss: 0.0608\n",
      "[Batch 7850] Train loss: 0.1574 | Valid loss: 0.2131\n",
      "[Batch 7860] Train loss: 0.0581 | Valid loss: 1.0128\n",
      "[Batch 7870] Train loss: 0.1366 | Valid loss: 0.1241\n",
      "[Batch 7880] Train loss: 0.0888 | Valid loss: 0.1242\n",
      "[Batch 7890] Train loss: 0.5071 | Valid loss: 0.0825\n",
      "[Batch 7900] Train loss: 0.0649 | Valid loss: 0.0182\n",
      "[Batch 7910] Train loss: 0.0304 | Valid loss: 0.0638\n",
      "[Batch 7920] Train loss: 0.1145 | Valid loss: 0.1011\n",
      "[Batch 7930] Train loss: 0.0721 | Valid loss: 0.0465\n",
      "[Batch 7940] Train loss: 0.1131 | Valid loss: 0.0233\n",
      "[Batch 7950] Train loss: 0.0368 | Valid loss: 0.0823\n",
      "[Batch 7960] Train loss: 0.1031 | Valid loss: 0.0577\n",
      "[Batch 7970] Train loss: 0.2739 | Valid loss: 0.0310\n",
      "[Batch 7980] Train loss: 0.1359 | Valid loss: 0.1319\n",
      "[Batch 7990] Train loss: 0.0905 | Valid loss: 0.0949\n",
      "[Batch 8000] Train loss: 0.2696 | Valid loss: 0.0677\n",
      "Model is saved.\n",
      "[Batch 8010] Train loss: 0.0474 | Valid loss: 0.0523\n",
      "[Batch 8020] Train loss: 0.3177 | Valid loss: 0.0958\n",
      "[Batch 8030] Train loss: 0.0419 | Valid loss: 0.2227\n",
      "[Batch 8040] Train loss: 0.0941 | Valid loss: 0.0873\n",
      "[Batch 8050] Train loss: 0.1222 | Valid loss: 0.0704\n",
      "[Batch 8060] Train loss: 0.0902 | Valid loss: 0.1324\n",
      "[Batch 8070] Train loss: 0.0360 | Valid loss: 0.0593\n",
      "[Batch 8080] Train loss: 0.0809 | Valid loss: 0.1004\n",
      "[Batch 8090] Train loss: 0.0418 | Valid loss: 0.1899\n",
      "[Batch 8100] Train loss: 0.0930 | Valid loss: 0.1019\n",
      "[Batch 8110] Train loss: 0.0430 | Valid loss: 0.0152\n",
      "[Batch 8120] Train loss: 0.0458 | Valid loss: 0.0629\n",
      "[Batch 8130] Train loss: 0.1326 | Valid loss: 0.3445\n",
      "[Batch 8140] Train loss: 0.0408 | Valid loss: 0.0745\n",
      "[Batch 8150] Train loss: 0.1053 | Valid loss: 1.1381\n",
      "[Batch 8160] Train loss: 0.1998 | Valid loss: 0.1059\n",
      "[Batch 8170] Train loss: 0.0494 | Valid loss: 0.1253\n",
      "[Batch 8180] Train loss: 0.0132 | Valid loss: 0.3340\n",
      "[Batch 8190] Train loss: 0.2728 | Valid loss: 0.0405\n",
      "[Batch 8200] Train loss: 0.0940 | Valid loss: 0.1289\n",
      "[Batch 8210] Train loss: 0.1123 | Valid loss: 0.0313\n",
      "[Batch 8220] Train loss: 0.0780 | Valid loss: 0.0684\n",
      "[Batch 8230] Train loss: 0.1206 | Valid loss: 0.1973\n",
      "[Batch 8240] Train loss: 0.1227 | Valid loss: 0.0220\n",
      "[Batch 8250] Train loss: 0.1291 | Valid loss: 0.0264\n",
      "[Batch 8260] Train loss: 0.0794 | Valid loss: 0.0388\n",
      "[Batch 8270] Train loss: 0.2002 | Valid loss: 0.0805\n",
      "[Batch 8280] Train loss: 0.0623 | Valid loss: 0.1865\n",
      "[Batch 8290] Train loss: 0.0510 | Valid loss: 0.0428\n",
      "[Batch 8300] Train loss: 0.2456 | Valid loss: 0.1079\n",
      "[Batch 8310] Train loss: 0.2712 | Valid loss: 0.0808\n",
      "[Batch 8320] Train loss: 0.0188 | Valid loss: 0.1786\n",
      "[Batch 8330] Train loss: 0.0605 | Valid loss: 0.0915\n",
      "[Batch 8340] Train loss: 0.1061 | Valid loss: 0.0512\n",
      "[Batch 8350] Train loss: 1.0853 | Valid loss: 0.1101\n",
      "[Batch 8360] Train loss: 0.1380 | Valid loss: 0.2291\n",
      "[Batch 8370] Train loss: 0.0305 | Valid loss: 0.0393\n",
      "[Batch 8380] Train loss: 0.0440 | Valid loss: 0.1981\n",
      "[Batch 8390] Train loss: 0.1058 | Valid loss: 0.0514\n",
      "[Batch 8400] Train loss: 0.4222 | Valid loss: 0.0695\n",
      "[Batch 8410] Train loss: 0.0564 | Valid loss: 1.0044\n",
      "[Batch 8420] Train loss: 0.2958 | Valid loss: 0.0547\n",
      "[Batch 8430] Train loss: 0.0355 | Valid loss: 0.3686\n",
      "[Batch 8440] Train loss: 0.1042 | Valid loss: 0.0450\n",
      "[Batch 8450] Train loss: 0.2759 | Valid loss: 0.0787\n",
      "[Batch 8460] Train loss: 0.0716 | Valid loss: 0.0526\n",
      "[Batch 8470] Train loss: 0.0516 | Valid loss: 0.1682\n",
      "[Batch 8480] Train loss: 0.3518 | Valid loss: 0.0353\n",
      "[Batch 8490] Train loss: 0.0699 | Valid loss: 0.1281\n",
      "[Batch 8500] Train loss: 0.0115 | Valid loss: 0.4596\n",
      "[Batch 8510] Train loss: 0.3183 | Valid loss: 0.0613\n",
      "[Batch 8520] Train loss: 0.0684 | Valid loss: 0.1809\n",
      "[Batch 8530] Train loss: 0.0383 | Valid loss: 0.2272\n",
      "[Batch 8540] Train loss: 0.0446 | Valid loss: 0.2850\n",
      "[Batch 8550] Train loss: 1.0935 | Valid loss: 0.0619\n",
      "[Batch 8560] Train loss: 0.0757 | Valid loss: 0.2104\n",
      "[Batch 8570] Train loss: 0.1483 | Valid loss: 0.1879\n",
      "[Batch 8580] Train loss: 0.0560 | Valid loss: 0.0888\n",
      "[Batch 8590] Train loss: 0.1742 | Valid loss: 0.1294\n",
      "[Batch 8600] Train loss: 0.0639 | Valid loss: 0.1685\n",
      "[Batch 8610] Train loss: 0.0856 | Valid loss: 0.1088\n",
      "[Batch 8620] Train loss: 0.0486 | Valid loss: 0.1043\n",
      "[Batch 8630] Train loss: 0.1197 | Valid loss: 0.2563\n",
      "[Batch 8640] Train loss: 0.0462 | Valid loss: 0.0952\n",
      "[Batch 8650] Train loss: 0.1016 | Valid loss: 0.0530\n",
      "[Batch 8660] Train loss: 0.0103 | Valid loss: 0.1692\n",
      "[Batch 8670] Train loss: 0.2007 | Valid loss: 0.1062\n",
      "[Batch 8680] Train loss: 0.2024 | Valid loss: 0.0473\n",
      "[Batch 8690] Train loss: 0.0466 | Valid loss: 0.2424\n",
      "[Batch 8700] Train loss: 0.0955 | Valid loss: 0.0830\n",
      "[Batch 8710] Train loss: 0.3434 | Valid loss: 0.2870\n",
      "[Batch 8720] Train loss: 0.1771 | Valid loss: 0.2304\n",
      "[Batch 8730] Train loss: 0.0428 | Valid loss: 0.1763\n",
      "[Batch 8740] Train loss: 0.0378 | Valid loss: 0.1472\n",
      "[Batch 8750] Train loss: 0.7199 | Valid loss: 0.0494\n",
      "[Batch 8760] Train loss: 0.2914 | Valid loss: 0.1837\n",
      "[Batch 8770] Train loss: 0.0828 | Valid loss: 0.0618\n",
      "[Batch 8780] Train loss: 0.1117 | Valid loss: 0.3802\n",
      "[Batch 8790] Train loss: 0.1110 | Valid loss: 1.3693\n",
      "[Batch 8800] Train loss: 0.0861 | Valid loss: 0.1603\n",
      "[Batch 8810] Train loss: 0.0110 | Valid loss: 0.0180\n",
      "[Batch 8820] Train loss: 0.1072 | Valid loss: 0.0531\n",
      "[Batch 8830] Train loss: 0.0307 | Valid loss: 0.0366\n",
      "[Batch 8840] Train loss: 0.1343 | Valid loss: 0.1177\n",
      "[Batch 8850] Train loss: 0.0777 | Valid loss: 0.5545\n",
      "[Batch 8860] Train loss: 0.4039 | Valid loss: 0.9274\n",
      "[Batch 8870] Train loss: 0.0233 | Valid loss: 0.4194\n",
      "[Batch 8880] Train loss: 0.3547 | Valid loss: 0.0909\n",
      "[Batch 8890] Train loss: 0.0346 | Valid loss: 0.0771\n",
      "[Batch 8900] Train loss: 0.0826 | Valid loss: 0.0238\n",
      "[Batch 8910] Train loss: 0.0927 | Valid loss: 0.1248\n",
      "[Batch 8920] Train loss: 0.0407 | Valid loss: 0.3207\n",
      "[Batch 8930] Train loss: 0.1241 | Valid loss: 0.1076\n",
      "[Batch 8940] Train loss: 0.0425 | Valid loss: 0.3806\n",
      "[Batch 8950] Train loss: 0.0264 | Valid loss: 0.0798\n",
      "[Batch 8960] Train loss: 0.2101 | Valid loss: 0.2964\n",
      "[Batch 8970] Train loss: 0.1840 | Valid loss: 0.1355\n",
      "[Batch 8980] Train loss: 0.1195 | Valid loss: 0.0205\n",
      "[Batch 8990] Train loss: 0.0368 | Valid loss: 0.0574\n",
      "[Batch 9000] Train loss: 0.0928 | Valid loss: 0.1020\n",
      "Model is saved.\n",
      "[Batch 9010] Train loss: 0.2141 | Valid loss: 0.2901\n",
      "[Batch 9020] Train loss: 0.6250 | Valid loss: 0.0544\n",
      "[Batch 9030] Train loss: 0.0269 | Valid loss: 0.0743\n",
      "[Batch 9040] Train loss: 0.0901 | Valid loss: 0.0730\n",
      "[Batch 9050] Train loss: 0.1273 | Valid loss: 0.0948\n",
      "[Batch 9060] Train loss: 0.0866 | Valid loss: 0.0475\n",
      "[Batch 9070] Train loss: 0.1447 | Valid loss: 0.3824\n",
      "[Batch 9080] Train loss: 0.0735 | Valid loss: 0.1068\n",
      "[Batch 9090] Train loss: 0.2436 | Valid loss: 0.0732\n",
      "[Batch 9100] Train loss: 0.0518 | Valid loss: 0.1013\n",
      "[Batch 9110] Train loss: 0.1306 | Valid loss: 0.1323\n",
      "[Batch 9120] Train loss: 0.1195 | Valid loss: 0.0756\n",
      "[Batch 9130] Train loss: 0.0980 | Valid loss: 0.1252\n",
      "[Batch 9140] Train loss: 0.0918 | Valid loss: 0.0967\n",
      "[Batch 9150] Train loss: 0.1064 | Valid loss: 0.3396\n",
      "[Batch 9160] Train loss: 0.0756 | Valid loss: 0.1862\n",
      "[Batch 9170] Train loss: 0.3078 | Valid loss: 0.1528\n",
      "[Batch 9180] Train loss: 0.1205 | Valid loss: 0.1721\n",
      "[Batch 9190] Train loss: 0.1599 | Valid loss: 0.2427\n",
      "[Batch 9200] Train loss: 0.6519 | Valid loss: 0.1325\n",
      "[Batch 9210] Train loss: 0.0828 | Valid loss: 0.0443\n",
      "[Batch 9220] Train loss: 0.1920 | Valid loss: 0.0547\n",
      "[Batch 9230] Train loss: 0.0751 | Valid loss: 0.0503\n",
      "[Batch 9240] Train loss: 0.0337 | Valid loss: 0.0257\n",
      "[Batch 9250] Train loss: 0.0511 | Valid loss: 0.1690\n",
      "[Batch 9260] Train loss: 0.0899 | Valid loss: 0.0751\n",
      "[Batch 9270] Train loss: 0.0775 | Valid loss: 0.7745\n",
      "[Batch 9280] Train loss: 0.3500 | Valid loss: 0.2667\n",
      "[Batch 9290] Train loss: 0.0445 | Valid loss: 0.0612\n",
      "[Batch 9300] Train loss: 0.2246 | Valid loss: 0.0420\n",
      "[Batch 9310] Train loss: 0.1220 | Valid loss: 0.1185\n",
      "[Batch 9320] Train loss: 0.2936 | Valid loss: 0.0655\n",
      "[Batch 9330] Train loss: 0.0414 | Valid loss: 0.0544\n",
      "[Batch 9340] Train loss: 0.0991 | Valid loss: 0.0224\n",
      "[Batch 9350] Train loss: 0.1274 | Valid loss: 0.4851\n",
      "[Batch 9360] Train loss: 0.0808 | Valid loss: 0.2623\n",
      "[Batch 9370] Train loss: 0.2349 | Valid loss: 0.2208\n",
      "[Batch 9380] Train loss: 0.0743 | Valid loss: 0.0167\n",
      "[Batch 9390] Train loss: 0.0952 | Valid loss: 0.0598\n",
      "[Batch 9400] Train loss: 0.0736 | Valid loss: 0.1340\n",
      "[Batch 9410] Train loss: 0.0337 | Valid loss: 0.1248\n",
      "[Batch 9420] Train loss: 0.0458 | Valid loss: 0.8139\n",
      "[Batch 9430] Train loss: 0.0468 | Valid loss: 0.0901\n",
      "[Batch 9440] Train loss: 0.0748 | Valid loss: 0.2485\n",
      "[Batch 9450] Train loss: 0.0881 | Valid loss: 0.0527\n",
      "[Batch 9460] Train loss: 0.0711 | Valid loss: 0.0200\n",
      "[Batch 9470] Train loss: 0.0517 | Valid loss: 0.2498\n",
      "[Batch 9480] Train loss: 0.0500 | Valid loss: 0.0631\n",
      "[Batch 9490] Train loss: 0.0233 | Valid loss: 0.0374\n",
      "[Batch 9500] Train loss: 0.0430 | Valid loss: 0.0418\n",
      "[Batch 9510] Train loss: 0.2669 | Valid loss: 0.0266\n",
      "[Batch 9520] Train loss: 0.3420 | Valid loss: 0.0557\n",
      "[Batch 9530] Train loss: 0.1094 | Valid loss: 0.0520\n",
      "[Batch 9540] Train loss: 0.1007 | Valid loss: 0.2207\n",
      "[Batch 9550] Train loss: 0.0462 | Valid loss: 0.0747\n",
      "[Batch 9560] Train loss: 0.1308 | Valid loss: 0.0847\n",
      "[Batch 9570] Train loss: 0.0997 | Valid loss: 0.0549\n",
      "[Batch 9580] Train loss: 0.1324 | Valid loss: 0.1448\n",
      "[Batch 9590] Train loss: 0.2155 | Valid loss: 0.1133\n",
      "[Batch 9600] Train loss: 0.3093 | Valid loss: 0.1765\n",
      "[Batch 9610] Train loss: 0.1712 | Valid loss: 0.0900\n",
      "[Batch 9620] Train loss: 0.0284 | Valid loss: 0.0751\n",
      "[Batch 9630] Train loss: 0.0358 | Valid loss: 0.3020\n",
      "[Batch 9640] Train loss: 0.1360 | Valid loss: 0.0382\n",
      "[Batch 9650] Train loss: 0.0567 | Valid loss: 0.0555\n",
      "[Batch 9660] Train loss: 0.0990 | Valid loss: 0.3967\n",
      "[Batch 9670] Train loss: 0.0534 | Valid loss: 0.1187\n",
      "[Batch 9680] Train loss: 0.1587 | Valid loss: 0.1532\n",
      "[Batch 9690] Train loss: 0.2496 | Valid loss: 0.1810\n",
      "[Batch 9700] Train loss: 0.0457 | Valid loss: 0.1561\n",
      "[Batch 9710] Train loss: 0.0086 | Valid loss: 0.0158\n",
      "[Batch 9720] Train loss: 0.0899 | Valid loss: 0.4099\n",
      "[Batch 9730] Train loss: 0.0228 | Valid loss: 0.0321\n",
      "[Batch 9740] Train loss: 0.0793 | Valid loss: 0.0714\n",
      "[Batch 9750] Train loss: 0.0701 | Valid loss: 0.0318\n",
      "[Batch 9760] Train loss: 0.1692 | Valid loss: 0.3186\n",
      "[Batch 9770] Train loss: 0.0976 | Valid loss: 0.1601\n",
      "[Batch 9780] Train loss: 0.0683 | Valid loss: 0.2199\n",
      "[Batch 9790] Train loss: 0.2562 | Valid loss: 0.1281\n",
      "[Batch 9800] Train loss: 0.0273 | Valid loss: 0.0529\n",
      "[Batch 9810] Train loss: 0.1293 | Valid loss: 0.1035\n",
      "[Batch 9820] Train loss: 0.0494 | Valid loss: 0.1259\n",
      "[Batch 9830] Train loss: 0.0644 | Valid loss: 0.2527\n",
      "[Batch 9840] Train loss: 0.1030 | Valid loss: 0.2222\n",
      "[Batch 9850] Train loss: 0.1324 | Valid loss: 0.2231\n",
      "[Batch 9860] Train loss: 0.3832 | Valid loss: 0.2396\n",
      "[Batch 9870] Train loss: 0.0871 | Valid loss: 0.0368\n",
      "[Batch 9880] Train loss: 0.3282 | Valid loss: 0.0423\n",
      "[Batch 9890] Train loss: 0.1030 | Valid loss: 0.0890\n",
      "[Batch 9900] Train loss: 0.0793 | Valid loss: 0.0953\n",
      "[Batch 9910] Train loss: 0.1006 | Valid loss: 0.0342\n",
      "[Batch 9920] Train loss: 0.0501 | Valid loss: 0.2040\n",
      "[Batch 9930] Train loss: 0.0391 | Valid loss: 0.0683\n",
      "[Batch 9940] Train loss: 0.0562 | Valid loss: 0.1687\n",
      "[Batch 9950] Train loss: 0.5676 | Valid loss: 0.1812\n",
      "[Batch 9960] Train loss: 0.1315 | Valid loss: 0.1408\n",
      "[Batch 9970] Train loss: 0.0328 | Valid loss: 0.0578\n",
      "[Batch 9980] Train loss: 0.0130 | Valid loss: 0.0200\n",
      "[Batch 9990] Train loss: 0.0188 | Valid loss: 0.3532\n",
      "[Batch 10000] Train loss: 0.0933 | Valid loss: 0.6091\n",
      "Model is saved.\n",
      "[Batch 10010] Train loss: 0.0362 | Valid loss: 0.0811\n",
      "[Batch 10020] Train loss: 0.1230 | Valid loss: 0.0303\n",
      "[Batch 10030] Train loss: 0.7598 | Valid loss: 0.1002\n",
      "[Batch 10040] Train loss: 0.5408 | Valid loss: 0.0353\n",
      "[Batch 10050] Train loss: 0.0186 | Valid loss: 0.0739\n",
      "[Batch 10060] Train loss: 0.1972 | Valid loss: 0.0622\n",
      "[Batch 10070] Train loss: 0.1733 | Valid loss: 0.0727\n",
      "[Batch 10080] Train loss: 0.0399 | Valid loss: 0.1678\n",
      "[Batch 10090] Train loss: 0.1692 | Valid loss: 0.1736\n",
      "[Batch 10100] Train loss: 0.1114 | Valid loss: 0.0443\n",
      "[Batch 10110] Train loss: 0.0371 | Valid loss: 0.6266\n",
      "[Batch 10120] Train loss: 0.0359 | Valid loss: 0.4530\n",
      "[Batch 10130] Train loss: 0.1747 | Valid loss: 0.0628\n",
      "[Batch 10140] Train loss: 0.1440 | Valid loss: 0.0364\n",
      "[Batch 10150] Train loss: 0.2209 | Valid loss: 0.1160\n",
      "[Batch 10160] Train loss: 0.0271 | Valid loss: 0.1183\n",
      "[Batch 10170] Train loss: 0.2502 | Valid loss: 0.0751\n",
      "[Batch 10180] Train loss: 0.1194 | Valid loss: 0.3453\n",
      "[Batch 10190] Train loss: 0.0933 | Valid loss: 0.0319\n",
      "[Batch 10200] Train loss: 0.1297 | Valid loss: 0.1239\n",
      "[Batch 10210] Train loss: 0.0753 | Valid loss: 0.0521\n",
      "[Batch 10220] Train loss: 0.0272 | Valid loss: 0.0616\n",
      "[Batch 10230] Train loss: 0.3490 | Valid loss: 0.0372\n",
      "[Batch 10240] Train loss: 0.0373 | Valid loss: 0.3035\n",
      "[Batch 10250] Train loss: 0.0464 | Valid loss: 0.4226\n",
      "[Batch 10260] Train loss: 0.0693 | Valid loss: 0.0654\n",
      "[Batch 10270] Train loss: 0.2447 | Valid loss: 0.0260\n",
      "[Batch 10280] Train loss: 0.0428 | Valid loss: 0.1756\n",
      "[Batch 10290] Train loss: 1.2828 | Valid loss: 0.0306\n",
      "[Batch 10300] Train loss: 0.2036 | Valid loss: 0.1294\n",
      "[Batch 10310] Train loss: 0.0557 | Valid loss: 0.0557\n",
      "[Batch 10320] Train loss: 0.0380 | Valid loss: 0.1504\n",
      "[Batch 10330] Train loss: 0.0630 | Valid loss: 0.2455\n",
      "[Batch 10340] Train loss: 0.0445 | Valid loss: 0.0685\n",
      "[Batch 10350] Train loss: 0.0480 | Valid loss: 0.0450\n",
      "[Batch 10360] Train loss: 0.0402 | Valid loss: 0.0628\n",
      "[Batch 10370] Train loss: 0.2599 | Valid loss: 0.0754\n",
      "[Batch 10380] Train loss: 0.1294 | Valid loss: 0.0270\n",
      "[Batch 10390] Train loss: 0.2159 | Valid loss: 0.0178\n",
      "[Batch 10400] Train loss: 0.3020 | Valid loss: 0.1497\n",
      "[Batch 10410] Train loss: 0.1241 | Valid loss: 0.2079\n",
      "[Batch 10420] Train loss: 0.0384 | Valid loss: 0.0345\n",
      "[Batch 10430] Train loss: 0.1127 | Valid loss: 0.0477\n",
      "[Batch 10440] Train loss: 0.1086 | Valid loss: 0.4038\n",
      "[Batch 10450] Train loss: 0.0451 | Valid loss: 0.0494\n",
      "[Batch 10460] Train loss: 0.0574 | Valid loss: 0.0450\n",
      "[Batch 10470] Train loss: 0.0726 | Valid loss: 0.0794\n",
      "[Batch 10480] Train loss: 0.0672 | Valid loss: 0.2844\n",
      "[Batch 10490] Train loss: 0.2817 | Valid loss: 0.0320\n",
      "[Batch 10500] Train loss: 0.1307 | Valid loss: 0.0568\n",
      "[Batch 10510] Train loss: 0.0352 | Valid loss: 0.2357\n",
      "[Batch 10520] Train loss: 0.0724 | Valid loss: 0.3363\n",
      "[Batch 10530] Train loss: 0.0456 | Valid loss: 0.1271\n",
      "[Batch 10540] Train loss: 0.1091 | Valid loss: 0.3732\n",
      "[Batch 10550] Train loss: 0.1779 | Valid loss: 0.0740\n",
      "[Batch 10560] Train loss: 0.1332 | Valid loss: 0.2884\n",
      "[Batch 10570] Train loss: 0.0844 | Valid loss: 0.1999\n",
      "[Batch 10580] Train loss: 0.2642 | Valid loss: 0.3135\n",
      "[Batch 10590] Train loss: 0.0915 | Valid loss: 0.0128\n",
      "[Batch 10600] Train loss: 0.0439 | Valid loss: 0.3516\n",
      "[Batch 10610] Train loss: 0.2442 | Valid loss: 0.0584\n",
      "[Batch 10620] Train loss: 0.0725 | Valid loss: 0.3538\n",
      "[Batch 10630] Train loss: 0.0818 | Valid loss: 0.0668\n",
      "[Batch 10640] Train loss: 0.0764 | Valid loss: 0.0572\n",
      "[Batch 10650] Train loss: 0.0898 | Valid loss: 0.0292\n",
      "[Batch 10660] Train loss: 0.0659 | Valid loss: 0.0806\n",
      "[Batch 10670] Train loss: 0.6988 | Valid loss: 0.0312\n",
      "[Batch 10680] Train loss: 0.0697 | Valid loss: 0.0760\n",
      "[Batch 10690] Train loss: 0.0429 | Valid loss: 0.0664\n",
      "[Batch 10700] Train loss: 0.0183 | Valid loss: 0.0388\n",
      "[Batch 10710] Train loss: 0.4969 | Valid loss: 0.0433\n",
      "[Batch 10720] Train loss: 0.0848 | Valid loss: 0.3007\n",
      "[Batch 10730] Train loss: 0.0615 | Valid loss: 0.0617\n",
      "[Batch 10740] Train loss: 0.7319 | Valid loss: 0.0392\n",
      "[Batch 10750] Train loss: 0.0699 | Valid loss: 0.2244\n",
      "[Batch 10760] Train loss: 0.0683 | Valid loss: 0.3158\n",
      "[Batch 10770] Train loss: 0.0729 | Valid loss: 0.0811\n",
      "[Batch 10780] Train loss: 0.0438 | Valid loss: 0.0310\n",
      "[Batch 10790] Train loss: 0.0289 | Valid loss: 0.0662\n",
      "[Batch 10800] Train loss: 0.1092 | Valid loss: 0.0339\n",
      "[Batch 10810] Train loss: 0.1069 | Valid loss: 0.1068\n",
      "[Batch 10820] Train loss: 0.0559 | Valid loss: 0.2189\n",
      "[Batch 10830] Train loss: 0.0345 | Valid loss: 0.0462\n",
      "[Batch 10840] Train loss: 0.0298 | Valid loss: 0.9238\n",
      "[Batch 10850] Train loss: 0.0596 | Valid loss: 0.1082\n",
      "[Batch 10860] Train loss: 0.2083 | Valid loss: 0.1174\n",
      "[Batch 10870] Train loss: 0.0249 | Valid loss: 0.0132\n",
      "[Batch 10880] Train loss: 0.0836 | Valid loss: 0.1451\n",
      "[Batch 10890] Train loss: 0.0834 | Valid loss: 0.1706\n",
      "[Batch 10900] Train loss: 0.1394 | Valid loss: 0.0421\n",
      "[Batch 10910] Train loss: 0.1532 | Valid loss: 0.3166\n",
      "[Batch 10920] Train loss: 0.0945 | Valid loss: 0.4786\n",
      "[Batch 10930] Train loss: 0.2296 | Valid loss: 0.1148\n",
      "[Batch 10940] Train loss: 0.1834 | Valid loss: 0.0384\n",
      "[Batch 10950] Train loss: 0.2208 | Valid loss: 0.2858\n",
      "[Batch 10960] Train loss: 0.4679 | Valid loss: 0.0428\n",
      "[Batch 10970] Train loss: 0.0320 | Valid loss: 0.8228\n",
      "[Batch 10980] Train loss: 0.1039 | Valid loss: 0.1866\n",
      "[Batch 10990] Train loss: 0.0940 | Valid loss: 0.1262\n",
      "[Batch 11000] Train loss: 0.0638 | Valid loss: 0.0874\n",
      "Model is saved.\n",
      "[Batch 11010] Train loss: 0.0766 | Valid loss: 0.0525\n",
      "[Batch 11020] Train loss: 0.1665 | Valid loss: 0.0930\n",
      "[Batch 11030] Train loss: 0.0571 | Valid loss: 0.0719\n",
      "[Batch 11040] Train loss: 0.0304 | Valid loss: 0.1885\n",
      "[Batch 11050] Train loss: 0.0356 | Valid loss: 0.2726\n",
      "[Batch 11060] Train loss: 0.5668 | Valid loss: 0.0779\n",
      "[Batch 11070] Train loss: 0.1997 | Valid loss: 0.0069\n",
      "[Batch 11080] Train loss: 0.0340 | Valid loss: 0.2254\n",
      "[Batch 11090] Train loss: 0.0987 | Valid loss: 0.0767\n",
      "[Batch 11100] Train loss: 0.1723 | Valid loss: 0.1154\n",
      "[Batch 11110] Train loss: 0.0555 | Valid loss: 0.1613\n",
      "[Batch 11120] Train loss: 0.2276 | Valid loss: 0.1201\n",
      "[Batch 11130] Train loss: 0.0474 | Valid loss: 0.1261\n",
      "[Batch 11140] Train loss: 0.0525 | Valid loss: 0.0464\n",
      "[Batch 11150] Train loss: 0.0545 | Valid loss: 0.1282\n",
      "[Batch 11160] Train loss: 0.1069 | Valid loss: 0.0334\n",
      "[Batch 11170] Train loss: 0.1144 | Valid loss: 0.1916\n",
      "[Batch 11180] Train loss: 0.1036 | Valid loss: 0.1479\n",
      "[Batch 11190] Train loss: 0.1091 | Valid loss: 0.4079\n",
      "[Batch 11200] Train loss: 0.0470 | Valid loss: 0.0417\n",
      "[Batch 11210] Train loss: 0.1602 | Valid loss: 0.5460\n",
      "[Batch 11220] Train loss: 0.0561 | Valid loss: 0.1947\n",
      "[Batch 11230] Train loss: 0.0147 | Valid loss: 0.1834\n",
      "[Batch 11240] Train loss: 0.5661 | Valid loss: 0.0100\n",
      "[Batch 11250] Train loss: 0.0161 | Valid loss: 0.0481\n",
      "[Batch 11260] Train loss: 0.1997 | Valid loss: 0.4861\n",
      "[Batch 11270] Train loss: 0.0367 | Valid loss: 0.2044\n",
      "[Batch 11280] Train loss: 0.0715 | Valid loss: 0.2015\n",
      "[Batch 11290] Train loss: 0.0719 | Valid loss: 0.2169\n",
      "[Batch 11300] Train loss: 0.0526 | Valid loss: 0.0708\n",
      "[Batch 11310] Train loss: 0.2029 | Valid loss: 0.1091\n",
      "[Batch 11320] Train loss: 0.0637 | Valid loss: 0.0225\n",
      "[Batch 11330] Train loss: 0.2408 | Valid loss: 0.0230\n",
      "[Batch 11340] Train loss: 0.1432 | Valid loss: 0.2207\n",
      "[Batch 11350] Train loss: 0.1819 | Valid loss: 0.0177\n",
      "[Batch 11360] Train loss: 0.0835 | Valid loss: 0.1007\n",
      "[Batch 11370] Train loss: 0.3139 | Valid loss: 0.0896\n",
      "[Batch 11380] Train loss: 0.1459 | Valid loss: 0.1524\n",
      "[Batch 11390] Train loss: 0.0202 | Valid loss: 0.0352\n",
      "[Batch 11400] Train loss: 0.0209 | Valid loss: 0.1312\n",
      "[Batch 11410] Train loss: 0.1076 | Valid loss: 0.0388\n",
      "[Batch 11420] Train loss: 0.8633 | Valid loss: 0.0121\n",
      "[Batch 11430] Train loss: 0.3532 | Valid loss: 0.0685\n",
      "[Batch 11440] Train loss: 0.0208 | Valid loss: 0.0704\n",
      "[Batch 11450] Train loss: 0.1695 | Valid loss: 0.1272\n",
      "[Batch 11460] Train loss: 0.1623 | Valid loss: 0.0532\n",
      "[Batch 11470] Train loss: 0.0643 | Valid loss: 0.1696\n",
      "[Batch 11480] Train loss: 0.0459 | Valid loss: 0.2884\n",
      "[Batch 11490] Train loss: 0.1102 | Valid loss: 0.2539\n",
      "[Batch 11500] Train loss: 0.0423 | Valid loss: 0.3452\n",
      "[Batch 11510] Train loss: 0.0441 | Valid loss: 0.0484\n",
      "[Batch 11520] Train loss: 0.0783 | Valid loss: 0.0294\n",
      "[Batch 11530] Train loss: 0.1445 | Valid loss: 0.0390\n",
      "[Batch 11540] Train loss: 0.0311 | Valid loss: 0.3418\n",
      "[Batch 11550] Train loss: 0.0470 | Valid loss: 0.0961\n",
      "[Batch 11560] Train loss: 0.0697 | Valid loss: 0.0269\n",
      "[Batch 11570] Train loss: 0.1654 | Valid loss: 0.0331\n",
      "[Batch 11580] Train loss: 0.0349 | Valid loss: 0.1049\n",
      "[Batch 11590] Train loss: 0.0324 | Valid loss: 0.0858\n",
      "[Batch 11600] Train loss: 0.0262 | Valid loss: 0.0565\n",
      "[Batch 11610] Train loss: 0.0945 | Valid loss: 0.1902\n",
      "[Batch 11620] Train loss: 0.3007 | Valid loss: 0.2084\n",
      "[Batch 11630] Train loss: 0.0553 | Valid loss: 0.0881\n",
      "[Batch 11640] Train loss: 0.2321 | Valid loss: 0.0534\n",
      "[Batch 11650] Train loss: 0.0812 | Valid loss: 0.1318\n",
      "[Batch 11660] Train loss: 0.1001 | Valid loss: 0.0865\n",
      "[Batch 11670] Train loss: 0.0247 | Valid loss: 0.0241\n",
      "[Batch 11680] Train loss: 0.1636 | Valid loss: 0.1486\n",
      "[Batch 11690] Train loss: 0.0882 | Valid loss: 0.0204\n",
      "[Batch 11700] Train loss: 0.1245 | Valid loss: 0.1001\n",
      "[Batch 11710] Train loss: 0.0782 | Valid loss: 0.1109\n",
      "[Batch 11720] Train loss: 0.1624 | Valid loss: 0.1355\n",
      "[Batch 11730] Train loss: 0.0703 | Valid loss: 0.0452\n",
      "[Batch 11740] Train loss: 0.4142 | Valid loss: 0.2331\n",
      "[Batch 11750] Train loss: 0.0328 | Valid loss: 0.1298\n",
      "[Batch 11760] Train loss: 0.0299 | Valid loss: 0.0414\n",
      "[Batch 11770] Train loss: 0.0415 | Valid loss: 0.0798\n",
      "[Batch 11780] Train loss: 0.0529 | Valid loss: 0.0788\n",
      "[Batch 11790] Train loss: 0.0327 | Valid loss: 0.0691\n",
      "[Batch 11800] Train loss: 0.0160 | Valid loss: 0.0251\n",
      "[Batch 11810] Train loss: 0.1951 | Valid loss: 0.1737\n",
      "[Batch 11820] Train loss: 0.0596 | Valid loss: 0.0921\n",
      "[Batch 11830] Train loss: 0.1424 | Valid loss: 0.2296\n",
      "[Batch 11840] Train loss: 0.0535 | Valid loss: 0.0738\n",
      "[Batch 11850] Train loss: 0.0324 | Valid loss: 0.5986\n",
      "[Batch 11860] Train loss: 0.1949 | Valid loss: 0.2550\n",
      "[Batch 11870] Train loss: 0.2130 | Valid loss: 0.3474\n",
      "[Batch 11880] Train loss: 0.0562 | Valid loss: 0.0617\n",
      "[Batch 11890] Train loss: 0.2363 | Valid loss: 0.0479\n",
      "[Batch 11900] Train loss: 0.0520 | Valid loss: 0.0530\n",
      "[Batch 11910] Train loss: 0.0273 | Valid loss: 0.1441\n",
      "[Batch 11920] Train loss: 0.0760 | Valid loss: 0.1596\n",
      "[Batch 11930] Train loss: 0.0681 | Valid loss: 0.0188\n",
      "[Batch 11940] Train loss: 0.4133 | Valid loss: 0.0318\n",
      "[Batch 11950] Train loss: 0.3531 | Valid loss: 0.5355\n",
      "[Batch 11960] Train loss: 0.0916 | Valid loss: 0.0473\n",
      "[Batch 11970] Train loss: 0.0633 | Valid loss: 0.1558\n",
      "[Batch 11980] Train loss: 0.0328 | Valid loss: 0.1896\n",
      "[Batch 11990] Train loss: 0.0813 | Valid loss: 0.0790\n",
      "[Batch 12000] Train loss: 0.1353 | Valid loss: 0.0135\n",
      "Model is saved.\n",
      "[Batch 12010] Train loss: 0.0493 | Valid loss: 0.1879\n",
      "[Batch 12020] Train loss: 0.0319 | Valid loss: 0.1021\n",
      "[Batch 12030] Train loss: 0.0254 | Valid loss: 0.0437\n",
      "[Batch 12040] Train loss: 0.0358 | Valid loss: 0.1100\n",
      "[Batch 12050] Train loss: 0.0884 | Valid loss: 0.0801\n",
      "[Batch 12060] Train loss: 0.2846 | Valid loss: 0.0532\n",
      "[Batch 12070] Train loss: 0.0117 | Valid loss: 0.0390\n",
      "[Batch 12080] Train loss: 0.2735 | Valid loss: 0.1195\n",
      "[Batch 12090] Train loss: 0.0573 | Valid loss: 0.0778\n",
      "[Batch 12100] Train loss: 0.1243 | Valid loss: 0.0469\n",
      "[Batch 12110] Train loss: 0.0836 | Valid loss: 0.0304\n",
      "[Batch 12120] Train loss: 0.1150 | Valid loss: 0.0755\n",
      "[Batch 12130] Train loss: 0.0265 | Valid loss: 0.0845\n",
      "[Batch 12140] Train loss: 0.0599 | Valid loss: 0.0253\n",
      "[Batch 12150] Train loss: 0.0478 | Valid loss: 0.1248\n",
      "[Batch 12160] Train loss: 0.1685 | Valid loss: 0.1321\n",
      "[Batch 12170] Train loss: 0.1123 | Valid loss: 0.1035\n",
      "[Batch 12180] Train loss: 0.3899 | Valid loss: 0.0180\n",
      "[Batch 12190] Train loss: 0.0588 | Valid loss: 0.0459\n",
      "[Batch 12200] Train loss: 0.0587 | Valid loss: 0.0276\n",
      "[Batch 12210] Train loss: 0.0520 | Valid loss: 0.0462\n",
      "[Batch 12220] Train loss: 0.0690 | Valid loss: 0.0838\n",
      "[Batch 12230] Train loss: 0.0288 | Valid loss: 0.3417\n",
      "[Batch 12240] Train loss: 0.0590 | Valid loss: 0.0988\n",
      "[Batch 12250] Train loss: 0.0766 | Valid loss: 0.0260\n",
      "[Batch 12260] Train loss: 0.0803 | Valid loss: 0.1769\n",
      "[Batch 12270] Train loss: 0.0589 | Valid loss: 0.0929\n",
      "[Batch 12280] Train loss: 0.3247 | Valid loss: 0.0814\n",
      "[Batch 12290] Train loss: 0.0531 | Valid loss: 0.0433\n",
      "[Batch 12300] Train loss: 0.0545 | Valid loss: 0.1529\n",
      "[Batch 12310] Train loss: 0.0753 | Valid loss: 0.0351\n",
      "[Batch 12320] Train loss: 0.0996 | Valid loss: 0.1744\n",
      "[Batch 12330] Train loss: 0.1813 | Valid loss: 0.0284\n",
      "[Batch 12340] Train loss: 0.0381 | Valid loss: 0.0714\n",
      "[Batch 12350] Train loss: 0.0586 | Valid loss: 0.0679\n",
      "[Batch 12360] Train loss: 0.2039 | Valid loss: 0.0415\n",
      "[Batch 12370] Train loss: 0.1161 | Valid loss: 0.0432\n",
      "[Batch 12380] Train loss: 0.1671 | Valid loss: 0.2238\n",
      "[Batch 12390] Train loss: 0.0804 | Valid loss: 0.0285\n",
      "[Batch 12400] Train loss: 0.0300 | Valid loss: 0.0471\n",
      "[Batch 12410] Train loss: 0.0387 | Valid loss: 0.0892\n",
      "[Batch 12420] Train loss: 0.0538 | Valid loss: 0.1974\n",
      "[Batch 12430] Train loss: 0.0561 | Valid loss: 0.1663\n",
      "[Batch 12440] Train loss: 0.0707 | Valid loss: 0.0131\n",
      "[Batch 12450] Train loss: 0.0683 | Valid loss: 0.0790\n",
      "[Batch 12460] Train loss: 0.1676 | Valid loss: 0.0570\n",
      "[Batch 12470] Train loss: 0.0287 | Valid loss: 0.0566\n",
      "[Batch 12480] Train loss: 0.0384 | Valid loss: 0.0410\n",
      "[Batch 12490] Train loss: 0.3555 | Valid loss: 1.0017\n",
      "[Batch 12500] Train loss: 0.0686 | Valid loss: 0.1938\n",
      "[Batch 12510] Train loss: 0.2524 | Valid loss: 0.2386\n",
      "[Batch 12520] Train loss: 0.0713 | Valid loss: 0.1554\n",
      "[Batch 12530] Train loss: 0.0812 | Valid loss: 0.0303\n",
      "[Batch 12540] Train loss: 0.0955 | Valid loss: 0.0534\n",
      "[Batch 12550] Train loss: 0.0859 | Valid loss: 0.0717\n",
      "[Batch 12560] Train loss: 0.2326 | Valid loss: 0.1193\n",
      "[Batch 12570] Train loss: 0.0540 | Valid loss: 0.0204\n",
      "[Batch 12580] Train loss: 0.0852 | Valid loss: 0.0240\n",
      "[Batch 12590] Train loss: 0.2658 | Valid loss: 0.3256\n",
      "[Batch 12600] Train loss: 0.3377 | Valid loss: 0.0268\n",
      "[Batch 12610] Train loss: 0.0436 | Valid loss: 0.1426\n",
      "[Batch 12620] Train loss: 0.0503 | Valid loss: 0.0297\n",
      "[Batch 12630] Train loss: 0.0764 | Valid loss: 0.1437\n",
      "[Batch 12640] Train loss: 0.0611 | Valid loss: 0.0638\n",
      "[Batch 12650] Train loss: 0.1332 | Valid loss: 0.0569\n",
      "[Batch 12660] Train loss: 0.0475 | Valid loss: 0.0505\n",
      "[Batch 12670] Train loss: 0.0183 | Valid loss: 0.0184\n",
      "[Batch 12680] Train loss: 0.2518 | Valid loss: 0.0591\n",
      "[Batch 12690] Train loss: 0.0301 | Valid loss: 0.0662\n",
      "[Batch 12700] Train loss: 0.4514 | Valid loss: 0.1049\n",
      "[Batch 12710] Train loss: 0.3413 | Valid loss: 0.0849\n",
      "[Batch 12720] Train loss: 0.0478 | Valid loss: 0.0330\n",
      "[Batch 12730] Train loss: 0.1157 | Valid loss: 0.1613\n",
      "[Batch 12740] Train loss: 0.0492 | Valid loss: 1.2435\n",
      "[Batch 12750] Train loss: 0.0758 | Valid loss: 0.0429\n",
      "[Batch 12760] Train loss: 0.0327 | Valid loss: 0.3641\n",
      "[Batch 12770] Train loss: 0.0513 | Valid loss: 0.0215\n",
      "[Batch 12780] Train loss: 0.1245 | Valid loss: 0.0546\n",
      "[Batch 12790] Train loss: 0.1609 | Valid loss: 0.5266\n",
      "[Batch 12800] Train loss: 0.0419 | Valid loss: 0.2035\n",
      "[Batch 12810] Train loss: 0.3389 | Valid loss: 0.0659\n",
      "[Batch 12820] Train loss: 0.0394 | Valid loss: 0.1483\n",
      "[Batch 12830] Train loss: 0.0576 | Valid loss: 0.1274\n",
      "[Batch 12840] Train loss: 0.0625 | Valid loss: 0.0563\n",
      "[Batch 12850] Train loss: 0.0530 | Valid loss: 0.0812\n",
      "[Batch 12860] Train loss: 0.0347 | Valid loss: 0.0566\n",
      "[Batch 12870] Train loss: 0.2353 | Valid loss: 0.0177\n",
      "[Batch 12880] Train loss: 0.0187 | Valid loss: 0.0498\n",
      "[Batch 12890] Train loss: 0.0244 | Valid loss: 1.2958\n",
      "[Batch 12900] Train loss: 0.0490 | Valid loss: 0.1682\n",
      "[Batch 12910] Train loss: 0.0971 | Valid loss: 0.1094\n",
      "[Batch 12920] Train loss: 0.0649 | Valid loss: 0.0495\n",
      "[Batch 12930] Train loss: 0.0638 | Valid loss: 0.1267\n",
      "[Batch 12940] Train loss: 0.0543 | Valid loss: 0.1880\n",
      "[Batch 12950] Train loss: 0.0411 | Valid loss: 0.6095\n",
      "[Batch 12960] Train loss: 0.1079 | Valid loss: 0.0334\n",
      "[Batch 12970] Train loss: 0.0414 | Valid loss: 0.1546\n",
      "[Batch 12980] Train loss: 0.0204 | Valid loss: 0.3128\n",
      "[Batch 12990] Train loss: 0.2095 | Valid loss: 0.0826\n",
      "[Batch 13000] Train loss: 0.1082 | Valid loss: 0.0444\n",
      "Model is saved.\n",
      "[Batch 13010] Train loss: 0.0446 | Valid loss: 0.0114\n",
      "[Batch 13020] Train loss: 0.1307 | Valid loss: 0.0206\n",
      "[Batch 13030] Train loss: 0.0895 | Valid loss: 0.3083\n",
      "[Batch 13040] Train loss: 0.0869 | Valid loss: 0.0468\n",
      "[Batch 13050] Train loss: 0.0183 | Valid loss: 0.0136\n",
      "[Batch 13060] Train loss: 0.0250 | Valid loss: 0.0475\n",
      "[Batch 13070] Train loss: 0.0751 | Valid loss: 0.0302\n",
      "[Batch 13080] Train loss: 0.0157 | Valid loss: 0.2677\n",
      "[Batch 13090] Train loss: 0.0861 | Valid loss: 0.2174\n",
      "[Batch 13100] Train loss: 0.2092 | Valid loss: 0.0553\n",
      "[Batch 13110] Train loss: 0.1084 | Valid loss: 0.1986\n",
      "[Batch 13120] Train loss: 0.1526 | Valid loss: 0.6514\n",
      "[Batch 13130] Train loss: 0.0681 | Valid loss: 0.0130\n",
      "[Batch 13140] Train loss: 0.1384 | Valid loss: 0.0411\n",
      "[Batch 13150] Train loss: 0.0145 | Valid loss: 0.1216\n",
      "[Batch 13160] Train loss: 0.0603 | Valid loss: 0.0223\n",
      "[Batch 13170] Train loss: 0.0125 | Valid loss: 0.0090\n",
      "[Batch 13180] Train loss: 0.0692 | Valid loss: 0.0648\n",
      "[Batch 13190] Train loss: 0.2836 | Valid loss: 0.0638\n",
      "[Batch 13200] Train loss: 0.0477 | Valid loss: 0.0884\n",
      "[Batch 13210] Train loss: 0.0927 | Valid loss: 0.0061\n",
      "[Batch 13220] Train loss: 0.0456 | Valid loss: 0.0483\n",
      "[Batch 13230] Train loss: 0.1974 | Valid loss: 0.1110\n",
      "[Batch 13240] Train loss: 0.0181 | Valid loss: 0.1210\n",
      "[Batch 13250] Train loss: 0.0846 | Valid loss: 0.5803\n",
      "[Batch 13260] Train loss: 0.0391 | Valid loss: 0.0296\n",
      "[Batch 13270] Train loss: 0.1336 | Valid loss: 0.0644\n",
      "[Batch 13280] Train loss: 0.0688 | Valid loss: 0.3192\n",
      "[Batch 13290] Train loss: 0.1179 | Valid loss: 0.1167\n",
      "[Batch 13300] Train loss: 0.2378 | Valid loss: 0.0129\n",
      "[Batch 13310] Train loss: 0.1731 | Valid loss: 0.0652\n",
      "[Batch 13320] Train loss: 0.0170 | Valid loss: 0.1314\n",
      "[Batch 13330] Train loss: 0.1084 | Valid loss: 0.0189\n",
      "[Batch 13340] Train loss: 0.0985 | Valid loss: 0.0813\n",
      "[Batch 13350] Train loss: 0.4795 | Valid loss: 0.0644\n",
      "[Batch 13360] Train loss: 0.2200 | Valid loss: 0.0408\n",
      "[Batch 13370] Train loss: 0.5310 | Valid loss: 0.4569\n",
      "[Batch 13380] Train loss: 0.0568 | Valid loss: 0.2293\n",
      "[Batch 13390] Train loss: 0.0176 | Valid loss: 0.5427\n",
      "[Batch 13400] Train loss: 0.1130 | Valid loss: 0.0465\n",
      "[Batch 13410] Train loss: 0.0527 | Valid loss: 0.0815\n",
      "[Batch 13420] Train loss: 0.2389 | Valid loss: 0.2896\n",
      "[Batch 13430] Train loss: 0.0672 | Valid loss: 0.0639\n",
      "[Batch 13440] Train loss: 0.0360 | Valid loss: 0.1985\n",
      "[Batch 13450] Train loss: 0.1350 | Valid loss: 0.1600\n",
      "[Batch 13460] Train loss: 0.0172 | Valid loss: 0.0392\n",
      "[Batch 13470] Train loss: 0.1816 | Valid loss: 0.1698\n",
      "[Batch 13480] Train loss: 0.1272 | Valid loss: 0.0632\n",
      "[Batch 13490] Train loss: 0.0514 | Valid loss: 0.0379\n",
      "[Batch 13500] Train loss: 0.0489 | Valid loss: 0.1847\n",
      "[Batch 13510] Train loss: 0.2126 | Valid loss: 0.0426\n",
      "[Batch 13520] Train loss: 0.0458 | Valid loss: 0.0725\n",
      "[Batch 13530] Train loss: 0.0277 | Valid loss: 0.0650\n",
      "[Batch 13540] Train loss: 0.2342 | Valid loss: 0.0392\n",
      "[Batch 13550] Train loss: 0.0524 | Valid loss: 0.0282\n",
      "[Batch 13560] Train loss: 0.3515 | Valid loss: 0.0418\n",
      "[Batch 13570] Train loss: 0.0748 | Valid loss: 0.3370\n",
      "[Batch 13580] Train loss: 0.5702 | Valid loss: 1.2529\n",
      "[Batch 13590] Train loss: 0.0514 | Valid loss: 0.0495\n",
      "[Batch 13600] Train loss: 0.4711 | Valid loss: 0.0324\n",
      "[Batch 13610] Train loss: 0.0523 | Valid loss: 0.0545\n",
      "[Batch 13620] Train loss: 0.0499 | Valid loss: 0.2247\n",
      "[Batch 13630] Train loss: 0.1170 | Valid loss: 1.3519\n",
      "[Batch 13640] Train loss: 0.1389 | Valid loss: 0.0493\n",
      "[Batch 13650] Train loss: 0.0171 | Valid loss: 0.0600\n",
      "[Batch 13660] Train loss: 0.0094 | Valid loss: 0.0390\n",
      "[Batch 13670] Train loss: 0.1261 | Valid loss: 0.2955\n",
      "[Batch 13680] Train loss: 0.7264 | Valid loss: 0.0809\n",
      "[Batch 13690] Train loss: 0.2188 | Valid loss: 0.0888\n",
      "[Batch 13700] Train loss: 0.1022 | Valid loss: 0.0440\n",
      "[Batch 13710] Train loss: 0.0058 | Valid loss: 0.0258\n",
      "[Batch 13720] Train loss: 0.1331 | Valid loss: 0.1803\n",
      "[Batch 13730] Train loss: 0.0741 | Valid loss: 0.1098\n",
      "[Batch 13740] Train loss: 0.2513 | Valid loss: 0.0744\n",
      "[Batch 13750] Train loss: 0.1425 | Valid loss: 0.1470\n",
      "[Batch 13760] Train loss: 0.2907 | Valid loss: 0.1173\n",
      "[Batch 13770] Train loss: 0.1729 | Valid loss: 0.1109\n",
      "[Batch 13780] Train loss: 0.0357 | Valid loss: 0.0666\n",
      "[Batch 13790] Train loss: 0.0510 | Valid loss: 0.0290\n",
      "[Batch 13800] Train loss: 0.1413 | Valid loss: 0.0756\n",
      "[Batch 13810] Train loss: 0.0171 | Valid loss: 0.3480\n",
      "[Batch 13820] Train loss: 0.1056 | Valid loss: 0.2898\n",
      "[Batch 13830] Train loss: 0.0332 | Valid loss: 0.0549\n",
      "[Batch 13840] Train loss: 0.0755 | Valid loss: 0.1164\n",
      "[Batch 13850] Train loss: 0.0273 | Valid loss: 0.0226\n",
      "[Batch 13860] Train loss: 0.0362 | Valid loss: 0.1329\n",
      "[Batch 13870] Train loss: 0.0595 | Valid loss: 0.2251\n",
      "[Batch 13880] Train loss: 0.4478 | Valid loss: 0.0329\n",
      "[Batch 13890] Train loss: 0.0465 | Valid loss: 0.0292\n",
      "[Batch 13900] Train loss: 0.0064 | Valid loss: 0.1810\n",
      "[Batch 13910] Train loss: 0.0194 | Valid loss: 0.1448\n",
      "[Batch 13920] Train loss: 0.0404 | Valid loss: 0.1869\n",
      "[Batch 13930] Train loss: 0.0698 | Valid loss: 0.0508\n",
      "[Batch 13940] Train loss: 0.1182 | Valid loss: 0.1434\n",
      "[Batch 13950] Train loss: 0.1790 | Valid loss: 0.1327\n",
      "[Batch 13960] Train loss: 0.0668 | Valid loss: 0.3297\n",
      "[Batch 13970] Train loss: 0.3752 | Valid loss: 0.3986\n",
      "[Batch 13980] Train loss: 0.0744 | Valid loss: 0.0419\n",
      "[Batch 13990] Train loss: 0.1555 | Valid loss: 0.1225\n",
      "[Batch 14000] Train loss: 0.0758 | Valid loss: 0.0428\n",
      "Model is saved.\n",
      "[Batch 14010] Train loss: 0.2942 | Valid loss: 0.0602\n",
      "[Batch 14020] Train loss: 0.0184 | Valid loss: 0.1234\n",
      "[Batch 14030] Train loss: 0.1394 | Valid loss: 0.0599\n",
      "[Batch 14040] Train loss: 0.0326 | Valid loss: 0.3076\n",
      "[Batch 14050] Train loss: 0.6019 | Valid loss: 0.0705\n",
      "[Batch 14060] Train loss: 0.0594 | Valid loss: 0.1349\n",
      "[Batch 14070] Train loss: 0.0280 | Valid loss: 0.0529\n",
      "[Batch 14080] Train loss: 0.0636 | Valid loss: 0.0360\n",
      "[Batch 14090] Train loss: 0.0145 | Valid loss: 0.3764\n",
      "[Batch 14100] Train loss: 0.0489 | Valid loss: 0.4138\n",
      "[Batch 14110] Train loss: 0.2200 | Valid loss: 0.1384\n",
      "[Batch 14120] Train loss: 0.1176 | Valid loss: 0.0426\n",
      "[Batch 14130] Train loss: 0.2476 | Valid loss: 0.0350\n",
      "[Batch 14140] Train loss: 0.3615 | Valid loss: 0.1400\n",
      "[Batch 14150] Train loss: 0.6192 | Valid loss: 0.1446\n",
      "[Batch 14160] Train loss: 0.0241 | Valid loss: 0.2638\n",
      "[Batch 14170] Train loss: 0.0272 | Valid loss: 0.0602\n",
      "[Batch 14180] Train loss: 0.0432 | Valid loss: 0.5845\n",
      "[Batch 14190] Train loss: 0.0327 | Valid loss: 0.0595\n",
      "[Batch 14200] Train loss: 0.3496 | Valid loss: 0.0760\n",
      "[Batch 14210] Train loss: 0.0110 | Valid loss: 0.0158\n",
      "[Batch 14220] Train loss: 0.2124 | Valid loss: 0.1211\n",
      "[Batch 14230] Train loss: 0.2625 | Valid loss: 0.0567\n",
      "[Batch 14240] Train loss: 0.0262 | Valid loss: 0.7115\n",
      "[Batch 14250] Train loss: 0.0403 | Valid loss: 0.0787\n",
      "[Batch 14260] Train loss: 1.1625 | Valid loss: 0.0381\n",
      "[Batch 14270] Train loss: 0.1796 | Valid loss: 0.4271\n",
      "[Batch 14280] Train loss: 0.1176 | Valid loss: 0.1508\n",
      "[Batch 14290] Train loss: 0.0732 | Valid loss: 0.1309\n",
      "[Batch 14300] Train loss: 0.0171 | Valid loss: 0.0608\n",
      "[Batch 14310] Train loss: 0.4074 | Valid loss: 0.2976\n",
      "[Batch 14320] Train loss: 0.2127 | Valid loss: 0.0373\n",
      "[Batch 14330] Train loss: 0.0409 | Valid loss: 0.0500\n",
      "[Batch 14340] Train loss: 0.0208 | Valid loss: 0.1752\n",
      "[Batch 14350] Train loss: 0.0153 | Valid loss: 0.0281\n",
      "[Batch 14360] Train loss: 0.0316 | Valid loss: 0.0636\n",
      "[Batch 14370] Train loss: 0.1252 | Valid loss: 0.1723\n",
      "[Batch 14380] Train loss: 0.2627 | Valid loss: 0.0147\n",
      "[Batch 14390] Train loss: 0.0449 | Valid loss: 0.8771\n",
      "[Batch 14400] Train loss: 0.0875 | Valid loss: 0.1174\n",
      "[Batch 14410] Train loss: 0.0378 | Valid loss: 0.0542\n",
      "[Batch 14420] Train loss: 0.0370 | Valid loss: 0.0373\n",
      "[Batch 14430] Train loss: 0.0429 | Valid loss: 0.1314\n",
      "[Batch 14440] Train loss: 0.0374 | Valid loss: 0.0106\n",
      "[Batch 14450] Train loss: 0.0119 | Valid loss: 0.1270\n",
      "[Batch 14460] Train loss: 0.0227 | Valid loss: 0.0662\n",
      "[Batch 14470] Train loss: 0.0797 | Valid loss: 0.1220\n",
      "[Batch 14480] Train loss: 0.0991 | Valid loss: 0.0506\n",
      "[Batch 14490] Train loss: 0.1164 | Valid loss: 0.0289\n",
      "[Batch 14500] Train loss: 0.2702 | Valid loss: 0.0661\n",
      "[Batch 14510] Train loss: 0.0231 | Valid loss: 0.1646\n",
      "[Batch 14520] Train loss: 0.0615 | Valid loss: 0.0062\n",
      "[Batch 14530] Train loss: 0.0484 | Valid loss: 0.0572\n",
      "[Batch 14540] Train loss: 0.2124 | Valid loss: 0.0771\n",
      "[Batch 14550] Train loss: 0.0583 | Valid loss: 0.3018\n",
      "[Batch 14560] Train loss: 0.1524 | Valid loss: 0.0132\n",
      "[Batch 14570] Train loss: 0.5296 | Valid loss: 0.0524\n",
      "[Batch 14580] Train loss: 0.1110 | Valid loss: 0.0982\n",
      "[Batch 14590] Train loss: 0.0904 | Valid loss: 0.4556\n",
      "[Batch 14600] Train loss: 0.5376 | Valid loss: 0.0385\n",
      "[Batch 14610] Train loss: 0.0731 | Valid loss: 0.1063\n",
      "[Batch 14620] Train loss: 0.1650 | Valid loss: 0.0371\n",
      "[Batch 14630] Train loss: 1.7620 | Valid loss: 0.2120\n",
      "[Batch 14640] Train loss: 0.1124 | Valid loss: 0.1879\n",
      "[Batch 14650] Train loss: 0.0519 | Valid loss: 0.1146\n",
      "[Batch 14660] Train loss: 0.0404 | Valid loss: 0.0371\n",
      "[Batch 14670] Train loss: 0.2768 | Valid loss: 0.1427\n",
      "[Batch 14680] Train loss: 0.1327 | Valid loss: 0.1151\n",
      "[Batch 14690] Train loss: 0.1029 | Valid loss: 0.3572\n",
      "[Batch 14700] Train loss: 0.0386 | Valid loss: 0.0218\n",
      "[Batch 14710] Train loss: 0.0889 | Valid loss: 0.0323\n",
      "[Batch 14720] Train loss: 0.0271 | Valid loss: 0.0189\n",
      "[Batch 14730] Train loss: 0.0289 | Valid loss: 0.5750\n",
      "[Batch 14740] Train loss: 0.1386 | Valid loss: 0.3685\n",
      "[Batch 14750] Train loss: 0.1226 | Valid loss: 0.0348\n",
      "[Batch 14760] Train loss: 0.1519 | Valid loss: 0.0139\n",
      "[Batch 14770] Train loss: 0.0491 | Valid loss: 0.0683\n",
      "[Batch 14780] Train loss: 0.7283 | Valid loss: 0.1526\n",
      "[Batch 14790] Train loss: 0.2277 | Valid loss: 0.6105\n",
      "[Batch 14800] Train loss: 0.1542 | Valid loss: 0.0525\n",
      "[Batch 14810] Train loss: 0.1920 | Valid loss: 0.0489\n",
      "[Batch 14820] Train loss: 0.1243 | Valid loss: 0.0428\n",
      "[Batch 14830] Train loss: 0.1312 | Valid loss: 0.1698\n",
      "[Batch 14840] Train loss: 0.0879 | Valid loss: 0.0299\n",
      "[Batch 14850] Train loss: 0.0332 | Valid loss: 0.1815\n",
      "[Batch 14860] Train loss: 0.0900 | Valid loss: 0.1444\n",
      "[Batch 14870] Train loss: 0.1286 | Valid loss: 0.0203\n",
      "[Batch 14880] Train loss: 0.6011 | Valid loss: 0.0945\n",
      "[Batch 14890] Train loss: 0.0851 | Valid loss: 0.0960\n",
      "[Batch 14900] Train loss: 0.0727 | Valid loss: 0.1494\n",
      "[Batch 14910] Train loss: 0.0296 | Valid loss: 0.0409\n",
      "[Batch 14920] Train loss: 0.0729 | Valid loss: 0.2127\n",
      "[Batch 14930] Train loss: 0.0960 | Valid loss: 0.2448\n",
      "[Batch 14940] Train loss: 0.0238 | Valid loss: 0.0399\n",
      "[Batch 14950] Train loss: 0.0620 | Valid loss: 0.0361\n",
      "[Batch 14960] Train loss: 0.0250 | Valid loss: 0.0643\n",
      "[Batch 14970] Train loss: 0.0593 | Valid loss: 0.1443\n",
      "[Batch 14980] Train loss: 0.0368 | Valid loss: 0.0828\n",
      "[Batch 14990] Train loss: 0.0455 | Valid loss: 0.0245\n",
      "[Batch 15000] Train loss: 0.0971 | Valid loss: 0.0343\n",
      "Model is saved.\n",
      "[Batch 15010] Train loss: 0.0994 | Valid loss: 0.0785\n",
      "[Batch 15020] Train loss: 0.0358 | Valid loss: 0.2211\n",
      "[Batch 15030] Train loss: 0.0809 | Valid loss: 0.1081\n",
      "[Batch 15040] Train loss: 0.0103 | Valid loss: 0.8927\n",
      "[Batch 15050] Train loss: 0.0443 | Valid loss: 0.0428\n",
      "[Batch 15060] Train loss: 0.0735 | Valid loss: 0.2005\n",
      "[Batch 15070] Train loss: 0.0452 | Valid loss: 0.5733\n",
      "[Batch 15080] Train loss: 0.1374 | Valid loss: 0.0592\n",
      "[Batch 15090] Train loss: 0.0964 | Valid loss: 0.1348\n",
      "[Batch 15100] Train loss: 0.4384 | Valid loss: 0.0635\n",
      "[Batch 15110] Train loss: 0.1239 | Valid loss: 0.0869\n",
      "[Batch 15120] Train loss: 0.0457 | Valid loss: 0.0417\n",
      "[Batch 15130] Train loss: 0.0288 | Valid loss: 0.0300\n",
      "[Batch 15140] Train loss: 0.1057 | Valid loss: 0.1736\n",
      "[Batch 15150] Train loss: 0.2226 | Valid loss: 0.0750\n",
      "[Batch 15160] Train loss: 0.0411 | Valid loss: 0.4460\n",
      "[Batch 15170] Train loss: 0.0380 | Valid loss: 0.0161\n",
      "[Batch 15180] Train loss: 0.0614 | Valid loss: 0.0125\n",
      "[Batch 15190] Train loss: 0.3526 | Valid loss: 0.0862\n",
      "[Batch 15200] Train loss: 0.1018 | Valid loss: 0.0865\n",
      "[Batch 15210] Train loss: 0.0448 | Valid loss: 0.0402\n",
      "[Batch 15220] Train loss: 0.0223 | Valid loss: 0.4907\n",
      "[Batch 15230] Train loss: 0.0796 | Valid loss: 0.1782\n",
      "[Batch 15240] Train loss: 0.0944 | Valid loss: 0.3407\n",
      "[Batch 15250] Train loss: 0.1757 | Valid loss: 0.0826\n",
      "[Batch 15260] Train loss: 0.0978 | Valid loss: 0.1378\n",
      "[Batch 15270] Train loss: 0.1799 | Valid loss: 0.2077\n",
      "[Batch 15280] Train loss: 0.1044 | Valid loss: 0.1937\n",
      "[Batch 15290] Train loss: 0.0614 | Valid loss: 0.0377\n",
      "[Batch 15300] Train loss: 0.0522 | Valid loss: 0.1021\n",
      "[Batch 15310] Train loss: 0.0625 | Valid loss: 0.0685\n",
      "[Batch 15320] Train loss: 0.2342 | Valid loss: 0.2641\n",
      "[Batch 15330] Train loss: 0.0861 | Valid loss: 0.3860\n",
      "[Batch 15340] Train loss: 0.3168 | Valid loss: 0.0245\n",
      "[Batch 15350] Train loss: 0.0201 | Valid loss: 0.0755\n",
      "[Batch 15360] Train loss: 0.1191 | Valid loss: 0.1154\n",
      "[Batch 15370] Train loss: 0.0165 | Valid loss: 0.6548\n",
      "[Batch 15380] Train loss: 0.0134 | Valid loss: 0.4666\n",
      "[Batch 15390] Train loss: 0.0344 | Valid loss: 0.0928\n",
      "[Batch 15400] Train loss: 0.0461 | Valid loss: 0.1558\n",
      "[Batch 15410] Train loss: 0.0423 | Valid loss: 0.0733\n",
      "[Batch 15420] Train loss: 0.0957 | Valid loss: 0.1173\n",
      "[Batch 15430] Train loss: 0.0481 | Valid loss: 0.0520\n",
      "[Batch 15440] Train loss: 0.0675 | Valid loss: 0.0785\n",
      "[Batch 15450] Train loss: 0.0602 | Valid loss: 0.0703\n",
      "[Batch 15460] Train loss: 0.1858 | Valid loss: 0.0777\n",
      "[Batch 15470] Train loss: 0.0398 | Valid loss: 0.0502\n",
      "[Batch 15480] Train loss: 0.0290 | Valid loss: 0.1630\n",
      "[Batch 15490] Train loss: 0.0465 | Valid loss: 0.0303\n",
      "[Batch 15500] Train loss: 0.0180 | Valid loss: 0.4232\n",
      "[Batch 15510] Train loss: 0.2055 | Valid loss: 0.0216\n",
      "[Batch 15520] Train loss: 0.0317 | Valid loss: 0.0199\n",
      "[Batch 15530] Train loss: 0.0548 | Valid loss: 0.0439\n",
      "[Batch 15540] Train loss: 0.0467 | Valid loss: 0.0334\n",
      "[Batch 15550] Train loss: 0.0408 | Valid loss: 0.0365\n",
      "[Batch 15560] Train loss: 0.0829 | Valid loss: 0.0733\n",
      "[Batch 15570] Train loss: 0.1413 | Valid loss: 0.0483\n",
      "[Batch 15580] Train loss: 0.0628 | Valid loss: 0.0564\n",
      "[Batch 15590] Train loss: 0.0196 | Valid loss: 0.1945\n",
      "[Batch 15600] Train loss: 0.0354 | Valid loss: 0.0495\n",
      "[Batch 15610] Train loss: 0.2582 | Valid loss: 0.0846\n",
      "[Batch 15620] Train loss: 0.0678 | Valid loss: 0.0260\n",
      "[Batch 15630] Train loss: 0.0532 | Valid loss: 0.0820\n",
      "[Batch 15640] Train loss: 0.0594 | Valid loss: 0.0341\n",
      "[Batch 15650] Train loss: 0.0422 | Valid loss: 0.0148\n",
      "[Batch 15660] Train loss: 0.1832 | Valid loss: 0.0829\n",
      "[Batch 15670] Train loss: 0.0418 | Valid loss: 0.0416\n",
      "[Batch 15680] Train loss: 0.3100 | Valid loss: 0.0635\n",
      "[Batch 15690] Train loss: 0.2000 | Valid loss: 0.0274\n",
      "[Batch 15700] Train loss: 0.1243 | Valid loss: 0.2819\n",
      "[Batch 15710] Train loss: 0.0787 | Valid loss: 0.1303\n",
      "[Batch 15720] Train loss: 0.2630 | Valid loss: 0.0761\n",
      "[Batch 15730] Train loss: 0.0427 | Valid loss: 0.0370\n",
      "[Batch 15740] Train loss: 0.0952 | Valid loss: 0.0233\n",
      "[Batch 15750] Train loss: 0.6678 | Valid loss: 0.2718\n",
      "[Batch 15760] Train loss: 0.0456 | Valid loss: 0.2088\n",
      "[Batch 15770] Train loss: 0.2375 | Valid loss: 0.0170\n",
      "[Batch 15780] Train loss: 0.0340 | Valid loss: 0.0285\n",
      "[Batch 15790] Train loss: 0.0115 | Valid loss: 0.1410\n",
      "[Batch 15800] Train loss: 0.0970 | Valid loss: 0.0723\n",
      "[Batch 15810] Train loss: 0.1140 | Valid loss: 0.0747\n",
      "[Batch 15820] Train loss: 0.1142 | Valid loss: 0.0693\n",
      "[Batch 15830] Train loss: 0.0257 | Valid loss: 0.0513\n",
      "[Batch 15840] Train loss: 0.0274 | Valid loss: 0.4590\n",
      "[Batch 15850] Train loss: 0.0204 | Valid loss: 0.0207\n",
      "[Batch 15860] Train loss: 0.0597 | Valid loss: 0.0296\n",
      "[Batch 15870] Train loss: 0.4235 | Valid loss: 0.0217\n",
      "[Batch 15880] Train loss: 0.0258 | Valid loss: 0.0087\n",
      "[Batch 15890] Train loss: 0.0423 | Valid loss: 0.1810\n",
      "[Batch 15900] Train loss: 0.0238 | Valid loss: 0.0305\n",
      "[Batch 15910] Train loss: 0.0861 | Valid loss: 0.0477\n",
      "[Batch 15920] Train loss: 0.1937 | Valid loss: 0.0539\n",
      "[Batch 15930] Train loss: 0.3025 | Valid loss: 0.1728\n",
      "[Batch 15940] Train loss: 0.0413 | Valid loss: 0.0290\n",
      "[Batch 15950] Train loss: 0.0882 | Valid loss: 0.0679\n",
      "[Batch 15960] Train loss: 0.0427 | Valid loss: 0.0686\n",
      "[Batch 15970] Train loss: 0.1207 | Valid loss: 0.9881\n",
      "[Batch 15980] Train loss: 0.1930 | Valid loss: 0.1230\n",
      "[Batch 15990] Train loss: 0.0464 | Valid loss: 0.1046\n",
      "[Batch 16000] Train loss: 0.0934 | Valid loss: 0.0405\n",
      "Model is saved.\n",
      "[Batch 16010] Train loss: 0.2581 | Valid loss: 0.0722\n",
      "[Batch 16020] Train loss: 0.0308 | Valid loss: 0.0654\n",
      "[Batch 16030] Train loss: 0.1042 | Valid loss: 0.1550\n",
      "[Batch 16040] Train loss: 0.0935 | Valid loss: 0.0725\n",
      "[Batch 16050] Train loss: 0.1324 | Valid loss: 0.0883\n",
      "[Batch 16060] Train loss: 0.0753 | Valid loss: 0.1363\n",
      "[Batch 16070] Train loss: 0.3721 | Valid loss: 0.1557\n",
      "[Batch 16080] Train loss: 0.1254 | Valid loss: 0.0426\n",
      "[Batch 16090] Train loss: 0.0370 | Valid loss: 0.0404\n",
      "[Batch 16100] Train loss: 0.0181 | Valid loss: 0.3423\n",
      "[Batch 16110] Train loss: 0.0061 | Valid loss: 0.2784\n",
      "[Batch 16120] Train loss: 0.5358 | Valid loss: 0.3202\n",
      "[Batch 16130] Train loss: 0.0412 | Valid loss: 0.0189\n",
      "[Batch 16140] Train loss: 0.1207 | Valid loss: 0.4325\n",
      "[Batch 16150] Train loss: 0.2713 | Valid loss: 0.0221\n",
      "[Batch 16160] Train loss: 0.1208 | Valid loss: 0.1658\n",
      "[Batch 16170] Train loss: 0.0279 | Valid loss: 0.0735\n",
      "[Batch 16180] Train loss: 0.4393 | Valid loss: 0.0815\n",
      "[Batch 16190] Train loss: 0.0306 | Valid loss: 0.0992\n",
      "[Batch 16200] Train loss: 0.0253 | Valid loss: 0.1360\n",
      "[Batch 16210] Train loss: 0.0929 | Valid loss: 0.1055\n",
      "[Batch 16220] Train loss: 0.0352 | Valid loss: 0.4165\n",
      "[Batch 16230] Train loss: 0.0189 | Valid loss: 0.0566\n",
      "[Batch 16240] Train loss: 0.6622 | Valid loss: 0.0197\n",
      "[Batch 16250] Train loss: 0.1837 | Valid loss: 0.0817\n",
      "[Batch 16260] Train loss: 0.1435 | Valid loss: 0.0150\n",
      "[Batch 16270] Train loss: 0.0748 | Valid loss: 0.0298\n",
      "[Batch 16280] Train loss: 0.0310 | Valid loss: 0.0457\n",
      "[Batch 16290] Train loss: 0.1135 | Valid loss: 0.1973\n",
      "[Batch 16300] Train loss: 0.0131 | Valid loss: 0.4725\n",
      "[Batch 16310] Train loss: 0.1455 | Valid loss: 0.0814\n",
      "[Batch 16320] Train loss: 0.0520 | Valid loss: 0.4407\n",
      "[Batch 16330] Train loss: 0.0622 | Valid loss: 0.0210\n",
      "[Batch 16340] Train loss: 0.0519 | Valid loss: 0.3062\n",
      "[Batch 16350] Train loss: 0.4220 | Valid loss: 0.0982\n",
      "[Batch 16360] Train loss: 0.1242 | Valid loss: 0.1062\n",
      "[Batch 16370] Train loss: 0.0689 | Valid loss: 0.2648\n",
      "[Batch 16380] Train loss: 0.0927 | Valid loss: 0.0709\n",
      "[Batch 16390] Train loss: 0.0284 | Valid loss: 0.7999\n",
      "[Batch 16400] Train loss: 0.0796 | Valid loss: 0.1206\n",
      "[Batch 16410] Train loss: 0.1926 | Valid loss: 0.0461\n",
      "[Batch 16420] Train loss: 0.0981 | Valid loss: 0.5189\n",
      "[Batch 16430] Train loss: 0.0087 | Valid loss: 0.0324\n",
      "[Batch 16440] Train loss: 0.0157 | Valid loss: 0.8112\n",
      "[Batch 16450] Train loss: 0.2623 | Valid loss: 0.0111\n",
      "[Batch 16460] Train loss: 0.0627 | Valid loss: 0.0375\n",
      "[Batch 16470] Train loss: 0.0208 | Valid loss: 0.0180\n",
      "[Batch 16480] Train loss: 0.2038 | Valid loss: 0.0184\n",
      "[Batch 16490] Train loss: 0.0413 | Valid loss: 0.0712\n",
      "[Batch 16500] Train loss: 0.0284 | Valid loss: 0.1037\n",
      "[Batch 16510] Train loss: 0.0403 | Valid loss: 0.0477\n",
      "[Batch 16520] Train loss: 0.0680 | Valid loss: 0.0838\n",
      "[Batch 16530] Train loss: 0.0235 | Valid loss: 0.0526\n",
      "[Batch 16540] Train loss: 0.1606 | Valid loss: 0.0351\n",
      "[Batch 16550] Train loss: 0.0857 | Valid loss: 0.1051\n",
      "[Batch 16560] Train loss: 0.0395 | Valid loss: 0.2592\n",
      "[Batch 16570] Train loss: 0.0745 | Valid loss: 0.0493\n",
      "[Batch 16580] Train loss: 0.0438 | Valid loss: 0.1006\n",
      "[Batch 16590] Train loss: 0.3576 | Valid loss: 0.0332\n",
      "[Batch 16600] Train loss: 0.1888 | Valid loss: 0.1961\n",
      "[Batch 16610] Train loss: 0.0657 | Valid loss: 0.0782\n",
      "[Batch 16620] Train loss: 0.3274 | Valid loss: 0.0548\n",
      "[Batch 16630] Train loss: 0.0251 | Valid loss: 0.2659\n",
      "[Batch 16640] Train loss: 0.0887 | Valid loss: 0.0610\n",
      "[Batch 16650] Train loss: 0.1968 | Valid loss: 0.7438\n",
      "[Batch 16660] Train loss: 0.1230 | Valid loss: 0.0397\n",
      "[Batch 16670] Train loss: 0.0354 | Valid loss: 0.0526\n",
      "[Batch 16680] Train loss: 0.0457 | Valid loss: 0.1922\n",
      "[Batch 16690] Train loss: 0.0965 | Valid loss: 0.2639\n",
      "[Batch 16700] Train loss: 0.2806 | Valid loss: 0.2030\n",
      "[Batch 16710] Train loss: 0.0376 | Valid loss: 0.1939\n",
      "[Batch 16720] Train loss: 0.1456 | Valid loss: 0.2027\n",
      "[Batch 16730] Train loss: 0.0185 | Valid loss: 0.0675\n",
      "[Batch 16740] Train loss: 0.1530 | Valid loss: 0.0810\n",
      "[Batch 16750] Train loss: 0.0894 | Valid loss: 0.3961\n",
      "[Batch 16760] Train loss: 0.4022 | Valid loss: 0.0245\n",
      "[Batch 16770] Train loss: 0.0526 | Valid loss: 0.0414\n",
      "[Batch 16780] Train loss: 0.1504 | Valid loss: 0.0349\n",
      "[Batch 16790] Train loss: 0.0495 | Valid loss: 0.0678\n",
      "[Batch 16800] Train loss: 0.0651 | Valid loss: 0.0416\n",
      "[Batch 16810] Train loss: 0.3211 | Valid loss: 0.0221\n",
      "[Batch 16820] Train loss: 0.1374 | Valid loss: 0.1158\n",
      "[Batch 16830] Train loss: 0.2081 | Valid loss: 0.1573\n",
      "[Batch 16840] Train loss: 0.0113 | Valid loss: 0.1554\n",
      "[Batch 16850] Train loss: 0.0749 | Valid loss: 0.5534\n",
      "[Batch 16860] Train loss: 0.3909 | Valid loss: 0.3507\n",
      "[Batch 16870] Train loss: 0.3421 | Valid loss: 0.2196\n",
      "[Batch 16880] Train loss: 0.0318 | Valid loss: 0.1628\n",
      "[Batch 16890] Train loss: 0.0346 | Valid loss: 0.0432\n",
      "[Batch 16900] Train loss: 0.0621 | Valid loss: 0.0987\n",
      "[Batch 16910] Train loss: 0.0597 | Valid loss: 0.0387\n",
      "[Batch 16920] Train loss: 0.0465 | Valid loss: 0.0545\n",
      "[Batch 16930] Train loss: 0.0205 | Valid loss: 0.2671\n",
      "[Batch 16940] Train loss: 0.0591 | Valid loss: 0.0397\n",
      "[Batch 16950] Train loss: 0.0236 | Valid loss: 0.2050\n",
      "[Batch 16960] Train loss: 0.0428 | Valid loss: 0.0410\n",
      "[Batch 16970] Train loss: 0.0532 | Valid loss: 0.3879\n",
      "[Batch 16980] Train loss: 0.0194 | Valid loss: 0.1225\n",
      "[Batch 16990] Train loss: 0.0646 | Valid loss: 0.1531\n",
      "[Batch 17000] Train loss: 0.0358 | Valid loss: 0.0805\n",
      "Model is saved.\n",
      "[Batch 17010] Train loss: 0.0285 | Valid loss: 0.0313\n",
      "[Batch 17020] Train loss: 0.0312 | Valid loss: 0.0205\n",
      "[Batch 17030] Train loss: 0.2713 | Valid loss: 0.0885\n",
      "[Batch 17040] Train loss: 0.0427 | Valid loss: 0.0966\n",
      "[Batch 17050] Train loss: 0.1131 | Valid loss: 0.0252\n",
      "[Batch 17060] Train loss: 0.0539 | Valid loss: 0.4877\n",
      "[Batch 17070] Train loss: 0.0626 | Valid loss: 0.1121\n",
      "[Batch 17080] Train loss: 0.0708 | Valid loss: 0.1579\n",
      "[Batch 17090] Train loss: 0.0739 | Valid loss: 0.2623\n",
      "[Batch 17100] Train loss: 0.0311 | Valid loss: 0.0353\n",
      "[Batch 17110] Train loss: 0.0187 | Valid loss: 0.0474\n",
      "[Batch 17120] Train loss: 0.0776 | Valid loss: 0.0704\n",
      "[Batch 17130] Train loss: 0.0665 | Valid loss: 0.1454\n",
      "[Batch 17140] Train loss: 0.0454 | Valid loss: 0.0208\n",
      "[Batch 17150] Train loss: 0.0480 | Valid loss: 0.0344\n",
      "[Batch 17160] Train loss: 0.1040 | Valid loss: 0.0365\n",
      "[Batch 17170] Train loss: 0.2704 | Valid loss: 0.0295\n",
      "[Batch 17180] Train loss: 0.1199 | Valid loss: 0.0864\n",
      "[Batch 17190] Train loss: 0.0572 | Valid loss: 0.0560\n",
      "[Batch 17200] Train loss: 0.0596 | Valid loss: 0.2132\n",
      "[Batch 17210] Train loss: 0.0832 | Valid loss: 0.1986\n",
      "[Batch 17220] Train loss: 0.0583 | Valid loss: 0.0239\n",
      "[Batch 17230] Train loss: 0.0377 | Valid loss: 0.1433\n",
      "[Batch 17240] Train loss: 0.0488 | Valid loss: 0.0540\n",
      "[Batch 17250] Train loss: 0.0304 | Valid loss: 0.0892\n",
      "[Batch 17260] Train loss: 0.3185 | Valid loss: 0.0368\n",
      "[Batch 17270] Train loss: 0.2604 | Valid loss: 0.1777\n",
      "[Batch 17280] Train loss: 0.1177 | Valid loss: 0.0602\n",
      "[Batch 17290] Train loss: 0.0446 | Valid loss: 0.5044\n",
      "[Batch 17300] Train loss: 0.2713 | Valid loss: 0.0204\n",
      "[Batch 17310] Train loss: 0.0917 | Valid loss: 0.0188\n",
      "[Batch 17320] Train loss: 0.4649 | Valid loss: 0.0403\n",
      "[Batch 17330] Train loss: 0.0359 | Valid loss: 0.4376\n",
      "[Batch 17340] Train loss: 0.0481 | Valid loss: 0.1910\n",
      "[Batch 17350] Train loss: 0.0238 | Valid loss: 0.0531\n",
      "[Batch 17360] Train loss: 0.0867 | Valid loss: 0.0175\n",
      "[Batch 17370] Train loss: 0.2495 | Valid loss: 0.0277\n",
      "[Batch 17380] Train loss: 0.0346 | Valid loss: 0.0362\n",
      "[Batch 17390] Train loss: 0.0085 | Valid loss: 0.0254\n",
      "[Batch 17400] Train loss: 0.2891 | Valid loss: 0.0482\n",
      "[Batch 17410] Train loss: 0.0778 | Valid loss: 0.5854\n",
      "[Batch 17420] Train loss: 0.0508 | Valid loss: 0.0312\n",
      "[Batch 17430] Train loss: 0.0323 | Valid loss: 0.0285\n",
      "[Batch 17440] Train loss: 0.0945 | Valid loss: 0.0329\n",
      "[Batch 17450] Train loss: 0.0399 | Valid loss: 0.1234\n"
     ]
    }
   ],
   "source": [
    "# Train the model.\n",
    "sess.run(tf.global_variables_initializer())\n",
    "\n",
    "for b_idx in range(MAX_BATCHES):\n",
    "    train_batch = train_ds.next_batch(1, shuffle=True)\n",
    "    train_dict = {t_input['image']: train_batch[0], t_input['gt_box_set']: train_batch[1]}\n",
    "    \n",
    "    if b_idx % LOG_PERIOD == 0:\n",
    "        _, s, train_loss = sess.run([train_op, merged_summaries, t_total_loss], feed_dict=train_dict)\n",
    "        train_writer.add_summary(s, b_idx)\n",
    "        train_writer.flush()\n",
    "        \n",
    "        valid_batch = valid_ds.next_batch(1, shuffle=True)\n",
    "        valid_dict = {t_input['image']: valid_batch[0], t_input['gt_box_set']: valid_batch[1]}\n",
    "        s, valid_loss = sess.run([merged_summaries, t_total_loss], feed_dict=valid_dict)\n",
    "        valid_writer.add_summary(s, b_idx)\n",
    "        valid_writer.flush()\n",
    "        \n",
    "        print('[Batch {}] Train loss: {:.4f} | Valid loss: {:.4f}'.format(b_idx, train_loss, valid_loss))\n",
    "    else:\n",
    "        _ = sess.run(train_op, feed_dict=train_dict)\n",
    "    \n",
    "    if b_idx != 0 and b_idx % SAVE_PERIOD == 0:\n",
    "        saver.save(sess, osp.join(exp_dir, 'trained_model'))\n",
    "        print('Model is saved.')"
   ]
  }
 ],
 "metadata": {
  "accelerator": "GPU",
  "colab": {
   "collapsed_sections": [],
   "name": "simple_faster_rcnn_train.ipynb",
   "provenance": [],
   "version": "0.3.2"
  },
  "kernelspec": {
   "display_name": "Python 3",
   "name": "python3"
  }
 },
 "nbformat": 4,
 "nbformat_minor": 0
}
