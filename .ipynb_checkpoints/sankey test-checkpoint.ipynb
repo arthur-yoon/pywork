{
 "cells": [
  {
   "cell_type": "code",
   "execution_count": 8,
   "metadata": {},
   "outputs": [],
   "source": [
    "import json\n",
    "import urllib.request as urllib\n",
    "\n",
    "import plotly.plotly as py\n",
    "import pandas as pd\n",
    "import numpy as np"
   ]
  },
  {
   "cell_type": "code",
   "execution_count": 15,
   "metadata": {},
   "outputs": [],
   "source": [
    "py.plotly.tools.set_credentials_file(username='dev.seokwon', api_key='EZtiJeB0B86vWnpd9g0z')"
   ]
  },
  {
   "cell_type": "code",
   "execution_count": 9,
   "metadata": {},
   "outputs": [],
   "source": [
    "url = 'https://rawgit.com/monfera/plotly-webgl-parcoords/sankey-example-01/drones.json'\n",
    "response = urllib.urlopen(url)\n",
    "data = json.loads(response.read())"
   ]
  },
  {
   "cell_type": "code",
   "execution_count": 10,
   "metadata": {},
   "outputs": [],
   "source": [
    "label = []\n",
    "for x in data['data'][0]['nodes']:\n",
    "    label.append(x['label'])\n",
    "    \n",
    "    \n",
    "linkSource = []\n",
    "linkValue = []    \n",
    "linkTarget = []\n",
    "linkLabel = []\n",
    "for x in data['data'][0]['links']:\n",
    "    linkLabel.append(x['label'])\n",
    "    linkSource.append(x['source'])\n",
    "    linkValue.append(x['value'])\n",
    "    linkTarget.append(x['target'])  "
   ]
  },
  {
   "cell_type": "code",
   "execution_count": 16,
   "metadata": {},
   "outputs": [
    {
     "name": "stderr",
     "output_type": "stream",
     "text": [
      "/anaconda3/lib/python3.7/site-packages/IPython/core/display.py:689: UserWarning:\n",
      "\n",
      "Consider using IPython.display.IFrame instead\n",
      "\n"
     ]
    },
    {
     "data": {
      "text/html": [
       "<iframe id=\"igraph\" scrolling=\"no\" style=\"border:none;\" seamless=\"seamless\" src=\"https://plot.ly/~dev.seokwon/2.embed\" height=\"1250px\" width=\"1000px\"></iframe>"
      ],
      "text/plain": [
       "<chart_studio.tools.PlotlyDisplay object>"
      ]
     },
     "execution_count": 16,
     "metadata": {},
     "output_type": "execute_result"
    }
   ],
   "source": [
    "data_trace = dict(\n",
    "    type='sankey',\n",
    "    domain = dict(\n",
    "      x =  [0,1],\n",
    "      y =  [0,1]\n",
    "    ),\n",
    "    orientation = \"h\",\n",
    "    valueformat = \".0f\",\n",
    "    node = dict(\n",
    "      pad = 5,\n",
    "      thickness = 30,\n",
    "      line = dict(\n",
    "        color = \"black\",\n",
    "        width = 0.5\n",
    "      ),\n",
    "      label =  label\n",
    "    ),\n",
    "    link = dict(\n",
    "      source = linkSource,\n",
    "      target = linkTarget,\n",
    "      value = linkValue,\n",
    "      label =  linkLabel\n",
    "  )\n",
    ")\n",
    "\n",
    "layout =  dict(\n",
    "    title = \"Wapo example\",\n",
    "    height = 1250,\n",
    "    width = 1000,\n",
    "    font = dict(\n",
    "      size = 10\n",
    "    ),    \n",
    ")\n",
    "\n",
    "\n",
    "fig = dict(data=[data_trace], layout=layout)\n",
    "py.iplot(fig)"
   ]
  },
  {
   "cell_type": "code",
   "execution_count": null,
   "metadata": {},
   "outputs": [],
   "source": []
  },
  {
   "cell_type": "code",
   "execution_count": null,
   "metadata": {},
   "outputs": [],
   "source": []
  }
 ],
 "metadata": {
  "kernelspec": {
   "display_name": "Python 3",
   "language": "python",
   "name": "python3"
  },
  "language_info": {
   "codemirror_mode": {
    "name": "ipython",
    "version": 3
   },
   "file_extension": ".py",
   "mimetype": "text/x-python",
   "name": "python",
   "nbconvert_exporter": "python",
   "pygments_lexer": "ipython3",
   "version": "3.7.1"
  }
 },
 "nbformat": 4,
 "nbformat_minor": 2
}
